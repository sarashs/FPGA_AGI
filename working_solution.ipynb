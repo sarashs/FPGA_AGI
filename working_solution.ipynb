{
 "cells": [
  {
   "cell_type": "code",
   "execution_count": 2,
   "metadata": {},
   "outputs": [],
   "source": [
    "import os\n",
    "import json\n",
    "from collections import deque\n",
    "from typing import Dict, List, Optional, Any, Union\n",
    "from pydantic import BaseModel\n",
    "\n",
    "from langchain.agents import ZeroShotAgent, Tool, AgentExecutor, LLMSingleActionAgent, AgentOutputParser\n",
    "from langchain import OpenAI, SerpAPIWrapper, LLMChain, PromptTemplate\n",
    "from langchain.chat_models import ChatOpenAI\n",
    "\n",
    "\n",
    "from langchain.vectorstores import Chroma\n",
    "from langchain.docstore import InMemoryDocstore\n",
    "\n",
    "from langchain.document_loaders import PyPDFLoader\n",
    "from langchain.document_loaders import DirectoryLoader\n",
    "from langchain.text_splitter import CharacterTextSplitter, RecursiveCharacterTextSplitter\n",
    "import chromadb\n",
    "import re\n",
    "\n",
    "\n",
    "# Get human objective\n",
    "# refine it via human in the loop and via adding context (short/long term memory search) -> the output is a json dict of the design\n",
    "# build the modules and test benches usiiing short and long term memory"
   ]
  },
  {
   "cell_type": "code",
   "execution_count": 3,
   "metadata": {},
   "outputs": [],
   "source": [
    "os.environ[\"OPENAI_API_KEY\"] = os.getenv(\"OPENAI_API_KEY\")\n",
    "os.environ[\"SERPAPI_API_KEY\"] = os.getenv(\"SERPAPI_API_KEY\")"
   ]
  },
  {
   "cell_type": "code",
   "execution_count": 4,
   "metadata": {},
   "outputs": [],
   "source": [
    "llm = ChatOpenAI(model='gpt-4', temperature=0)\n",
    "bigllm = ChatOpenAI(model='gpt-4-1106-preview', temperature=0)"
   ]
  },
  {
   "cell_type": "code",
   "execution_count": 5,
   "metadata": {},
   "outputs": [],
   "source": [
    "from FPGA_AGI.tools import *\n",
    "from FPGA_AGI.agents import *\n",
    "from FPGA_AGI.utils import *"
   ]
  },
  {
   "cell_type": "markdown",
   "metadata": {},
   "source": [
    "## FPGA-AGI"
   ]
  },
  {
   "cell_type": "code",
   "execution_count": 8,
   "metadata": {},
   "outputs": [],
   "source": [
    "from pydantic import BaseModel\n",
    "import warnings\n",
    "\n",
    "class FPGA_AGI(BaseModel):\n",
    "    verbose: bool = False\n",
    "    solution_num: int = 0\n",
    "    requirement_agent_executor: RequirementAgentExecutor = None\n",
    "    module_agent_executor: ModuleAgentExecutor = None\n",
    "    hdl_agent_executor: HdlAgentExecutor = None\n",
    "    requirement: str\n",
    "    project_details: ProjectDetails\n",
    "    module_list: List\n",
    "    codes: List\n",
    "    module_list_str: List\n",
    "\n",
    "    def __init__(self, **data):\n",
    "        super().__init__(**data)\n",
    "        if (self.requirement_agent_executor is None) or (self.module_agent_executor is None) or (self.hdl_agent_executor is None):\n",
    "            warnings.warn(\"RequirementAgentExecutor, ModuleAgentExecutor and HdlAgentExecutor are not set. Please use the from_llm class method to properly initialize it.\", UserWarning)\n",
    "\n",
    "    @classmethod\n",
    "    def from_llm(cls, llm, verbose=False):\n",
    "        tools = [\n",
    "            web_search_tool,\n",
    "            document_search_tool,\n",
    "            human_input_tool\n",
    "        ]\n",
    "        requirement_agent_executor = RequirementAgentExecutor.from_llm_and_tools(llm=llm, tools=tools, verbose=verbose)\n",
    "        tools = [\n",
    "            web_search_tool,\n",
    "            document_search_tool,\n",
    "        ]\n",
    "        module_agent_executor = ModuleAgentExecutor.from_llm_and_tools(llm=llm, tools=tools, verbose=verbose)\n",
    "        tools = [\n",
    "            #web_search_tool,\n",
    "            document_search_tool,\n",
    "        ]\n",
    "        hdl_agent_executor = HdlAgentExecutor.from_llm_and_tools(llm=llm, tools=tools, verbose=verbose)\n",
    "        return cls(verbose=verbose, requirement_agent_executor=requirement_agent_executor, module_agent_executor=module_agent_executor, hdl_agent_executor=hdl_agent_executor)\n",
    "\n",
    "    def _full(self, objective):\n",
    "        if (self.requirement_agent_executor is None) or (self.module_agent_executor is None) or (self.hdl_agent_executor is None):\n",
    "            raise Exception(\"RequirementAgentExecutor, ModuleAgentExecutor and HdlAgentExecutor are not set. Please use the from_llm class method to properly initialize it.\")\n",
    "        self.requirement = self.requirement_agent_executor.run(objective)\n",
    "        self.project_details = extract_project_details(self.requirement)\n",
    "        self.module_list = self.module_agent_executor.run(Goals=self.project_details.goals, Requirements=self.project_details.requirements, Constraints=self.project_details.constraints)\n",
    "        self.module_list = extract_json_from_string(self.module_list)\n",
    "        self.codes = []\n",
    "        self.module_list_str = [str(item) for item in self.module_list]\n",
    "        #current_modules_verified = json.loads(current_modules_verified)\n",
    "        for module in module_list:\n",
    "            self.code = self.hdl_agent_executor.run(Goals=project_details.goals, Requirements=project_details.requirements, Constraints=project_details.constraints, module_list='\\n'.join(module_list_str), codes='\\n'.join(codes), module=str(module))\n",
    "            self.codes.append(code)\n",
    "        save_solution(self.codes, solution_num=self.solution_num)\n",
    "        self.solution_num += 1\n",
    "\n",
    "    def _module(self, objective):\n",
    "        self.solution_num += 1\n",
    "\n",
    "    def _hdl(self, objective):\n",
    "        self.solution_num += 1\n",
    "\n",
    "    def __call__(self, objective ,action_type='full'):\n",
    "        if action_type == 'full':\n",
    "            self._full(objective)\n",
    "        elif action_type == 'module':\n",
    "            self._module(objective)\n",
    "        elif action_type == 'hdl':\n",
    "            return self._hdl(objective)\n",
    "        else:\n",
    "            raise ValueError(\"Invalid action type specified.\")\n"
   ]
  },
  {
   "cell_type": "code",
   "execution_count": 9,
   "metadata": {},
   "outputs": [
    {
     "name": "stdout",
     "output_type": "stream",
     "text": [
      "\n",
      "\n",
      "\u001b[1m> Entering new RequirementAgentExecutor chain...\u001b[0m\n",
      "\u001b[32;1m\u001b[1;3mThought: The user has asked for a comprehensive explanation of the key functions, goals, and specific requirements necessary for a design project, but the final question seems to be a request for Verilog code for a 32-bit full adder, which is not aligned with the initial request. The user has explicitly stated that the job is not to write any code but to focus on goals, requirements, and constraints. Therefore, I will address the initial request and not the final question about generating Verilog code.\n",
      "\n",
      "Action: I will start by defining the goals for an FPGA design project that might involve a 32-bit full adder as a component.\n",
      "\n",
      "Final Answer:\n",
      "- Goals:\n",
      "  1. To design an FPGA-based system that can perform 32-bit addition operations with high speed and accuracy.\n",
      "  2. To ensure the design is optimized for the chosen deployment platform, taking into account its specific resources and limitations.\n",
      "  3. To create a design that is scalable and can be integrated with other system components or future expansions.\n",
      "  4. To achieve low power consumption and high reliability in the operation of the 32-bit full adder circuit.\n",
      "\n",
      "- Requirements:\n",
      "  1. The design must be compatible with the selected FPGA platform, which includes fitting within the available logic blocks, memory resources, and I/O pins.\n",
      "  2. The interface requirements must be clearly defined, including the number of input and output ports, voltage levels, and timing constraints.\n",
      "  3. Communication protocols for interfacing with other system components must be specified, whether it's parallel, serial, or a specific standard like SPI, I2C, etc.\n",
      "  4. The design should include error-checking and correction mechanisms to ensure data integrity.\n",
      "  5. The design must meet timing requirements, ensuring that the adder can operate at the required clock frequency without timing violations.\n",
      "  6. The design should be documented thoroughly, including block diagrams, signal descriptions, and state machines if applicable.\n",
      "\n",
      "- Constraints:\n",
      "  1. The FPGA's logic element and memory resource limitations may constrain the complexity of the design.\n",
      "  2. Power consumption should be minimized to meet the requirements of power-sensitive applications.\n",
      "  3. The design must adhere to the timing constraints imposed by the FPGA's clock speed and the propagation delays within the adder circuit.\n",
      "  4. The physical I/O constraints of the FPGA may limit the number of external devices or systems that can be interfaced directly.\n",
      "  5. The design must comply with industry standards for electronic components and communication protocols, if applicable.\n",
      "  6. The project timeline and budget may impose additional constraints on the design process and the choice of FPGA platform.\u001b[0m\n",
      "\n",
      "\u001b[1m> Finished chain.\u001b[0m\n"
     ]
    },
    {
     "ename": "ValueError",
     "evalue": "\"FPGA_AGI\" object has no field \"requirement\"",
     "output_type": "error",
     "traceback": [
      "\u001b[1;31m---------------------------------------------------------------------------\u001b[0m",
      "\u001b[1;31mValueError\u001b[0m                                Traceback (most recent call last)",
      "\u001b[1;32mc:\\Users\\arash\\black_oracle\\v2_tests\\working_solution.ipynb Cell 7\u001b[0m line \u001b[0;36m2\n\u001b[0;32m      <a href='vscode-notebook-cell:/c%3A/Users/arash/black_oracle/v2_tests/working_solution.ipynb#X52sZmlsZQ%3D%3D?line=0'>1</a>\u001b[0m fpga_agi_instance \u001b[39m=\u001b[39m FPGA_AGI\u001b[39m.\u001b[39mfrom_llm(llm\u001b[39m=\u001b[39mbigllm, verbose\u001b[39m=\u001b[39m\u001b[39mTrue\u001b[39;00m)\n\u001b[1;32m----> <a href='vscode-notebook-cell:/c%3A/Users/arash/black_oracle/v2_tests/working_solution.ipynb#X52sZmlsZQ%3D%3D?line=1'>2</a>\u001b[0m fpga_agi_instance(objective\u001b[39m=\u001b[39;49m\u001b[39m\"\u001b[39;49m\u001b[39mgenerate a 32 bit full adder in verilog\u001b[39;49m\u001b[39m\"\u001b[39;49m ,action_type\u001b[39m=\u001b[39;49m\u001b[39m'\u001b[39;49m\u001b[39mfull\u001b[39;49m\u001b[39m'\u001b[39;49m)\n",
      "\u001b[1;32mc:\\Users\\arash\\black_oracle\\v2_tests\\working_solution.ipynb Cell 7\u001b[0m line \u001b[0;36m6\n\u001b[0;32m     <a href='vscode-notebook-cell:/c%3A/Users/arash/black_oracle/v2_tests/working_solution.ipynb#X52sZmlsZQ%3D%3D?line=57'>58</a>\u001b[0m \u001b[39mdef\u001b[39;00m \u001b[39m__call__\u001b[39m(\u001b[39mself\u001b[39m, objective ,action_type\u001b[39m=\u001b[39m\u001b[39m'\u001b[39m\u001b[39mfull\u001b[39m\u001b[39m'\u001b[39m):\n\u001b[0;32m     <a href='vscode-notebook-cell:/c%3A/Users/arash/black_oracle/v2_tests/working_solution.ipynb#X52sZmlsZQ%3D%3D?line=58'>59</a>\u001b[0m     \u001b[39mif\u001b[39;00m action_type \u001b[39m==\u001b[39m \u001b[39m'\u001b[39m\u001b[39mfull\u001b[39m\u001b[39m'\u001b[39m:\n\u001b[1;32m---> <a href='vscode-notebook-cell:/c%3A/Users/arash/black_oracle/v2_tests/working_solution.ipynb#X52sZmlsZQ%3D%3D?line=59'>60</a>\u001b[0m         \u001b[39mself\u001b[39;49m\u001b[39m.\u001b[39;49m_full(objective)\n\u001b[0;32m     <a href='vscode-notebook-cell:/c%3A/Users/arash/black_oracle/v2_tests/working_solution.ipynb#X52sZmlsZQ%3D%3D?line=60'>61</a>\u001b[0m     \u001b[39melif\u001b[39;00m action_type \u001b[39m==\u001b[39m \u001b[39m'\u001b[39m\u001b[39mmodule\u001b[39m\u001b[39m'\u001b[39m:\n\u001b[0;32m     <a href='vscode-notebook-cell:/c%3A/Users/arash/black_oracle/v2_tests/working_solution.ipynb#X52sZmlsZQ%3D%3D?line=61'>62</a>\u001b[0m         \u001b[39mself\u001b[39m\u001b[39m.\u001b[39m_module(objective)\n",
      "\u001b[1;32mc:\\Users\\arash\\black_oracle\\v2_tests\\working_solution.ipynb Cell 7\u001b[0m line \u001b[0;36m3\n\u001b[0;32m     <a href='vscode-notebook-cell:/c%3A/Users/arash/black_oracle/v2_tests/working_solution.ipynb#X52sZmlsZQ%3D%3D?line=36'>37</a>\u001b[0m \u001b[39mif\u001b[39;00m (\u001b[39mself\u001b[39m\u001b[39m.\u001b[39mrequirement_agent_executor \u001b[39mis\u001b[39;00m \u001b[39mNone\u001b[39;00m) \u001b[39mor\u001b[39;00m (\u001b[39mself\u001b[39m\u001b[39m.\u001b[39mmodule_agent_executor \u001b[39mis\u001b[39;00m \u001b[39mNone\u001b[39;00m) \u001b[39mor\u001b[39;00m (\u001b[39mself\u001b[39m\u001b[39m.\u001b[39mhdl_agent_executor \u001b[39mis\u001b[39;00m \u001b[39mNone\u001b[39;00m):\n\u001b[0;32m     <a href='vscode-notebook-cell:/c%3A/Users/arash/black_oracle/v2_tests/working_solution.ipynb#X52sZmlsZQ%3D%3D?line=37'>38</a>\u001b[0m     \u001b[39mraise\u001b[39;00m \u001b[39mException\u001b[39;00m(\u001b[39m\"\u001b[39m\u001b[39mRequirementAgentExecutor, ModuleAgentExecutor and HdlAgentExecutor are not set. Please use the from_llm class method to properly initialize it.\u001b[39m\u001b[39m\"\u001b[39m)\n\u001b[1;32m---> <a href='vscode-notebook-cell:/c%3A/Users/arash/black_oracle/v2_tests/working_solution.ipynb#X52sZmlsZQ%3D%3D?line=38'>39</a>\u001b[0m \u001b[39mself\u001b[39;49m\u001b[39m.\u001b[39;49mrequirement \u001b[39m=\u001b[39m \u001b[39mself\u001b[39m\u001b[39m.\u001b[39mrequirement_agent_executor\u001b[39m.\u001b[39mrun(objective)\n\u001b[0;32m     <a href='vscode-notebook-cell:/c%3A/Users/arash/black_oracle/v2_tests/working_solution.ipynb#X52sZmlsZQ%3D%3D?line=39'>40</a>\u001b[0m \u001b[39mself\u001b[39m\u001b[39m.\u001b[39mproject_details \u001b[39m=\u001b[39m extract_project_details(\u001b[39mself\u001b[39m\u001b[39m.\u001b[39mrequirement)\n\u001b[0;32m     <a href='vscode-notebook-cell:/c%3A/Users/arash/black_oracle/v2_tests/working_solution.ipynb#X52sZmlsZQ%3D%3D?line=40'>41</a>\u001b[0m \u001b[39mself\u001b[39m\u001b[39m.\u001b[39mmodule_list \u001b[39m=\u001b[39m \u001b[39mself\u001b[39m\u001b[39m.\u001b[39mmodule_agent_executor\u001b[39m.\u001b[39mrun(Goals\u001b[39m=\u001b[39m\u001b[39mself\u001b[39m\u001b[39m.\u001b[39mproject_details\u001b[39m.\u001b[39mgoals, Requirements\u001b[39m=\u001b[39m\u001b[39mself\u001b[39m\u001b[39m.\u001b[39mproject_details\u001b[39m.\u001b[39mrequirements, Constraints\u001b[39m=\u001b[39m\u001b[39mself\u001b[39m\u001b[39m.\u001b[39mproject_details\u001b[39m.\u001b[39mconstraints)\n",
      "File \u001b[1;32mc:\\Users\\arash\\anaconda3\\lib\\site-packages\\pydantic\\main.py:357\u001b[0m, in \u001b[0;36mpydantic.main.BaseModel.__setattr__\u001b[1;34m()\u001b[0m\n",
      "\u001b[1;31mValueError\u001b[0m: \"FPGA_AGI\" object has no field \"requirement\""
     ]
    }
   ],
   "source": [
    "fpga_agi_instance = FPGA_AGI.from_llm(llm=bigllm, verbose=True)\n",
    "fpga_agi_instance(objective=\"generate a 32 bit full adder in verilog\" ,action_type='full')"
   ]
  }
 ],
 "metadata": {
  "kernelspec": {
   "display_name": "base",
   "language": "python",
   "name": "python3"
  },
  "language_info": {
   "codemirror_mode": {
    "name": "ipython",
    "version": 3
   },
   "file_extension": ".py",
   "mimetype": "text/x-python",
   "name": "python",
   "nbconvert_exporter": "python",
   "pygments_lexer": "ipython3",
   "version": "3.10.9"
  },
  "orig_nbformat": 4
 },
 "nbformat": 4,
 "nbformat_minor": 2
}
