{
 "cells": [
  {
   "cell_type": "code",
   "execution_count": 6,
   "metadata": {},
   "outputs": [],
   "source": [
    "import os\n",
    "import json\n",
    "from collections import deque\n",
    "from typing import Dict, List, Optional, Any, Union\n",
    "\n",
    "from langchain_openai import ChatOpenAI\n",
    "\n",
    "\n",
    "# Get human objective\n",
    "# refine it via human in the loop and via adding context (short/long term memory search) -> the output is a json dict of the design\n",
    "# build the modules and test benches usiiing short and long term memory"
   ]
  },
  {
   "cell_type": "code",
   "execution_count": 7,
   "metadata": {},
   "outputs": [],
   "source": [
    "os.environ[\"OPENAI_API_KEY\"] = os.getenv(\"OPENAI_API_KEY\")\n",
    "os.environ[\"SERPAPI_API_KEY\"] = os.getenv(\"SERPAPI_API_KEY\")"
   ]
  },
  {
   "cell_type": "code",
   "execution_count": 8,
   "metadata": {},
   "outputs": [],
   "source": [
    "llm = ChatOpenAI(model='gpt-3.5-turbo-0125', temperature=0)\n",
    "bigllm = ChatOpenAI(model='gpt-4-0125-preview', temperature=0)"
   ]
  },
  {
   "cell_type": "code",
   "execution_count": 9,
   "metadata": {},
   "outputs": [],
   "source": [
    "from langchain_community.tools.tavily_search import TavilySearchResults\n",
    "\n",
    "tools = [TavilySearchResults(max_results=3)]"
   ]
  },
  {
   "cell_type": "code",
   "execution_count": 15,
   "metadata": {},
   "outputs": [],
   "source": [
    "# modifying this such that the engine actually uses it\n",
    "tools[0].description = 'A search engine optimized for comprehensive, accurate, and trusted results. Useful for when you need to answer questions. Input should be a search query.'"
   ]
  },
  {
   "cell_type": "markdown",
   "metadata": {},
   "source": [
    "# Context for FFT"
   ]
  },
  {
   "cell_type": "code",
   "execution_count": 28,
   "metadata": {},
   "outputs": [],
   "source": [
    "from bs4 import BeautifulSoup as Soup\n",
    "from langchain_community.document_loaders.recursive_url_loader import RecursiveUrlLoader\n",
    "\n",
    "# FFT docs \n",
    "url = \"\"\"https://en.wikipedia.org/wiki/Cooley%E2%80%93Tukey_FFT_algorithm\"\"\"\n",
    "loader = RecursiveUrlLoader(\n",
    "    url=url, max_depth=20, extractor=lambda x: Soup(x, \"html.parser\").text\n",
    ")\n",
    "docs = loader.load()\n",
    "\n",
    "# Add \n",
    "#docs.extend([*docs_pydantic, *docs_sq])\n",
    "\n",
    "# Sort the list based on the URLs in 'metadata' -> 'source'\n",
    "d_sorted = sorted(docs, key=lambda x: x.metadata[\"source\"])\n",
    "d_reversed = list(reversed(d_sorted))\n",
    "\n",
    "# Concatenate the 'page_content' of each sorted dictionary\n",
    "concatenated_content = \"\\n\\n\\n --- \\n\\n\\n\".join(\n",
    "    [doc.page_content for doc in d_reversed]\n",
    ")"
   ]
  },
  {
   "cell_type": "markdown",
   "metadata": {},
   "source": [
    "# Requirement extraction chain"
   ]
  },
  {
   "cell_type": "code",
   "execution_count": 24,
   "metadata": {},
   "outputs": [],
   "source": [
    "from langchain_core.prompts import ChatPromptTemplate, MessagesPlaceholder\n",
    "\n",
    "requirement_prompt = ChatPromptTemplate.from_messages(\n",
    "    [\n",
    "        (\n",
    "            \"system\",\n",
    "            \"\"\"\n",
    "            You are very senior FPGA design engineer.\n",
    "            Your goal is to expand the input objective into a requirement document for a design. You should also take into account the context provided.\n",
    "            The design document consists of three items: \"Goals\", \"Requirements\", \"HDL/HLS language\".\n",
    "            Keep the following in mind:\n",
    "            1.  **Goal extraction**: Extracting the main goals based on the objective\n",
    "            2.  **Technical Details**: Ensure that all technical information provided, including any specific features, instructions, or protocols, is thoroughly incorporated into the project's goals, requirements, and constraints.\n",
    "            3.  **Focus on Planning**: Concentrate on defining the project's objectives and specifications. You are not responsible for writing any code, but rather for outlining the necessary steps and considerations for successful implementation.\n",
    "            4.  **Focus on HDL/HLS design**: Come up with a step by step process for hardware description languages or high-level synthesis project. You are not responsible for anything other than logic design.\n",
    "            5.  **Avoid generic specifications**: Avoid generic statements and ensure that your response comprehensively covers the technical aspects provided in the input or gathered through searches.\n",
    "            6.  **Avoid non-functional specifications**: Do not include anything that is not related to HDL/HLS coding of the module. In other words, avoid time-lines, reliaility, scalability and such\n",
    "            7.  **Self-Contained Response**: Ensure that your response is complete and standalone, suitable for input into another module without the need for external references. If you are refering to something you must include it in the output.\n",
    "\"\"\",\n",
    "        ),\n",
    "        (\"user\", \"Objective:\\n {objective} \\n\\n Context: \\n {context}\"),\n",
    "    ]\n",
    ")"
   ]
  },
  {
   "cell_type": "code",
   "execution_count": 25,
   "metadata": {},
   "outputs": [],
   "source": [
    "from langchain_core.pydantic_v1 import BaseModel, Field\n",
    "from langchain.chains.openai_functions import create_structured_output_runnable\n",
    "\n",
    "class Requirements(BaseModel):\n",
    "    \"\"\"Project requirements\"\"\"\n",
    "\n",
    "    goals: List[str] = Field(\n",
    "        description=\"List of goals based on the project's objectives\"\n",
    "    )\n",
    "\n",
    "    requirements: List[str] = Field(\n",
    "        description=\"List of requirements including all technical specifications and instructions provided\"\n",
    "    )\n",
    "\n",
    "    lang: str = Field(\n",
    "        description=\"HDL/HLS language to be used\"\n",
    "    )\n",
    "\n",
    "requirement_runnable = create_structured_output_runnable(\n",
    "    Requirements, bigllm, requirement_prompt\n",
    ")"
   ]
  },
  {
   "cell_type": "code",
   "execution_count": 32,
   "metadata": {},
   "outputs": [
    {
     "data": {
      "text/plain": [
       "__main__.Requirements"
      ]
     },
     "execution_count": 32,
     "metadata": {},
     "output_type": "execute_result"
    }
   ],
   "source": [
    "requirements = requirement_runnable.invoke(\n",
    "    {\"objective\": \"design a 32 bit 16-point FFT to run on an ultra-96 v2 FPGA board. the language must be system verilog.\",\n",
    "     \"context\" : concatenated_content}\n",
    ")\n",
    "\n",
    "type(requirements)"
   ]
  },
  {
   "cell_type": "code",
   "execution_count": 35,
   "metadata": {},
   "outputs": [
    {
     "name": "stdout",
     "output_type": "stream",
     "text": [
      "['The FFT module must support 32-bit wide data inputs and outputs.', 'The design must specifically target the Ultra-96 V2 FPGA board, taking into account its hardware specifications and constraints.', 'Implement the radix-2 DIT (decimation-in-time) version of the Cooley–Tukey FFT algorithm, as it is the simplest and most common form.', 'The design must handle 16 data points (N=16), assuming N is a power of two, which simplifies the implementation.', 'Optimize the design to achieve a computational complexity of O(N log N), where N is the number of data points.', 'Ensure that the design supports in-place computation to minimize memory usage.', 'Precompute twiddle factors to optimize performance.', 'Implement the design in SystemVerilog, utilizing its features for efficient hardware description.', 'The design should include a bit-reversal stage for data reordering, either as a pre-processing or post-processing step, depending on the chosen FFT implementation approach.', \"Provide a testbench in SystemVerilog for verifying the FFT module's functionality against known input and output pairs.\"]\n"
     ]
    }
   ],
   "source": [
    "print(requirements.requirements)"
   ]
  },
  {
   "cell_type": "code",
   "execution_count": 8,
   "metadata": {},
   "outputs": [],
   "source": [
    "from langchain import hub\n",
    "from langchain.agents import AgentExecutor, create_openai_tools_agent\n",
    "from langchain_openai import ChatOpenAI\n",
    "\n",
    "# Choose the LLM that will drive the agent\n",
    "llm = ChatOpenAI(model=\"gpt-4-turbo-preview\")\n",
    "# Construct the OpenAI Functions agent\n",
    "agent_runnable = create_openai_tools_agent(llm, tools, prompt)"
   ]
  },
  {
   "cell_type": "code",
   "execution_count": 9,
   "metadata": {},
   "outputs": [
    {
     "data": {
      "text/plain": [
       "{'input': 'who is the winnner of the us open',\n",
       " 'chat_history': [],\n",
       " 'agent_outcome': AgentFinish(return_values={'output': \"The winners of the US Open 2023 in different categories are as follows:\\n\\n- **Tennis (Men's Singles)**: Novak Djokovic won the men's singles title at the 2023 US Open by defeating Daniil Medvedev with a score of 6-3, 7-6(5), 6-3. This victory marked Djokovic's 24th Grand Slam singles title. [Source](https://www.usopen.org/en_US/news/articles/2023-09-10/novak_djokovic_wins_24th_grand_slam_singles_title_at_2023_us_open.html)\\n\\n- **Golf**: Wyndham Clark won the 2023 U.S. Open Golf Championship, edging out Rory McIlroy to claim his first major championship. This victory was also Clark's second PGA Tour victory. [Source](https://www.cbssports.com/golf/news/2023-u-s-open-leaderboard-wyndham-clark-breaks-through-edging-rory-mcilroy-for-first-major-championship/live/)\\n\\nPlease, let me know if you need information on a specific sport or further details.\"}, log=\"The winners of the US Open 2023 in different categories are as follows:\\n\\n- **Tennis (Men's Singles)**: Novak Djokovic won the men's singles title at the 2023 US Open by defeating Daniil Medvedev with a score of 6-3, 7-6(5), 6-3. This victory marked Djokovic's 24th Grand Slam singles title. [Source](https://www.usopen.org/en_US/news/articles/2023-09-10/novak_djokovic_wins_24th_grand_slam_singles_title_at_2023_us_open.html)\\n\\n- **Golf**: Wyndham Clark won the 2023 U.S. Open Golf Championship, edging out Rory McIlroy to claim his first major championship. This victory was also Clark's second PGA Tour victory. [Source](https://www.cbssports.com/golf/news/2023-u-s-open-leaderboard-wyndham-clark-breaks-through-edging-rory-mcilroy-for-first-major-championship/live/)\\n\\nPlease, let me know if you need information on a specific sport or further details.\"),\n",
       " 'intermediate_steps': [(AgentActionMessageLog(tool='tavily_search_results_json', tool_input={'query': 'winner of the US Open 2023'}, log=\"\\nInvoking: `tavily_search_results_json` with `{'query': 'winner of the US Open 2023'}`\\n\\n\\n\", message_log=[AIMessage(content='', additional_kwargs={'function_call': {'arguments': '{\"query\":\"winner of the US Open 2023\"}', 'name': 'tavily_search_results_json'}})]),\n",
       "   '[{\\'url\\': \\'https://www.usopen.org/en_US/news/articles/2023-09-10/novak_djokovic_wins_24th_grand_slam_singles_title_at_2023_us_open.html\\', \\'content\\': \"WHAT HAPPENED: Novak Djokovic handled the weight of history to defeat Daniil Medvedev on Sunday in the 2023 US Open men\\'s singles final. With a 6-3, 7-6(5), 6-3 victory, the 36-year-old won his 24th Grand Slam singles title, tying Margaret Court\\'s record and bolstering his case to be considered the greatest tennis player of all time.\"}, {\\'url\\': \\'https://www.cbssports.com/golf/news/2023-u-s-open-leaderboard-wyndham-clark-breaks-through-edging-rory-mcilroy-for-first-major-championship/live/\\', \\'content\\': \"College Pick\\'em\\\\nA Daily SportsLine Betting Podcast\\\\nNFL Playoff Time!\\\\n2023 U.S. Open leaderboard: Wyndham Clark breaks through edging Rory McIlroy for first major championship\\\\nClark beat one of the game\\'s best clinching his second PGA Tour victory, both in the last six weeks\\\\nWith Rickie Fowler, Rory McIlroy and Scottie Scheffler atop the 2023 U.S. Open leaderboard, it appeared as if Los Angeles Country Club was set to crown a shining star as its national champion. After making birdie on No. 1 to momentarily pull even with the leaders, McIlroy was unable to take advantage of the short par-4 6th before leaving one on the table on the par-5 8th when his birdie putt from less than four feet failed to even touch the hole.\\\\n The shot on 14 was kind of the shot of the week for me -- to make a birdie there and grind it on the way in. The Champion Golfer of the Year now goes to defend the Claret Jug at Hoylake where he will relish the opportunity to put his creativity and imagination on display again.\\\\n Instead, the City of Angels saw a breakout performance from perhaps one of the game\\'s rising stars as 29-year-old Wyndham Clark (-10) outlasted the veteran McIlroy (-9) to capture his first major championship and clinch his second professional victory.\\\\n\"}, {\\'url\\': \\'https://www.sportingnews.com/us/golf/news/us-open-2023-live-scores-results-leaderboard/jbmxrpro5jc37drgq8e2lehn\\', \\'content\\': \"Sixth hole may be one to watch in Round 4, with the hole location for Round 4 in a pretty dangerous spot close to a bunker and a nice, thick rough.\\\\n12:15 p.m.:\\\\xa0Just past noon on the east coast, and Adam Hadwin and Abraham Ancer are set to tee off at 12:18 p.m., one of the day\\'s featured groups. He gets onto the green with a great shot at 17.\\\\n9:15 p.m.:\\\\xa0Clark\\'s trip to the bunker isn\\'t a fun one, with a terrible spot keeping him from trying for the green.\\\\n Scottie in the #USOpen:2021: T-72022: T-22023: 🤔@Lexus #LexusGolf pic.twitter.com/BCiWw5uuih\\\\n3:56 p.m.:\\\\xa0Fleetwood continues his hot start and is rocketing up the leaderboard through the front nine, moving into the top ten thanks to a birdie at the 9th.\\\\n pic.twitter.com/15389pikrX\\\\n9:36 p.m.:\\\\xa0Clark begins his trek to the 18th tee and holds a one-shot lead while McIlroy hopes for a miracle up ahead on the green.\\\\n He will have a chance to go for birdie as he begins the back-nine.\\\\n7:35 p.m.:\\\\xa0And Clark manages to save par on the ninth.\"}]')]}"
      ]
     },
     "execution_count": 9,
     "metadata": {},
     "output_type": "execute_result"
    }
   ],
   "source": [
    "from langgraph.prebuilt import create_agent_executor\n",
    "\n",
    "agent_executor = create_agent_executor(agent_runnable, tools)\n",
    "\n",
    "agent_executor.invoke(\n",
    "    {\"input\": \"who is the winnner of the us open\", \"chat_history\": []}\n",
    ")"
   ]
  },
  {
   "cell_type": "code",
   "execution_count": 10,
   "metadata": {},
   "outputs": [
    {
     "data": {
      "text/plain": [
       "ChatPromptTemplate(input_variables=['agent_scratchpad', 'input'], input_types={'chat_history': typing.List[typing.Union[langchain_core.messages.ai.AIMessage, langchain_core.messages.human.HumanMessage, langchain_core.messages.chat.ChatMessage, langchain_core.messages.system.SystemMessage, langchain_core.messages.function.FunctionMessage, langchain_core.messages.tool.ToolMessage]], 'agent_scratchpad': typing.List[typing.Union[langchain_core.messages.ai.AIMessage, langchain_core.messages.human.HumanMessage, langchain_core.messages.chat.ChatMessage, langchain_core.messages.system.SystemMessage, langchain_core.messages.function.FunctionMessage, langchain_core.messages.tool.ToolMessage]]}, messages=[SystemMessagePromptTemplate(prompt=PromptTemplate(input_variables=[], template='You are a helpful assistant')), MessagesPlaceholder(variable_name='chat_history', optional=True), HumanMessagePromptTemplate(prompt=PromptTemplate(input_variables=['input'], template='{input}')), MessagesPlaceholder(variable_name='agent_scratchpad')])"
      ]
     },
     "execution_count": 10,
     "metadata": {},
     "output_type": "execute_result"
    }
   ],
   "source": [
    "prompt"
   ]
  },
  {
   "cell_type": "code",
   "execution_count": 5,
   "metadata": {},
   "outputs": [
    {
     "name": "stderr",
     "output_type": "stream",
     "text": [
      "100%|██████████| 11/11 [00:46<00:00,  4.21s/it]\n"
     ]
    }
   ],
   "source": [
    "from openai import OpenAI\n",
    "client = OpenAI()\n",
    "import json\n",
    "from tqdm import tqdm\n",
    "\n",
    "l = {}\n",
    "for T in tqdm(range(0, 11)):\n",
    "    response = client.chat.completions.create(\n",
    "    model=\"gpt-3.5-turbo-0125\",\n",
    "    messages=[\n",
    "        {\n",
    "        \"role\": \"system\",\n",
    "        \"content\": \"You will be provided with a high level idea of a hardware. Your overal task is to come up with an step by step approach for turing that idea into an actual synthesizable hardware. Currently you are expected to come up with 3 next steps in the idea exploration domain that you will return in a numbered list in markdown format. Do not talk about things that should be done such as literature review etc. Rather try to develop the idea.\"\n",
    "        },\n",
    "        {\n",
    "        \"role\": \"user\",\n",
    "        \"content\": \"We want to build a competitor to GPU based on conventional logic. We want this new tool to beat GPUs for AI applications.\"\n",
    "        }\n",
    "    ],\n",
    "    temperature=T*0.2,\n",
    "    max_tokens=400,\n",
    "    top_p=1\n",
    "    )\n",
    "    l[f'idea_{T}'] = {'T': T*0.2, 'content': response.choices[0].message.content}\n",
    "\n",
    "out_file = open(\"test_gpt_3.5.json\", \"w\") \n",
    "  \n",
    "json.dump(l, out_file, indent = 6) \n",
    "  \n",
    "out_file.close() "
   ]
  },
  {
   "cell_type": "code",
   "execution_count": 26,
   "metadata": {},
   "outputs": [],
   "source": []
  }
 ],
 "metadata": {
  "kernelspec": {
   "display_name": "base",
   "language": "python",
   "name": "python3"
  },
  "language_info": {
   "codemirror_mode": {
    "name": "ipython",
    "version": 3
   },
   "file_extension": ".py",
   "mimetype": "text/x-python",
   "name": "python",
   "nbconvert_exporter": "python",
   "pygments_lexer": "ipython3",
   "version": "3.10.11"
  },
  "orig_nbformat": 4
 },
 "nbformat": 4,
 "nbformat_minor": 2
}
