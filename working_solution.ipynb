{
 "cells": [
  {
   "cell_type": "code",
   "execution_count": 1,
   "metadata": {},
   "outputs": [],
   "source": [
    "import os\n",
    "import json\n",
    "from collections import deque\n",
    "from typing import Dict, List, Optional, Any, Union\n",
    "from pydantic import BaseModel\n",
    "\n",
    "from langchain.agents import ZeroShotAgent, Tool, AgentExecutor, LLMSingleActionAgent, AgentOutputParser\n",
    "from langchain import OpenAI, SerpAPIWrapper, LLMChain, PromptTemplate\n",
    "from langchain.chat_models import ChatOpenAI\n",
    "\n",
    "\n",
    "from langchain.vectorstores import Chroma\n",
    "from langchain.docstore import InMemoryDocstore\n",
    "\n",
    "from langchain.document_loaders import PyPDFLoader\n",
    "from langchain.document_loaders import DirectoryLoader\n",
    "from langchain.text_splitter import CharacterTextSplitter, RecursiveCharacterTextSplitter\n",
    "import chromadb\n",
    "import re\n",
    "\n",
    "\n",
    "# Get human objective\n",
    "# refine it via human in the loop and via adding context (short/long term memory search) -> the output is a json dict of the design\n",
    "# build the modules and test benches usiiing short and long term memory"
   ]
  },
  {
   "cell_type": "code",
   "execution_count": 2,
   "metadata": {},
   "outputs": [],
   "source": [
    "os.environ[\"OPENAI_API_KEY\"] = os.getenv(\"OPENAI_API_KEY\")\n",
    "os.environ[\"SERPAPI_API_KEY\"] = os.getenv(\"SERPAPI_API_KEY\")"
   ]
  },
  {
   "cell_type": "code",
   "execution_count": 3,
   "metadata": {},
   "outputs": [],
   "source": [
    "llm = ChatOpenAI(model='gpt-4', temperature=0)\n",
    "bigllm = ChatOpenAI(model='gpt-4-1106-preview', temperature=0)"
   ]
  },
  {
   "cell_type": "code",
   "execution_count": 4,
   "metadata": {},
   "outputs": [],
   "source": [
    "from FPGA_AGI.tools import *\n",
    "from FPGA_AGI.agents import *\n",
    "from FPGA_AGI.utils import *"
   ]
  },
  {
   "cell_type": "markdown",
   "metadata": {},
   "source": [
    "## FPGA-AGI"
   ]
  },
  {
   "cell_type": "code",
   "execution_count": 5,
   "metadata": {},
   "outputs": [],
   "source": [
    "from pydantic import BaseModel\n",
    "import warnings\n",
    "\n",
    "class FPGA_AGI(BaseModel):\n",
    "    verbose: bool = False\n",
    "    solution_num: int = 0\n",
    "    requirement_agent_executor: RequirementAgentExecutor = None\n",
    "    module_agent_executor: ModuleAgentExecutor = None\n",
    "    hdl_agent_executor: HdlAgentExecutor = None\n",
    "    requirement: str = ''\n",
    "    project_details: ProjectDetails = None\n",
    "    module_list: List = []\n",
    "    codes: List = []\n",
    "    module_list_str: List = []\n",
    "\n",
    "    def __init__(self, **data):\n",
    "        super().__init__(**data)\n",
    "        if (self.requirement_agent_executor is None) or (self.module_agent_executor is None) or (self.hdl_agent_executor is None):\n",
    "            warnings.warn(\"RequirementAgentExecutor, ModuleAgentExecutor and HdlAgentExecutor are not set. Please use the from_llm class method to properly initialize it.\", UserWarning)\n",
    "\n",
    "    @classmethod\n",
    "    def from_llm(cls, llm, verbose=False):\n",
    "        tools = [\n",
    "            web_search_tool,\n",
    "            document_search_tool,\n",
    "            #human_input_tool\n",
    "        ]\n",
    "        requirement_agent_executor = RequirementAgentExecutor.from_llm_and_tools(llm=llm, tools=tools, verbose=verbose)\n",
    "        tools = [\n",
    "            web_search_tool,\n",
    "            document_search_tool,\n",
    "        ]\n",
    "        module_agent_executor = ModuleAgentExecutor.from_llm_and_tools(llm=llm, tools=tools, verbose=verbose)\n",
    "        tools = [\n",
    "            #web_search_tool,\n",
    "            document_search_tool,\n",
    "        ]\n",
    "        hdl_agent_executor = HdlAgentExecutor.from_llm_and_tools(llm=llm, tools=tools, verbose=verbose)\n",
    "        return cls(verbose=verbose, requirement_agent_executor=requirement_agent_executor, module_agent_executor=module_agent_executor, hdl_agent_executor=hdl_agent_executor)\n",
    "\n",
    "    def _run(self, objective, action_type):\n",
    "        if action_type == 'full':\n",
    "            self.requirement = self.requirement_agent_executor.run(objective)\n",
    "            self.project_details = extract_project_details(self.requirement)\n",
    "        elif action_type == 'module':\n",
    "            assert type(objective) == ProjectDetails, \"objective needs to be of ProjectDetails type for module level design\"\n",
    "            self.project_details = objective\n",
    "        if action_type == 'hdl':\n",
    "            try:\n",
    "                self.module_list = json.loads(objective)\n",
    "            except json.JSONDecodeError as e:\n",
    "                raise FormatError\n",
    "        else:\n",
    "            self.module_list = self.module_agent_executor.run(Goals=self.project_details.goals, Requirements=self.project_details.requirements, Constraints=self.project_details.constraints)\n",
    "            self.module_list = extract_json_from_string(self.module_list)\n",
    "        self.codes = []\n",
    "        self.module_list_str = [str(item) for item in self.module_list]\n",
    "        #current_modules_verified = json.loads(current_modules_verified)\n",
    "        for module in self.module_list:\n",
    "            code = self.hdl_agent_executor.run(\n",
    "                Goals=self.project_details.goals,\n",
    "                Requirements=self.project_details.requirements,\n",
    "                Constraints=self.project_details.constraints,\n",
    "                module_list='\\n'.join(self.module_list_str),\n",
    "                codes='\\n'.join(self.codes),\n",
    "                module=str(module)\n",
    "                )\n",
    "            self.codes.append(code)\n",
    "        save_solution(self.codes, solution_num=self.solution_num)\n",
    "        self.solution_num += 1\n",
    "\n",
    "    def __call__(self, objective: Any, action_type: str = 'full'):\n",
    "        if (self.requirement_agent_executor is None) or (self.module_agent_executor is None) or (self.hdl_agent_executor is None):\n",
    "            raise Exception(\"RequirementAgentExecutor, ModuleAgentExecutor and HdlAgentExecutor are not set. Please use the from_llm class method to properly initialize it.\")\n",
    "        if not (action_type in ['full', 'module', 'hdl']):\n",
    "            raise ValueError(\"Invalid action type specified.\")\n",
    "        self._run(objective, action_type)"
   ]
  },
  {
   "cell_type": "code",
   "execution_count": 6,
   "metadata": {},
   "outputs": [
    {
     "ename": "FormatError",
     "evalue": "Input should be of the following form:\n{\n    \"Module_Name\": \"name of the module\",\n    \"ports\": [\"specific inputs and outputs, including bit width\"],\n    \"description\": \"detailed description of the module function\",\n    \"connections\": [\"specific other modules it must connect to\"],\n    \"hdl_language\": \"hdl language to be used\"\n}",
     "output_type": "error",
     "traceback": [
      "\u001b[1;31m---------------------------------------------------------------------------\u001b[0m",
      "\u001b[1;31mJSONDecodeError\u001b[0m                           Traceback (most recent call last)",
      "\u001b[1;32mc:\\Users\\arash\\black_oracle\\v2_tests\\working_solution.ipynb Cell 7\u001b[0m line \u001b[0;36m5\n\u001b[0;32m     <a href='vscode-notebook-cell:/c%3A/Users/arash/black_oracle/v2_tests/working_solution.ipynb#X52sZmlsZQ%3D%3D?line=48'>49</a>\u001b[0m \u001b[39mtry\u001b[39;00m:\n\u001b[1;32m---> <a href='vscode-notebook-cell:/c%3A/Users/arash/black_oracle/v2_tests/working_solution.ipynb#X52sZmlsZQ%3D%3D?line=49'>50</a>\u001b[0m     \u001b[39mself\u001b[39m\u001b[39m.\u001b[39mmodule_list \u001b[39m=\u001b[39m json\u001b[39m.\u001b[39;49mloads(objective)\n\u001b[0;32m     <a href='vscode-notebook-cell:/c%3A/Users/arash/black_oracle/v2_tests/working_solution.ipynb#X52sZmlsZQ%3D%3D?line=50'>51</a>\u001b[0m \u001b[39mexcept\u001b[39;00m json\u001b[39m.\u001b[39mJSONDecodeError:\n",
      "File \u001b[1;32mc:\\Users\\arash\\anaconda3\\lib\\json\\__init__.py:346\u001b[0m, in \u001b[0;36mloads\u001b[1;34m(s, cls, object_hook, parse_float, parse_int, parse_constant, object_pairs_hook, **kw)\u001b[0m\n\u001b[0;32m    343\u001b[0m \u001b[39mif\u001b[39;00m (\u001b[39mcls\u001b[39m \u001b[39mis\u001b[39;00m \u001b[39mNone\u001b[39;00m \u001b[39mand\u001b[39;00m object_hook \u001b[39mis\u001b[39;00m \u001b[39mNone\u001b[39;00m \u001b[39mand\u001b[39;00m\n\u001b[0;32m    344\u001b[0m         parse_int \u001b[39mis\u001b[39;00m \u001b[39mNone\u001b[39;00m \u001b[39mand\u001b[39;00m parse_float \u001b[39mis\u001b[39;00m \u001b[39mNone\u001b[39;00m \u001b[39mand\u001b[39;00m\n\u001b[0;32m    345\u001b[0m         parse_constant \u001b[39mis\u001b[39;00m \u001b[39mNone\u001b[39;00m \u001b[39mand\u001b[39;00m object_pairs_hook \u001b[39mis\u001b[39;00m \u001b[39mNone\u001b[39;00m \u001b[39mand\u001b[39;00m \u001b[39mnot\u001b[39;00m kw):\n\u001b[1;32m--> 346\u001b[0m     \u001b[39mreturn\u001b[39;00m _default_decoder\u001b[39m.\u001b[39;49mdecode(s)\n\u001b[0;32m    347\u001b[0m \u001b[39mif\u001b[39;00m \u001b[39mcls\u001b[39m \u001b[39mis\u001b[39;00m \u001b[39mNone\u001b[39;00m:\n",
      "File \u001b[1;32mc:\\Users\\arash\\anaconda3\\lib\\json\\decoder.py:337\u001b[0m, in \u001b[0;36mJSONDecoder.decode\u001b[1;34m(self, s, _w)\u001b[0m\n\u001b[0;32m    333\u001b[0m \u001b[39m\u001b[39m\u001b[39m\"\"\"Return the Python representation of ``s`` (a ``str`` instance\u001b[39;00m\n\u001b[0;32m    334\u001b[0m \u001b[39mcontaining a JSON document).\u001b[39;00m\n\u001b[0;32m    335\u001b[0m \n\u001b[0;32m    336\u001b[0m \u001b[39m\"\"\"\u001b[39;00m\n\u001b[1;32m--> 337\u001b[0m obj, end \u001b[39m=\u001b[39m \u001b[39mself\u001b[39;49m\u001b[39m.\u001b[39;49mraw_decode(s, idx\u001b[39m=\u001b[39;49m_w(s, \u001b[39m0\u001b[39;49m)\u001b[39m.\u001b[39;49mend())\n\u001b[0;32m    338\u001b[0m end \u001b[39m=\u001b[39m _w(s, end)\u001b[39m.\u001b[39mend()\n",
      "File \u001b[1;32mc:\\Users\\arash\\anaconda3\\lib\\json\\decoder.py:355\u001b[0m, in \u001b[0;36mJSONDecoder.raw_decode\u001b[1;34m(self, s, idx)\u001b[0m\n\u001b[0;32m    354\u001b[0m \u001b[39mexcept\u001b[39;00m \u001b[39mStopIteration\u001b[39;00m \u001b[39mas\u001b[39;00m err:\n\u001b[1;32m--> 355\u001b[0m     \u001b[39mraise\u001b[39;00m JSONDecodeError(\u001b[39m\"\u001b[39m\u001b[39mExpecting value\u001b[39m\u001b[39m\"\u001b[39m, s, err\u001b[39m.\u001b[39mvalue) \u001b[39mfrom\u001b[39;00m \u001b[39mNone\u001b[39;00m\n\u001b[0;32m    356\u001b[0m \u001b[39mreturn\u001b[39;00m obj, end\n",
      "\u001b[1;31mJSONDecodeError\u001b[0m: Expecting value: line 1 column 1 (char 0)",
      "\nDuring handling of the above exception, another exception occurred:\n",
      "\u001b[1;31mFormatError\u001b[0m                               Traceback (most recent call last)",
      "\u001b[1;32mc:\\Users\\arash\\black_oracle\\v2_tests\\working_solution.ipynb Cell 7\u001b[0m line \u001b[0;36m3\n\u001b[0;32m      <a href='vscode-notebook-cell:/c%3A/Users/arash/black_oracle/v2_tests/working_solution.ipynb#X52sZmlsZQ%3D%3D?line=0'>1</a>\u001b[0m fpga_agi_instance \u001b[39m=\u001b[39m FPGA_AGI\u001b[39m.\u001b[39mfrom_llm(llm\u001b[39m=\u001b[39mbigllm, verbose\u001b[39m=\u001b[39m\u001b[39mTrue\u001b[39;00m)\n\u001b[1;32m----> <a href='vscode-notebook-cell:/c%3A/Users/arash/black_oracle/v2_tests/working_solution.ipynb#X52sZmlsZQ%3D%3D?line=2'>3</a>\u001b[0m fpga_agi_instance(objective\u001b[39m=\u001b[39;49m\u001b[39m\"\u001b[39;49m\u001b[39mdesign a very simple 32 bit risc-v cpu in verilog. The cpu will be a softcore solution for zync ultrascale devices and it must connect to the PS side of the FPGA via AXI-stream for the data and AXI-lite for the control. As a note, I am going to use pynq to connect to this device so these axi interfaces must be pynq compatible as much as possible.\u001b[39;49m\u001b[39m\"\u001b[39;49m ,action_type\u001b[39m=\u001b[39;49m\u001b[39m'\u001b[39;49m\u001b[39mhdl\u001b[39;49m\u001b[39m'\u001b[39;49m)\n\u001b[0;32m      <a href='vscode-notebook-cell:/c%3A/Users/arash/black_oracle/v2_tests/working_solution.ipynb#X52sZmlsZQ%3D%3D?line=3'>4</a>\u001b[0m \u001b[39m#fpga_agi_instance(objective=\"design a very simple 32 bit risc-v cpu in verilog. The cpu will be a softcore solution for zync ultrascale devices and it must connect to the PS side of the FPGA via AXI-stream for the data and AXI-lite for the control. As a note, I am going to use pynq to connect to this device so these axi interfaces must be pynq compatible as much as possible.\" ,action_type='module')\u001b[39;00m\n",
      "\u001b[1;32mc:\\Users\\arash\\black_oracle\\v2_tests\\working_solution.ipynb Cell 7\u001b[0m line \u001b[0;36m7\n\u001b[0;32m     <a href='vscode-notebook-cell:/c%3A/Users/arash/black_oracle/v2_tests/working_solution.ipynb#X52sZmlsZQ%3D%3D?line=74'>75</a>\u001b[0m \u001b[39mif\u001b[39;00m \u001b[39mnot\u001b[39;00m (action_type \u001b[39min\u001b[39;00m [\u001b[39m'\u001b[39m\u001b[39mfull\u001b[39m\u001b[39m'\u001b[39m, \u001b[39m'\u001b[39m\u001b[39mmodule\u001b[39m\u001b[39m'\u001b[39m, \u001b[39m'\u001b[39m\u001b[39mhdl\u001b[39m\u001b[39m'\u001b[39m]):\n\u001b[0;32m     <a href='vscode-notebook-cell:/c%3A/Users/arash/black_oracle/v2_tests/working_solution.ipynb#X52sZmlsZQ%3D%3D?line=75'>76</a>\u001b[0m     \u001b[39mraise\u001b[39;00m \u001b[39mValueError\u001b[39;00m(\u001b[39m\"\u001b[39m\u001b[39mInvalid action type specified.\u001b[39m\u001b[39m\"\u001b[39m)\n\u001b[1;32m---> <a href='vscode-notebook-cell:/c%3A/Users/arash/black_oracle/v2_tests/working_solution.ipynb#X52sZmlsZQ%3D%3D?line=76'>77</a>\u001b[0m \u001b[39mself\u001b[39;49m\u001b[39m.\u001b[39;49m_run(objective, action_type)\n",
      "\u001b[1;32mc:\\Users\\arash\\black_oracle\\v2_tests\\working_solution.ipynb Cell 7\u001b[0m line \u001b[0;36m5\n\u001b[0;32m     <a href='vscode-notebook-cell:/c%3A/Users/arash/black_oracle/v2_tests/working_solution.ipynb#X52sZmlsZQ%3D%3D?line=49'>50</a>\u001b[0m         \u001b[39mself\u001b[39m\u001b[39m.\u001b[39mmodule_list \u001b[39m=\u001b[39m json\u001b[39m.\u001b[39mloads(objective)\n\u001b[0;32m     <a href='vscode-notebook-cell:/c%3A/Users/arash/black_oracle/v2_tests/working_solution.ipynb#X52sZmlsZQ%3D%3D?line=50'>51</a>\u001b[0m     \u001b[39mexcept\u001b[39;00m json\u001b[39m.\u001b[39mJSONDecodeError:\n\u001b[1;32m---> <a href='vscode-notebook-cell:/c%3A/Users/arash/black_oracle/v2_tests/working_solution.ipynb#X52sZmlsZQ%3D%3D?line=51'>52</a>\u001b[0m         \u001b[39mraise\u001b[39;00m FormatError\n\u001b[0;32m     <a href='vscode-notebook-cell:/c%3A/Users/arash/black_oracle/v2_tests/working_solution.ipynb#X52sZmlsZQ%3D%3D?line=52'>53</a>\u001b[0m \u001b[39melse\u001b[39;00m:\n\u001b[0;32m     <a href='vscode-notebook-cell:/c%3A/Users/arash/black_oracle/v2_tests/working_solution.ipynb#X52sZmlsZQ%3D%3D?line=53'>54</a>\u001b[0m     \u001b[39mself\u001b[39m\u001b[39m.\u001b[39mmodule_list \u001b[39m=\u001b[39m \u001b[39mself\u001b[39m\u001b[39m.\u001b[39mmodule_agent_executor\u001b[39m.\u001b[39mrun(Goals\u001b[39m=\u001b[39m\u001b[39mself\u001b[39m\u001b[39m.\u001b[39mproject_details\u001b[39m.\u001b[39mgoals, Requirements\u001b[39m=\u001b[39m\u001b[39mself\u001b[39m\u001b[39m.\u001b[39mproject_details\u001b[39m.\u001b[39mrequirements, Constraints\u001b[39m=\u001b[39m\u001b[39mself\u001b[39m\u001b[39m.\u001b[39mproject_details\u001b[39m.\u001b[39mconstraints)\n",
      "\u001b[1;31mFormatError\u001b[0m: Input should be of the following form:\n{\n    \"Module_Name\": \"name of the module\",\n    \"ports\": [\"specific inputs and outputs, including bit width\"],\n    \"description\": \"detailed description of the module function\",\n    \"connections\": [\"specific other modules it must connect to\"],\n    \"hdl_language\": \"hdl language to be used\"\n}"
     ]
    }
   ],
   "source": [
    "fpga_agi_instance = FPGA_AGI.from_llm(llm=bigllm, verbose=True)\n",
    "\n",
    "fpga_agi_instance(objective=\"design a very simple 32 bit risc-v cpu in verilog. The cpu will be a softcore solution for zync ultrascale devices and it must connect to the PS side of the FPGA via AXI-stream for the data and AXI-lite for the control. As a note, I am going to use pynq to connect to this device so these axi interfaces must be pynq compatible as much as possible.\" ,action_type='hdl')\n",
    "#fpga_agi_instance(objective=\"design a very simple 32 bit risc-v cpu in verilog. The cpu will be a softcore solution for zync ultrascale devices and it must connect to the PS side of the FPGA via AXI-stream for the data and AXI-lite for the control. As a note, I am going to use pynq to connect to this device so these axi interfaces must be pynq compatible as much as possible.\" ,action_type='module')"
   ]
  }
 ],
 "metadata": {
  "kernelspec": {
   "display_name": "base",
   "language": "python",
   "name": "python3"
  },
  "language_info": {
   "codemirror_mode": {
    "name": "ipython",
    "version": 3
   },
   "file_extension": ".py",
   "mimetype": "text/x-python",
   "name": "python",
   "nbconvert_exporter": "python",
   "pygments_lexer": "ipython3",
   "version": "3.10.9"
  },
  "orig_nbformat": 4
 },
 "nbformat": 4,
 "nbformat_minor": 2
}
