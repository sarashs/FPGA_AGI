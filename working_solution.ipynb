{
 "cells": [
  {
   "cell_type": "code",
   "execution_count": 54,
   "metadata": {},
   "outputs": [],
   "source": [
    "import os\n",
    "import json\n",
    "from collections import deque\n",
    "from typing import Dict, List, Optional, Any, Union\n",
    "from pydantic import BaseModel\n",
    "\n",
    "from langchain.agents import ZeroShotAgent, Tool, AgentExecutor, LLMSingleActionAgent, AgentOutputParser\n",
    "from langchain import OpenAI, SerpAPIWrapper, LLMChain, PromptTemplate\n",
    "from langchain.chat_models import ChatOpenAI\n",
    "\n",
    "\n",
    "from langchain.vectorstores import Chroma\n",
    "from langchain.docstore import InMemoryDocstore\n",
    "\n",
    "from langchain.document_loaders import PyPDFLoader\n",
    "from langchain.document_loaders import DirectoryLoader\n",
    "from langchain.text_splitter import CharacterTextSplitter, RecursiveCharacterTextSplitter\n",
    "import chromadb\n",
    "import re\n",
    "\n",
    "\n",
    "# Get human objective\n",
    "# refine it via human in the loop and via adding context (short/long term memory search) -> the output is a json dict of the design\n",
    "# build the modules and test benches usiiing short and long term memory"
   ]
  },
  {
   "cell_type": "code",
   "execution_count": 2,
   "metadata": {},
   "outputs": [],
   "source": [
    "os.environ[\"OPENAI_API_KEY\"] = os.getenv(\"OPENAI_API_KEY\")\n",
    "os.environ[\"SERPAPI_API_KEY\"] = os.getenv(\"SERPAPI_API_KEY\")"
   ]
  },
  {
   "cell_type": "code",
   "execution_count": 3,
   "metadata": {},
   "outputs": [],
   "source": [
    "llm = ChatOpenAI(model='gpt-4', temperature=0)\n",
    "bigllm = ChatOpenAI(model='gpt-4-1106-preview', temperature=0)"
   ]
  },
  {
   "cell_type": "code",
   "execution_count": 42,
   "metadata": {},
   "outputs": [],
   "source": [
    "from FPGA_AGI.tools import *\n",
    "from FPGA_AGI.agents import *\n",
    "from FPGA_AGI.utils import *"
   ]
  },
  {
   "cell_type": "code",
   "execution_count": 22,
   "metadata": {},
   "outputs": [
    {
     "name": "stdout",
     "output_type": "stream",
     "text": [
      "\n",
      "\n",
      "\u001b[1m> Entering new AgentExecutor chain...\u001b[0m\n",
      "\u001b[32;1m\u001b[1;3mThought: To provide a comprehensive explanation of the key functions, goals, and specific requirements for the FPGA design project, I need to understand the Zynq UltraScale architecture, the AXI-Lite interface, and the state machine design in SystemVerilog. I will start by gathering information on the Zynq UltraScale device and the AXI-Lite protocol.\n",
      "\n",
      "Action: Doc_Search\n",
      "Action Input: Zynq UltraScale architecture overview\u001b[0m\n",
      "Observation: \u001b[33;1m\u001b[1;3m{'question': 'Zynq UltraScale architecture overview', 'answer': 'The Zynq UltraScale+ MPSoC architecture includes a quad-core ARM Cortex-A53 processor, a dual-core ARM Cortex-R5 real-time processor, a Mali-400 MP2 graphics processing unit, and programmable logic. It also supports high-level operating systems like Linux and offers various peripherals and interfaces such as USB, Ethernet, HDMI, and PCIe. Additionally, some UltraScale architecture-based devices include integrated blocks for the Interlaken chip-to-chip interconnect protocol, supporting transmission speeds from 10Gb/s to 150Gb/s. \\n', 'sources': 'ds891-zynq-ultrascale-plus-overview.pdf, ug1209-embedded-design-tutorial.pdf', 'source_documents': [Document(page_content='Zynq UltraScale+ MPSoC Data Sheet: Overview\\nDS891 (v1.10) November 7, 2022 www.xilinx.com\\nProduct Specification 11\\nThe inclusion of an application proc essor enables high-level operating system support, e.g., Linux. Other \\nstandard operating systems used with the Co rtex-A53 processor are also available for the \\nZynq UltraScale+ MPSoC family. The PS and the PL ar e on separate power domains, enabling users to \\npower down the PL for power management if required. Th e processors in the PS always boot first, allowing \\na software centric approach for PL configuration. PL configuration is managed by software running on the \\nCPU, so it boots similar to an ASSP.', metadata={'page': 10, 'source': 'ds891-zynq-ultrascale-plus-overview.pdf'}), Document(page_content='Zynq UltraScale+ \\nMPSoC: Embedded Design Tutorial\\nA Hands-On Guide to Effective \\nEmbedded System Design\\nUG1209 (v2018.3) December 21, 2018', metadata={'page': 0, 'source': 'ug1209-embedded-design-tutorial.pdf'}), Document(page_content='Zynq UltraScale+ MPSoC Data Sheet: Overview\\nDS891 (v1.10) November 7, 2022 www.xilinx.com\\nProduct Specification 31\\nparameters such as link width and speed, maximum payload size, and reference clock frequency. For a \\ncomplete list of features that can be configured for each of the IP, go to the specific Product Guide.\\nIntegrated Block for Interlaken\\nSome UltraScale architecture-based  devices include integrated blocks for Interlaken. Interlaken is a \\nscalable chip-to-chip interconnect protocol designed to enable transmission speeds from 10Gb/s to \\n150Gb/s. The Interlaken integrated block in the UltraSca le architecture is compliant to revision 1.2 of the \\nInterlaken specification with data striping and de-s triping across 1 to 12 lanes. Permitted configurations \\nare: 1 to 12 lanes at up to 12.5Gb/s and 1 to 6 lane s at up to 25.78125Gb/s, enabling flexible support for \\nup to 150Gb/s per integrated block. With multiple Inte rlaken blocks, certain UltraScale architecture-based', metadata={'page': 30, 'source': 'ds891-zynq-ultrascale-plus-overview.pdf'})]}\u001b[0m\n",
      "Thought:\u001b[32;1m\u001b[1;3mThe Zynq UltraScale+ MPSoC architecture includes a quad-core ARM Cortex-A53 processor, a dual-core ARM Cortex-R5 real-time processor, a Mali-400 MP2 graphics processing unit, and programmable logic. It supports high-level operating systems like Linux and offers various peripherals and interfaces such as USB, Ethernet, HDMI, and PCIe. The architecture also includes integrated blocks for the Interlaken chip-to-chip interconnect protocol. The PS (Processing System) and the PL (Programmable Logic) are on separate power domains, which is important for power management and the sequence of booting and configuration.\n",
      "\n",
      "Next, I need to understand the AXI-Lite interface protocol to outline the interface requirements for the state machine.\n",
      "\n",
      "Action: Doc_Search\n",
      "Action Input: AXI-Lite interface protocol\u001b[0m\n",
      "Observation: \u001b[33;1m\u001b[1;3m{'question': 'AXI-Lite interface protocol', 'answer': 'The AXI-Lite interface protocol is used to group block-level I/O protocol ports into a single interface, allowing control signals to be controlled and accessed from a CPU. It is mentioned in the relevant text and is used in the implementation of the Simple DMA mode, where it is used for data transfer between master external memory and slave peripherals through the AXI4-Stream ports.\\n', 'sources': 'HLS-tutorial.pdf, ug902-vivado-high-level-synthesis.pdf, matrixmult-zynq-hls.pdf', 'source_documents': [Document(page_content='optimal balance of area and performance to  satisfy your particular requirements.\\nStep 3: Implementing an AXI4-Lite Interfaces\\nIn this exercise, you group block-level I/O prot ocol ports into a single AXI4-Lite interface, \\nwhich allows these block-level control signals to be controlled and accessed from a CPU.\\n1. Select New Solution  from the toolbar or the Project  menu to create a new solution.\\n2. Accept the defaults and click Finish . This includes copying ex isting directives from \\nsolution1.\\n3. Ensure the C source code is vi sible in the Information pane.\\n4. In the Directive tab, select the top-level function axi_interfaces  and right-click and \\nselect Insert Directive to open the Directive Editor  dialog box.\\na. Select the Directive  drop-down menu at the top and select INTERFACE .X-Ref Target - Figure 4-32\\nFigure 4-32: Directives Tab for Lab 4 Solution1\\nSend Feedback', metadata={'page': 90, 'source': 'HLS-tutorial.pdf'}), Document(page_content='The following functions are however provided for use with an interrupt service routine. \\nThere are two interrupts supported in the AXI-Lite Slave interface: \\n• The first is status of the ap_done  signal and available is in location 1. \\n• The second is a task level interrupt and is available in location 2. The task level interrupt \\nshows when a new task can be started and allows operations on the port to be', metadata={'page': 102, 'source': 'ug902-vivado-high-level-synthesis.pdf'}), Document(page_content=\"AXI DMA Overview\\nXAPP1170 (v2.0) January 21, 2016 www.xilinx.com  11Figure 7  illustrates the AXI DMA interfaces and the data streaming. The AXI DMA works in two      \\ndifferent modes, but only one at a time: Scatte r/Gather and Simple DMA modes. For each mode \\nthere is a proper register to be configured  with the AXI4-Lite slave interface. In our \\nimplementation we are using the Simple DMA mode. \\nThe Simple DMA mode provides a configuratio n for doing simple DMA transfers on MM2S and \\nS2MM channels that require less FPGA resource  utilization. The AXI4 Read (MM2S) interface \\nreads the data from a master external memory, th en the DMA Data Mover transmits that data to \\na slave peripheral through the AXI4-Stream (MM2 S) port. Similarly, a master peripheral can \\nsend data to the AXI4 Write (S2MM) interface whic h writes that data to a slave external memory \\nvia the AXI4-Stream (S2MM) port.X-Ref Target - Figure 7\\nFigure 7: AXI DMA Core Block Diagram$;,\\x03'0$\\n$;,\\x03&RQWURO\", metadata={'page': 10, 'source': 'matrixmult-zynq-hls.pdf'})]}\u001b[0m\n",
      "Thought:\u001b[32;1m\u001b[1;3mThe AXI-Lite interface protocol is a simplified version of the AXI protocol used for communication between the CPU and peripherals in a system-on-chip (SoC) design. It is suitable for control register interfaces to relatively simple devices that do not require the full AXI protocol's performance. The AXI-Lite interface groups block-level I/O protocol ports into a single interface, allowing block-level control signals to be controlled and accessed from a CPU. This is relevant for the state machine design as it will be controlled via an AXI-Lite connection from the PS side.\n",
      "\n",
      "Now, I need to understand the requirements for designing a state machine in SystemVerilog, specifically one with four states (Add, Subtract, Multiply, Divide) and transitions controlled via an AXI-Lite interface.\n",
      "\n",
      "Action: Doc_Search\n",
      "Action Input: SystemVerilog state machine design\u001b[0m\n",
      "Observation: \u001b[33;1m\u001b[1;3m{'question': 'SystemVerilog state machine design', 'answer': 'There is information about state machine design in SystemVerilog, but there is no specific mention of a state machine design for the question about SystemVerilog state machine design.\\n', 'sources': 'Sarah Harris, David Harris - Digital Design and Computer Architecture_ RISC-V Edition-Morgan Kaufmann (2021).pdf, verilog_tutorial.pdf', 'source_documents': [Document(page_content=\"4.6 Finite State Machines 209\\nS0\\nS1S2statemachine\\nstate[2:0]y[0]\\nresetclk C\\n[2:0]Q[2:0]R\\nFigure 4.25 divideby3fsm  \\nsynthesized circuit\\nThe next two examples describe the snail pattern recognizer FSM \\nfrom Section 3.4.3 . The code shows how to use case and if statements to \\nhandle next state and output logic that depend on the inputs as well as the \\ncurrent state. We show both Moore and Mealy modules. In the Moore \\nmachine ( HDL Example 4.31 ), the output depends only on the current \\nstate, whereas in the Mealy machine ( HDL Example 4.32 ), the output \\nlogic depends on both the current state and inputs.SystemVerilog\\n// output logic\\nassign y = (state = = S0 | state = = S1);VHDL\\n–– output logic\\ny <= '1' when (state =  S0 or state =  S1) else '0'; and outputs on the arcs and states. Therefore, be careful that you have \\nspecified the FSM correctly in your HDL code. The state transition dia -\\ngram in Figure 4.25  for the divide-by-3 FSM is analogous to the diagram\", metadata={'page': 231, 'source': 'Sarah Harris, David Harris - Digital Design and Computer Architecture_ RISC-V Edition-Morgan Kaufmann (2021).pdf'}), Document(page_content='Normal digital design flow dictates that we draw a stated machine, from there we draw the truth\\ntable with next state transition for each flip−flop. And after that we draw kmaps and from kmaps we\\ncan get the optimized circuit. This method works just fine for small design, but with large designs\\nthis flow becomes complicated and error prone.\\nYou may refer to the digital section to understand this flow ( I think this flow tutorial in Digital\\nsection is still under construction).\\nLow level design\\nHere we can add the signals at the sub module level and also define the state machine if any in\\ngreater detail as shown in the figure below.\\nModules\\nIf you look at the arbiter block, we can see that it has got a name arbiter and input/output ports.\\nSince Verilog is a HDL, it needs to support this, for this purpose we have reserve word \"module\".\\nmodule arbiter is same as block arbiter, Each module should follow with port list as shown in code\\nbelow.\\nCode of module \"arbiter\"', metadata={'page': 216, 'source': 'verilog_tutorial.pdf'}), Document(page_content='Moore Model\\nState machines can also be classified based on type state encoding used. Encoding style is also a\\ncritical factor which decides speed, and gate complexity of the FSM. Binary, gray, one hot, one\\ncold, and almost one hot are the different types of encoding styles used in coding FSM states.\\nModeling State machines.\\nOne thing that need to be kept in mind when coding FSM is that, combinational logic and\\nsequence logic should be in two different always blocks. In the above two figures, next state logic\\nis always the combinational logic. State Registers and Output logic are sequential logic. It is very\\nimportant that any asynchronous signal to the next state logic should be synchronized before\\nfeeding to FSM. Always try to keep FSM in separate Verilog file.\\nUsing constants declaration like parameter or `define to define states of the FSM, this makes code\\nmore readable and easy to manage.\\nExample − Arbiter\\nWe will be using the arbiter FSM to study FSM coding styles in Verilog.', metadata={'page': 147, 'source': 'verilog_tutorial.pdf'})]}\u001b[0m\n",
      "Thought:\u001b[32;1m\u001b[1;3mThe information provided indicates that state machine design in SystemVerilog typically involves using `case` and `if` statements to handle next state and output logic that depend on the inputs as well as the current state. Moore and Mealy machines are two types of state machines that can be implemented, with Moore's output depending only on the current state and Mealy's output depending on both the current state and inputs. It is also suggested that combinational logic and sequential logic should be in two different `always` blocks, and constants like `parameter` or `` `define `` should be used to define states for readability and manageability.\n",
      "\n",
      "Given this information, I can now outline the goals, requirements, and constraints for the FPGA design project.\n",
      "\n",
      "Final Answer:\n",
      "\n",
      "Goals:\n",
      "- Design a state machine with four states: Add, Subtract, Multiply, Divide.\n",
      "- Ensure state transitions are controlled via an AXI-Lite connection from the PS side.\n",
      "- Implement the design in SystemVerilog on a Zynq UltraScale device.\n",
      "\n",
      "Requirements:\n",
      "- The state machine must be able to transition between states based on control signals received through the AXI-Lite interface.\n",
      "- The Multiply and Divide states can only transition to the Add or Subtract states.\n",
      "- The Add and Subtract states can only transition to the Multiply or Divide states.\n",
      "- Use SystemVerilog constructs such as `case` and `if` statements to manage state transitions and outputs.\n",
      "- Separate combinational and sequential logic into different `always` blocks.\n",
      "- Use `parameter` or `` `define `` to declare state constants for the state machine.\n",
      "- Ensure that the design is synthesizable and can be implemented on the Zynq UltraScale FPGA.\n",
      "\n",
      "Constraints:\n",
      "- The design must conform to the Zynq UltraScale architecture, taking into account the separate power domains of the PS and PL.\n",
      "- The AXI-Lite interface must be used for communication between the PS and the state machine in the PL.\n",
      "- The design must be optimized for the resources available on the Zynq UltraScale device.\n",
      "- The state machine logic must be robust and capable of handling asynchronous signals appropriately, with proper synchronization before feeding to the FSM.\u001b[0m\n",
      "\n",
      "\u001b[1m> Finished chain.\u001b[0m\n"
     ]
    }
   ],
   "source": [
    "OBJECTIVE = 'This design will be implemented on a zync ultrascale device. design a state machine with 4 states: Add, Subtract, Multiply, Divide. the state transitions are controlled via an axi-lite connection that comes from the PS side. The Multiply\\Divide state can only go to the add or subtract state (depending on the control) and the Add\\Subtract states can only go the the multiply or divide states. Implement this in system verilog.'\n",
    "##########prompt1\n",
    "tools = [\n",
    "    web_search_tool,\n",
    "    document_search_tool,\n",
    "    human_input_tool\n",
    "]\n",
    "requirement_writing_agent = RequirementAgentExecutor.from_llm_and_tools(llm=bigllm, tools=tools, verbose=True)\n",
    "\n",
    "requirement = requirement_writing_agent.run(OBJECTIVE) "
   ]
  },
  {
   "cell_type": "code",
   "execution_count": 24,
   "metadata": {},
   "outputs": [
    {
     "data": {
      "text/plain": [
       "ProjectDetails(goals='- Design a state machine with four states: Add, Subtract, Multiply, Divide. - Ensure state transitions are controlled via an AXI-Lite connection from the PS side. - Implement the design in SystemVerilog on a Zynq UltraScale device.', requirements='- The state machine must be able to transition between states based on control signals received through the AXI-Lite interface. - The Multiply and Divide states can only transition to the Add or Subtract states. - The Add and Subtract states can only transition to the Multiply or Divide states. - Use SystemVerilog constructs such as `case` and `if` statements to manage state transitions and outputs. - Separate combinational and sequential logic into different `always` blocks. - Use `parameter` or `` `define `` to declare state constants for the state machine. - Ensure that the design is synthesizable and can be implemented on the Zynq UltraScale FPGA.', constraints='- The design must conform to the Zynq UltraScale architecture, taking into account the separate power domains of the PS and PL. - The AXI-Lite interface must be used for communication between the PS and the state machine in the PL. - The design must be optimized for the resources available on the Zynq UltraScale device. - The state machine logic must be robust and capable of handling asynchronous signals appropriately, with proper synchronization before feeding to the FSM.')"
      ]
     },
     "execution_count": 24,
     "metadata": {},
     "output_type": "execute_result"
    }
   ],
   "source": [
    "\n",
    "project_details = extract_project_details(requirement)\n",
    "project_details\n",
    "\n"
   ]
  },
  {
   "cell_type": "code",
   "execution_count": 25,
   "metadata": {},
   "outputs": [
    {
     "name": "stdout",
     "output_type": "stream",
     "text": [
      "\n",
      "\n",
      "\u001b[1m> Entering new AgentExecutor chain...\u001b[0m\n",
      "\u001b[32;1m\u001b[1;3mThought 1: To satisfy the goals and requirements, I need to identify the necessary modules for the FPGA-based hardware design project, including a top module that encapsulates all other modules.\n",
      "Thought 2: I should further refine thought 1 by considering the specific functionalities required by each module, such as state machine logic, AXI-Lite interface, and any additional support modules.\n",
      "Thought 3: I should think about what to do to gather information on the typical modules required for such a design, especially focusing on the Zynq UltraScale architecture.\n",
      "Action: Doc_Search\n",
      "Action Input: Zynq UltraScale FPGA design modules\u001b[0m\n",
      "\n",
      "Observation:\u001b[33;1m\u001b[1;3m{'question': 'Zynq UltraScale FPGA design modules', 'answer': 'The Zynq UltraScale FPGA design modules include Programmable Logic (PL), Configurable Logic Blocks (CLB), Look-up tables (LUT), Flip-flops, Cascadable adders, 36Kb Block RAM, True dual-port, UltraRAM, Error checking and correction, DSP Blocks, Programmable I/O Blocks, JTAG Boundary-Scan, PCI Express, 100G Ethernet MAC/PCS, and Interlaken. The Zynq UltraScale+ MPSoC can be booted and run without programming the FPGA, but programming of the PL is required to use any soft IP in the fabric or to bond out PS peripherals using EMIO. The PL can be programmed using SDK or the Vivado Hardware Manager.\\n', 'sources': 'ds891-zynq-ultrascale-plus-overview.pdf, ug1209-embedded-design-tutorial.pdf', 'source_documents': [Document(page_content='Zynq UltraScale+ MPSoC Data Sheet: Overview\\nDS891 (v1.10) November 7, 2022 www.xilinx.com\\nProduct Specification 3\\nProgrammable Logic (PL)\\nConfigurable Logic Blocks (CLB)\\n\\uf0b7Look-up tables (LUT)\\n\\uf0b7Flip-flops\\n\\uf0b7Cascadable adders\\n36Kb Block RAM\\n\\uf0b7True dual-port\\n\\uf0b7Up to 72 bits wide\\n\\uf0b7Configurable as dual 18Kb\\nUltraRAM\\n\\uf0b7288Kb dual-port\\n\\uf0b772 bits wide\\n\\uf0b7Error checking and correction\\nDSP Blocks\\n\\uf0b727 x 18 signed multiply\\n\\uf0b748-bit adder/accumulator\\n\\uf0b727-bit pre-adder\\nProgrammable I/O Blocks\\n\\uf0b7Supports LVCMOS, LVDS, and SSTL\\n\\uf0b71.0V to 3.3V I/O\\n\\uf0b7Programmable I/O delay and SerDes\\nJTAG Boundary-Scan\\n\\uf0b7IEEE Std 1149.1 Compatible Test InterfacePCI Express\\n\\uf0b7Supports Root complex and End Point \\nconfigurations\\n\\uf0b7Supports up to  Gen3 speeds\\n\\uf0b7Up to five integrated bl ocks in select devices\\n100G Ethernet MAC/PCS\\n\\uf0b7IEEE Std 802.3 compliant\\n\\uf0b7CAUI-10 (10x 10.3125Gb/s) or \\nCAUI-4 (4x 25.78125Gb/s)\\n\\uf0b7RSFEC (IEEE Std 802.3bj) in CAUI-4 configuration\\n\\uf0b7Up to four integrated bl ocks in select devices\\nInterlaken', metadata={'page': 2, 'source': 'ds891-zynq-ultrascale-plus-overview.pdf'}), Document(page_content='Zynq UltraScale+ MPSoC: Embedded Design Tutorial 133\\nUG1209 (v2018.3) December 21, 2018 www.xilinx.comChapter 6\\nSystem Design Examples\\nThis chapter guides you through building a system based on Zynq ® UltraScale+™ devices \\nusing available tools and suppor ted software blocks. This chapt er highlights how you can \\nuse the software blocks you configured in Chapter 3  to create a Zynq UltraScale+ system. It \\ndoes not discuss domain-specific designs, but rather highlights  different ways to use \\nlow-level softwa re available for Zynq UltraScale+ devices.\\nDesign Example 1: Using GPIOs, Timers, and \\nInterrupts\\nThe Zynq ZCU102 UltraScale+ Eval uation Board comes with a few u ser configurable \\nSwitches and LEDs. This design example makes use of bare-metal and Linux applications to \\ntoggle these LEDs, with the following details: \\n• The Linux applications configure a set of PL LEDs to toggle us ing a PS Dip Switch, and \\nanother set of PL LEDs to toggle  using a PL Dip Switch (SW17).', metadata={'page': 132, 'source': 'ug1209-embedded-design-tutorial.pdf'}), Document(page_content='You can accomplish all your hardware system development using t he Vivado tools along \\nwith IP integrator. This include s specification of the Zynq Ult raScale+ Processing System, \\nperipherals, and the interconnec tion of these components, along  with their respective \\ndetailed configuration.\\nSDK is used for software develop ment and is available either as  part of the Vivado Design \\nSuite, or it can be installed and used without any other Xilinx  tools installed on the machine \\non which it is loaded. SDK can also be used to debug software a pplications.\\nThe Zynq UltraScale+ Processing System (PS) can be booted and r un without programming \\nthe FPGA (programmable logic or PL). However, in order to use a ny soft IP in the fabric, or \\nto bond out PS peripherals using EMIO, programming of the PL is  required. You can \\nprogram the PL using SDK or usin g the Vivado Hardware Manager.\\nSend Feedback', metadata={'page': 8, 'source': 'ug1209-embedded-design-tutorial.pdf'})]}\u001b[0m\n",
      "\u001b[32;1m\u001b[1;3mBased on the observation, it seems that the Zynq UltraScale FPGA design modules include various hardware components such as Configurable Logic Blocks (CLB), Look-up tables (LUT), Flip-flops, Block RAM, UltraRAM, DSP Blocks, and Programmable I/O Blocks. However, for the specific goals of this project, we need to focus on the design of a state machine and its interaction with the AXI-Lite interface for communication with the Processing System (PS).\n",
      "\n",
      "Thought 1: The necessary modules for the FPGA-based hardware design project should include a state machine module, an AXI-Lite interface module, and possibly other support modules such as clock management or input/output handling.\n",
      "\n",
      "Thought 2: The state machine module will need to handle the logic for transitioning between states and performing the operations associated with each state. The AXI-Lite interface module will be responsible for communication with the PS.\n",
      "\n",
      "Thought 3: I should think about what to do to define the specific modules and their functionalities in detail, considering the constraints and requirements of the project.\n",
      "\n",
      "Action: Web_Search\n",
      "Action Input: SystemVerilog state machine design example\u001b[0m\n",
      "\n",
      "Observation:\u001b[36;1m\u001b[1;3m['Learn how to design Moore and Mealy machines in Verilog and SystemVerilog using enum and case statements to create Finite State Machines.']\u001b[0m\n",
      "\u001b[32;1m\u001b[1;3mBased on the observation, I understand that the design of a state machine in SystemVerilog typically involves using `enum` to define states and `case` statements to handle state transitions. This information will be useful in defining the state machine module for the FPGA-based hardware design project.\n",
      "\n",
      "Thought 1: The state machine module should be designed using `enum` for state definitions and `case` statements for state transitions. It should also include logic for the operations associated with each state.\n",
      "\n",
      "Thought 2: The AXI-Lite interface module will need to be designed to handle communication between the state machine and the PS. This will involve reading control signals and writing status information.\n",
      "\n",
      "Thought 3: Additional support modules may be required for clock management, input/output handling, and signal synchronization to ensure robust operation of the state machine.\n",
      "\n",
      "Action: Web_Search\n",
      "Action Input: AXI-Lite interface SystemVerilog example\u001b[0m\n",
      "\n",
      "Observation:\u001b[36;1m\u001b[1;3m['The above verilog defines a system that handles both the address and data phases of an axi transaction and handles latching the associated payload.']\u001b[0m\n",
      "\u001b[32;1m\u001b[1;3mBased on the observation, I understand that the AXI-Lite interface module in SystemVerilog will handle both the address and data phases of an AXI transaction, including latching the associated payload. This information will be useful in defining the AXI-Lite interface module for the FPGA-based hardware design project.\n",
      "\n",
      "Thought 1: The AXI-Lite interface module should be designed to handle address and data phases, as well as latching payloads, to facilitate communication between the PS and the state machine.\n",
      "\n",
      "Thought 2: The top module will encapsulate the state machine module, the AXI-Lite interface module, and any additional support modules, providing the necessary interconnections between them.\n",
      "\n",
      "Thought 3: I should now define the specific modules and their functionalities in detail, considering the constraints and requirements of the project, and then present them in the requested JSON format.\n",
      "\n",
      "Final Answer:\n",
      "```json\n",
      "[\n",
      "  {\n",
      "    \"Module_Name\": \"Top_Module\",\n",
      "    \"ports\": [\"AXI_Lite_signals\", \"State_Machine_signals\", \"Clock\", \"Reset\"],\n",
      "    \"description\": \"The top-level module that encapsulates the state machine, AXI-Lite interface, and any additional support modules. It manages the overall communication and synchronization between the PS and the PL.\",\n",
      "    \"connections\": [\"State_Machine_Module\", \"AXI_Lite_Interface_Module\", \"Support_Modules\"],\n",
      "    \"hdl_language\": \"SystemVerilog\"\n",
      "  },\n",
      "  {\n",
      "    \"Module_Name\": \"State_Machine_Module\",\n",
      "    \"ports\": [\"Control_Signals\", \"State_Outputs\", \"Clock\", \"Reset\"],\n",
      "    \"description\": \"This module implements the state machine logic for the Add, Subtract, Multiply, and Divide operations. It transitions between states based on control signals received from the AXI-Lite interface and performs the associated operations.\",\n",
      "    \"connections\": [\"AXI_Lite_Interface_Module\"],\n",
      "    \"hdl_language\": \"SystemVerilog\"\n",
      "  },\n",
      "  {\n",
      "    \"Module_Name\": \"AXI_Lite_Interface_Module\",\n",
      "    \"ports\": [\"AXI_Lite_signals\", \"Control_Signals\", \"Status_Information\", \"Clock\", \"Reset\"],\n",
      "    \"description\": \"This module handles the AXI-Lite communication protocol, interfacing with the PS. It manages the address and data phases of AXI transactions, latching payloads, and passing control signals to the state machine.\",\n",
      "    \"connections\": [\"State_Machine_Module\"],\n",
      "    \"hdl_language\": \"SystemVerilog\"\n",
      "  },\n",
      "  {\n",
      "    \"Module_Name\": \"Support_Modules\",\n",
      "    \"ports\": [\"Clock\", \"Reset\", \"Other_Support_Signals\"],\n",
      "    \"description\": \"This module includes any additional support functionality required for the design, such as clock management, input/output handling, and signal synchronization to ensure robust operation of the state machine.\",\n",
      "    \"connections\": [\"Top_Module\"],\n",
      "    \"hdl_language\": \"SystemVerilog\"\n",
      "  }\n",
      "]\n",
      "```\u001b[0m\n",
      "\n",
      "\u001b[1m> Finished chain.\u001b[0m\n"
     ]
    }
   ],
   "source": [
    "###Prompt 2 with agent\n",
    "tools = [\n",
    "    web_search_tool,\n",
    "    document_search_tool,\n",
    "]\n",
    "\n",
    "agent_executor = ModuleAgentExecutor.from_llm_and_tools(llm=bigllm, tools=tools, verbose=True)\n",
    "module_list = agent_executor.run(Goals=project_details.goals, Requirements=project_details.requirements, Constraints=project_details.constraints)"
   ]
  },
  {
   "cell_type": "code",
   "execution_count": 26,
   "metadata": {},
   "outputs": [
    {
     "data": {
      "text/plain": [
       "'```json\\n[\\n  {\\n    \"Module_Name\": \"Top_Module\",\\n    \"ports\": [\"AXI_Lite_signals\", \"State_Machine_signals\", \"Clock\", \"Reset\"],\\n    \"description\": \"The top-level module that encapsulates the state machine, AXI-Lite interface, and any additional support modules. It manages the overall communication and synchronization between the PS and the PL.\",\\n    \"connections\": [\"State_Machine_Module\", \"AXI_Lite_Interface_Module\", \"Support_Modules\"],\\n    \"hdl_language\": \"SystemVerilog\"\\n  },\\n  {\\n    \"Module_Name\": \"State_Machine_Module\",\\n    \"ports\": [\"Control_Signals\", \"State_Outputs\", \"Clock\", \"Reset\"],\\n    \"description\": \"This module implements the state machine logic for the Add, Subtract, Multiply, and Divide operations. It transitions between states based on control signals received from the AXI-Lite interface and performs the associated operations.\",\\n    \"connections\": [\"AXI_Lite_Interface_Module\"],\\n    \"hdl_language\": \"SystemVerilog\"\\n  },\\n  {\\n    \"Module_Name\": \"AXI_Lite_Interface_Module\",\\n    \"ports\": [\"AXI_Lite_signals\", \"Control_Signals\", \"Status_Information\", \"Clock\", \"Reset\"],\\n    \"description\": \"This module handles the AXI-Lite communication protocol, interfacing with the PS. It manages the address and data phases of AXI transactions, latching payloads, and passing control signals to the state machine.\",\\n    \"connections\": [\"State_Machine_Module\"],\\n    \"hdl_language\": \"SystemVerilog\"\\n  },\\n  {\\n    \"Module_Name\": \"Support_Modules\",\\n    \"ports\": [\"Clock\", \"Reset\", \"Other_Support_Signals\"],\\n    \"description\": \"This module includes any additional support functionality required for the design, such as clock management, input/output handling, and signal synchronization to ensure robust operation of the state machine.\",\\n    \"connections\": [\"Top_Module\"],\\n    \"hdl_language\": \"SystemVerilog\"\\n  }\\n]\\n```'"
      ]
     },
     "execution_count": 26,
     "metadata": {},
     "output_type": "execute_result"
    }
   ],
   "source": [
    "module_list"
   ]
  },
  {
   "cell_type": "code",
   "execution_count": 27,
   "metadata": {},
   "outputs": [],
   "source": [
    "module_list = extract_json_from_string(module_list)"
   ]
  },
  {
   "cell_type": "code",
   "execution_count": 39,
   "metadata": {},
   "outputs": [],
   "source": [
    "############## Agent based HDL generation\n",
    "tools = [\n",
    "    #web_search_tool,\n",
    "    document_search_tool,\n",
    "]\n",
    "hdl_agent_executor = AgentExecutor.from_agent_and_tools(agent=agent, tools=tools, verbose=True)\n"
   ]
  },
  {
   "cell_type": "code",
   "execution_count": 40,
   "metadata": {},
   "outputs": [
    {
     "name": "stdout",
     "output_type": "stream",
     "text": [
      "\n",
      "\n",
      "\u001b[1m> Entering new AgentExecutor chain...\u001b[0m\n",
      "\u001b[32;1m\u001b[1;3mThought: To implement the 'Top_Module', I need to understand the AXI-Lite protocol and how to interface it with a state machine in SystemVerilog. I should also consider the structure of the top-level module, which will instantiate and connect the submodules.\n",
      "\n",
      "Action: Doc_Search\n",
      "Action Input: AXI-Lite interface SystemVerilog example\n",
      "\u001b[0m\n",
      "\n",
      "Observation:\u001b[36;1m\u001b[1;3m{'question': 'AXI-Lite interface SystemVerilog example\\n', 'answer': 'There is an example of an AXI4-Lite interface in the document \"HLS-tutorial.pdf\" and it is used in the core design described in the document \"matrixmult-zynq-hls.pdf\". The matching HLS bus interface channel for the AXI4M_bus_port is shown in the document \"ug902-vivado-high-level-synthesis.pdf\".\\n', 'sources': 'HLS-tutorial.pdf, matrixmult-zynq-hls.pdf, ug902-vivado-high-level-synthesis.pdf', 'source_documents': [Document(page_content='optimal balance of area and performance to  satisfy your particular requirements.\\nStep 3: Implementing an AXI4-Lite Interfaces\\nIn this exercise, you group block-level I/O prot ocol ports into a single AXI4-Lite interface, \\nwhich allows these block-level control signals to be controlled and accessed from a CPU.\\n1. Select New Solution  from the toolbar or the Project  menu to create a new solution.\\n2. Accept the defaults and click Finish . This includes copying ex isting directives from \\nsolution1.\\n3. Ensure the C source code is vi sible in the Information pane.\\n4. In the Directive tab, select the top-level function axi_interfaces  and right-click and \\nselect Insert Directive to open the Directive Editor  dialog box.\\na. Select the Directive  drop-down menu at the top and select INTERFACE .X-Ref Target - Figure 4-32\\nFigure 4-32: Directives Tab for Lab 4 Solution1\\nSend Feedback', metadata={'page': 90, 'source': 'HLS-tutorial.pdf'}), Document(page_content='High-Level Synthesis www.xilinx.com 118\\nUG902 (v2013.2) June 19, 2013Interface Management\\n     int addr = 10;\\n     DT tmp[10];     wait();\\n     while(1)\\n     {       tmp[0]=10;\\n       tmp[1]=11;\\n       tmp[2]=12;\\nwhile (!start.read()) wait();// Port read\\n    tmp[0] = bus_if->read(addr);\\n  // Port burst read\\n     bus_if->burst_read(addr,2,tmp);\\n// Port write    \\n     bus_if->write(addr, tmp);\\n      // Port burst write\\nbus_if->burst_write(addr,2,tmp);\\n     dout.write(tmp[0].to_int());\\n     addr+=2;     wait();\\n     }\\n   }\\nWhen the port class AXI4M_bus_port is used in  a design, it must have a matching HLS bus \\ninterface channel hls_bus_chn<start_addr > in the test bench, as shown in the following \\nexample:\\n#include <systemc.h>\\n#include \"tlm.h\"\\nusing namespace tlm;\\n#include \"hls_bus_if.h\"\\n#include \"AE_clock.h\"#include \"driver.h\"\\n#ifdef __RTL_SIMULATION__\\n#include \"dut_rtl_wrapper.h\"#define dut dut_rtl_wrapper\\n#else\\n#include \"dut.h\"#endif\\nint sc_main (int argc , char *argv[]) \\n{', metadata={'page': 117, 'source': 'ug902-vivado-high-level-synthesis.pdf'}), Document(page_content='AXI DMA Overview\\nXAPP1170 (v2.0) January 21, 2016 www.xilinx.com  10The Vivado HLS project is created by running the provided TCL script in the design archive from \\nthe Vivado HLS Command Prompt shell, as illustrated in Figure 6 , with the following command: \\nvivado_hls -f run_hls_script.tcl \\nFurther system level improvements could be achieved by using the 64-bit AXI4-Stream \\ninterface, which would reduce the accelerator latency from 4,267 cycles to approximately 2,700 \\ncycles (loops L1, L2, and L4, shown in Figure 4 , would take half cycles).\\nAXI DMA Overview\\nThe AXI DMA core [Ref 9]  provides high-bandwidth direct memory access between memory \\nand peripherals via an AXI4-Stream interface. The core design has the following AXI4 interfaces:\\n•A X I 4 - L i t e  S l a v e .', metadata={'page': 9, 'source': 'matrixmult-zynq-hls.pdf'})]}\u001b[0m\n",
      "\u001b[32;1m\u001b[1;3mThe observation provides references to documents that contain examples of AXI-Lite interfaces, but it does not provide a direct example of SystemVerilog code for an AXI-Lite interface. To proceed, I need to find a more specific example or guidelines on how to implement an AXI-Lite interface in SystemVerilog.\n",
      "\n",
      "Action: Doc_Search\n",
      "Action Input: Implementing AXI-Lite interface in SystemVerilog\n",
      "\u001b[0m\n",
      "\n",
      "Observation:\u001b[36;1m\u001b[1;3m{'question': 'Implementing AXI-Lite interface in SystemVerilog\\n', 'answer': 'There is no specific information provided about implementing the AXI-Lite interface in SystemVerilog.\\n', 'sources': '', 'source_documents': [Document(page_content='optimal balance of area and performance to  satisfy your particular requirements.\\nStep 3: Implementing an AXI4-Lite Interfaces\\nIn this exercise, you group block-level I/O prot ocol ports into a single AXI4-Lite interface, \\nwhich allows these block-level control signals to be controlled and accessed from a CPU.\\n1. Select New Solution  from the toolbar or the Project  menu to create a new solution.\\n2. Accept the defaults and click Finish . This includes copying ex isting directives from \\nsolution1.\\n3. Ensure the C source code is vi sible in the Information pane.\\n4. In the Directive tab, select the top-level function axi_interfaces  and right-click and \\nselect Insert Directive to open the Directive Editor  dialog box.\\na. Select the Directive  drop-down menu at the top and select INTERFACE .X-Ref Target - Figure 4-32\\nFigure 4-32: Directives Tab for Lab 4 Solution1\\nSend Feedback', metadata={'page': 90, 'source': 'HLS-tutorial.pdf'}), Document(page_content='High-Level Synthesis www.xilinx.com 118\\nUG902 (v2013.2) June 19, 2013Interface Management\\n     int addr = 10;\\n     DT tmp[10];     wait();\\n     while(1)\\n     {       tmp[0]=10;\\n       tmp[1]=11;\\n       tmp[2]=12;\\nwhile (!start.read()) wait();// Port read\\n    tmp[0] = bus_if->read(addr);\\n  // Port burst read\\n     bus_if->burst_read(addr,2,tmp);\\n// Port write    \\n     bus_if->write(addr, tmp);\\n      // Port burst write\\nbus_if->burst_write(addr,2,tmp);\\n     dout.write(tmp[0].to_int());\\n     addr+=2;     wait();\\n     }\\n   }\\nWhen the port class AXI4M_bus_port is used in  a design, it must have a matching HLS bus \\ninterface channel hls_bus_chn<start_addr > in the test bench, as shown in the following \\nexample:\\n#include <systemc.h>\\n#include \"tlm.h\"\\nusing namespace tlm;\\n#include \"hls_bus_if.h\"\\n#include \"AE_clock.h\"#include \"driver.h\"\\n#ifdef __RTL_SIMULATION__\\n#include \"dut_rtl_wrapper.h\"#define dut dut_rtl_wrapper\\n#else\\n#include \"dut.h\"#endif\\nint sc_main (int argc , char *argv[]) \\n{', metadata={'page': 117, 'source': 'ug902-vivado-high-level-synthesis.pdf'}), Document(page_content='The following functions are however provided for use with an interrupt service routine. \\nThere are two interrupts supported in the AXI-Lite Slave interface: \\n• The first is status of the ap_done  signal and available is in location 1. \\n• The second is a task level interrupt and is available in location 2. The task level interrupt \\nshows when a new task can be started and allows operations on the port to be', metadata={'page': 102, 'source': 'ug902-vivado-high-level-synthesis.pdf'})]}\u001b[0m\n",
      "\u001b[32;1m\u001b[1;3mSince the search did not yield a direct example of an AXI-Lite interface in SystemVerilog, I will proceed with the knowledge I have about AXI-Lite interfaces and SystemVerilog to create a synthesizable module for the 'Top_Module'. The 'Top_Module' will instantiate the 'State_Machine_Module', 'AXI_Lite_Interface_Module', and 'Support_Modules', and handle the communication and synchronization between them.\n",
      "\n",
      "Final Answer:\n",
      "\n",
      "```json\n",
      "{\n",
      "  \"Top_Module\": {\n",
      "    \"ports\": [\n",
      "      \"input wire aclk\",\n",
      "      \"input wire aresetn\",\n",
      "      \"input wire [31:0] s_axi_awaddr\",\n",
      "      \"input wire s_axi_awvalid\",\n",
      "      \"output wire s_axi_awready\",\n",
      "      \"input wire [31:0] s_axi_wdata\",\n",
      "      \"input wire [3:0] s_axi_wstrb\",\n",
      "      \"input wire s_axi_wvalid\",\n",
      "      \"output wire s_axi_wready\",\n",
      "      \"output wire [1:0] s_axi_bresp\",\n",
      "      \"output wire s_axi_bvalid\",\n",
      "      \"input wire s_axi_bready\",\n",
      "      \"input wire [31:0] s_axi_araddr\",\n",
      "      \"input wire s_axi_arvalid\",\n",
      "      \"output wire s_axi_arready\",\n",
      "      \"output wire [31:0] s_axi_rdata\",\n",
      "      \"output wire [1:0] s_axi_rresp\",\n",
      "      \"output wire s_axi_rvalid\",\n",
      "      \"input wire s_axi_rready\",\n",
      "      \"output wire [1:0] state\"\n",
      "    ],\n",
      "    \"description\": \"The top-level module that encapsulates the state machine, AXI-Lite interface, and any additional support modules. It manages the overall communication and synchronization between the PS and the PL.\",\n",
      "    \"connections\": [\n",
      "      \"State_Machine_Module\",\n",
      "      \"AXI_Lite_Interface_Module\",\n",
      "      \"Support_Modules\"\n",
      "    ],\n",
      "    \"hdl_language\": \"SystemVerilog\",\n",
      "    \"code\": \"module Top_Module (\\n    input wire aclk,\\n    input wire aresetn,\\n    input wire [31:0] s_axi_awaddr,\\n    input wire s_axi_awvalid,\\n    output wire s_axi_awready,\\n    input wire [31:0] s_axi_wdata,\\n    input wire [3:0] s_axi_wstrb,\\n    input wire s_axi_wvalid,\\n    output wire s_axi_wready,\\n    output wire [1:0] s_axi_bresp,\\n    output wire s_axi_bvalid,\\n    input wire s_axi_bready,\\n    input wire [31:0] s_axi_araddr,\\n    input wire s_axi_arvalid,\\n    output wire s_axi_arready,\\n    output wire [31:0] s_axi_rdata,\\n    output wire [1:0] s_axi_rresp,\\n    output wire s_axi_rvalid,\\n    input wire s_axi_rready,\\n    output wire [1:0] state\\n);\\n\\n    // Instantiate the AXI Lite Interface Module\\n    AXI_Lite_Interface_Module axi_lite_interface (\\n        .aclk(aclk),\\n        .aresetn(aresetn),\\n        .s_axi_awaddr(s_axi_awaddr),\\n        .s_axi_awvalid(s_axi_awvalid),\\n        .s_axi_awready(s_axi_awready),\\n        .s_axi_wdata(s_axi_wdata),\\n        .s_axi_wstrb(s_axi_wstrb),\\n        .s_axi_wvalid(s_axi_wvalid),\\n        .s_axi_wready(s_axi_wready),\\n        .s_axi_bresp(s_axi_bresp),\\n        .s_axi_bvalid(s_axi_bvalid),\\n        .s_axi_bready(s_axi_bready),\\n        .s_axi_araddr(s_axi_araddr),\\n        .s_axi_arvalid(s_axi_arvalid),\\n        .s_axi_arready(s_axi_arready),\\n        .s_axi_rdata(s_axi_rdata),\\n        .s_axi_rresp(s_axi_rresp),\\n        .s_axi_rvalid(s_axi_rvalid),\\n        .s_axi_rready(s_axi_rready)\\n    );\\n\\n    // Instantiate the State Machine Module\\n    State_Machine_Module state_machine (\\n        .Control_Signals(axi_lite_interface.control_signals),\\n        .State_Outputs(state),\\n        .Clock(aclk),\\n        .Reset(aresetn)\\n    );\\n\\n    // Instantiate any Support Modules if necessary\\n    // Support_Modules support_modules (...);\\n\\n    // Additional logic and connections as required\\n\\nendmodule\"\n",
      "  }\n",
      "}\n",
      "```\u001b[0m\n",
      "\n",
      "\u001b[1m> Finished chain.\u001b[0m\n",
      "\n",
      "\n",
      "\u001b[1m> Entering new AgentExecutor chain...\u001b[0m\n",
      "\u001b[32;1m\u001b[1;3mThought: To implement the State_Machine_Module, I need to define the states and the state transition logic based on the control signals received from the AXI-Lite interface. I should use `parameter` to define the state constants and separate the combinational and sequential logic into different `always` blocks.\n",
      "\n",
      "Action: Doc_Search\n",
      "Action Input: SystemVerilog state machine example\n",
      "\u001b[0m\n",
      "\n",
      "Observation:\u001b[36;1m\u001b[1;3m{'question': 'SystemVerilog state machine example\\n', 'answer': \"I don't know the answer to the question.\", 'sources': '', 'source_documents': [Document(page_content=\"4.6 Finite State Machines 209\\nS0\\nS1S2statemachine\\nstate[2:0]y[0]\\nresetclk C\\n[2:0]Q[2:0]R\\nFigure 4.25 divideby3fsm  \\nsynthesized circuit\\nThe next two examples describe the snail pattern recognizer FSM \\nfrom Section 3.4.3 . The code shows how to use case and if statements to \\nhandle next state and output logic that depend on the inputs as well as the \\ncurrent state. We show both Moore and Mealy modules. In the Moore \\nmachine ( HDL Example 4.31 ), the output depends only on the current \\nstate, whereas in the Mealy machine ( HDL Example 4.32 ), the output \\nlogic depends on both the current state and inputs.SystemVerilog\\n// output logic\\nassign y = (state = = S0 | state = = S1);VHDL\\n–– output logic\\ny <= '1' when (state =  S0 or state =  S1) else '0'; and outputs on the arcs and states. Therefore, be careful that you have \\nspecified the FSM correctly in your HDL code. The state transition dia -\\ngram in Figure 4.25  for the divide-by-3 FSM is analogous to the diagram\", metadata={'page': 231, 'source': 'Sarah Harris, David Harris - Digital Design and Computer Architecture_ RISC-V Edition-Morgan Kaufmann (2021).pdf'}), Document(page_content='Moore Model\\nState machines can also be classified based on type state encoding used. Encoding style is also a\\ncritical factor which decides speed, and gate complexity of the FSM. Binary, gray, one hot, one\\ncold, and almost one hot are the different types of encoding styles used in coding FSM states.\\nModeling State machines.\\nOne thing that need to be kept in mind when coding FSM is that, combinational logic and\\nsequence logic should be in two different always blocks. In the above two figures, next state logic\\nis always the combinational logic. State Registers and Output logic are sequential logic. It is very\\nimportant that any asynchronous signal to the next state logic should be synchronized before\\nfeeding to FSM. Always try to keep FSM in separate Verilog file.\\nUsing constants declaration like parameter or `define to define states of the FSM, this makes code\\nmore readable and easy to manage.\\nExample − Arbiter\\nWe will be using the arbiter FSM to study FSM coding styles in Verilog.', metadata={'page': 147, 'source': 'verilog_tutorial.pdf'}), Document(page_content=\"13 endelse begin\\n14 next_state = IDLE;\\n15 end\\n16 GNT0 : if (req_0 == 1'b0) begin\\n17 next_state = IDLE;\\n18 endelse begin\\n19 next_state = GNT0;\\n20 end\\n21 GNT1 : if (req_1 == 1'b0) begin\\n22 next_state = IDLE;\\n23 endelse begin\\n24 next_state = GNT1;\\n25 end\\n26 GNT2 : if (req_2 == 1'b0) begin\\n27 next_state = IDLE;\\n28 endelse begin\\n29 next_state = GNT2;\\nwww.asic−world.com MODELING MEMORIES AND FSM 150\", metadata={'page': 149, 'source': 'verilog_tutorial.pdf'})]}\u001b[0m\n",
      "\u001b[32;1m\u001b[1;3mThe search results provided some insights into how to implement a state machine in SystemVerilog. I should use `parameter` to define the states and separate the combinational and sequential logic into different `always` blocks. I also need to ensure that any asynchronous signals are synchronized before feeding them to the FSM. Now, I will proceed to write the code for the State_Machine_Module.\n",
      "\n",
      "Final Answer:\n",
      "\n",
      "```json\n",
      "{\n",
      "  \"State_Machine_Module\": {\n",
      "    \"ports\": [\n",
      "      \"input wire [1:0] control_signals\",\n",
      "      \"output reg [1:0] state_outputs\",\n",
      "      \"input wire clk\",\n",
      "      \"input wire reset\"\n",
      "    ],\n",
      "    \"description\": \"This module implements the state machine logic for the Add, Subtract, Multiply, and Divide operations. It transitions between states based on control signals received from the AXI-Lite interface and performs the associated operations.\",\n",
      "    \"connections\": [\n",
      "      \"AXI_Lite_Interface_Module\"\n",
      "    ],\n",
      "    \"hdl_language\": \"SystemVerilog\",\n",
      "    \"code\": \"module State_Machine_Module (\\n    input wire [1:0] control_signals,\\n    output reg [1:0] state_outputs,\\n    input wire clk,\\n    input wire reset\\n);\\n\\n    // State encoding\\n    parameter ADD = 2'b00,\\n              SUBTRACT = 2'b01,\\n              MULTIPLY = 2'b10,\\n              DIVIDE = 2'b11;\\n\\n    // State variable\\n    reg [1:0] current_state, next_state;\\n\\n    // Synchronous reset and state transition\\n    always_ff @(posedge clk or negedge reset) begin\\n        if (!reset) begin\\n            current_state <= ADD; // Default state\\n        end else begin\\n            current_state <= next_state;\\n        end\\n    end\\n\\n    // Next state logic\\n    always_comb begin\\n        case (current_state)\\n            ADD, SUBTRACT: begin\\n                // Transition to Multiply or Divide based on control signals\\n                next_state = control_signals[0] ? MULTIPLY : DIVIDE;\\n            end\\n            MULTIPLY, DIVIDE: begin\\n                // Transition to Add or Subtract based on control signals\\n                next_state = control_signals[0] ? ADD : SUBTRACT;\\n            end\\n            default: begin\\n                next_state = ADD;\\n            end\\n        endcase\\n    end\\n\\n    // Output logic\\n    always_ff @(posedge clk) begin\\n        state_outputs <= current_state;\\n    end\\n\\nendmodule\"\n",
      "  }\n",
      "}\n",
      "```\u001b[0m\n",
      "\n",
      "\u001b[1m> Finished chain.\u001b[0m\n",
      "\n",
      "\n",
      "\u001b[1m> Entering new AgentExecutor chain...\u001b[0m\n",
      "\u001b[32;1m\u001b[1;3mThought: To implement the AXI_Lite_Interface_Module, I need to understand the AXI-Lite protocol and how to interface with it using SystemVerilog. I should look for examples or templates that show how to handle the AXI-Lite signals and transactions.\n",
      "\n",
      "Action: Doc_Search\n",
      "Action Input: AXI-Lite interface SystemVerilog example\n",
      "\u001b[0m\n",
      "\n",
      "Observation:\u001b[36;1m\u001b[1;3m{'question': 'AXI-Lite interface SystemVerilog example\\n', 'answer': 'There is an example of an AXI4-Lite interface in the document \"HLS-tutorial.pdf\" and it is used in the core design described in the document \"matrixmult-zynq-hls.pdf\". The matching HLS bus interface channel for the AXI4M_bus_port is shown in the document \"ug902-vivado-high-level-synthesis.pdf\".\\n', 'sources': 'HLS-tutorial.pdf, matrixmult-zynq-hls.pdf, ug902-vivado-high-level-synthesis.pdf', 'source_documents': [Document(page_content='optimal balance of area and performance to  satisfy your particular requirements.\\nStep 3: Implementing an AXI4-Lite Interfaces\\nIn this exercise, you group block-level I/O prot ocol ports into a single AXI4-Lite interface, \\nwhich allows these block-level control signals to be controlled and accessed from a CPU.\\n1. Select New Solution  from the toolbar or the Project  menu to create a new solution.\\n2. Accept the defaults and click Finish . This includes copying ex isting directives from \\nsolution1.\\n3. Ensure the C source code is vi sible in the Information pane.\\n4. In the Directive tab, select the top-level function axi_interfaces  and right-click and \\nselect Insert Directive to open the Directive Editor  dialog box.\\na. Select the Directive  drop-down menu at the top and select INTERFACE .X-Ref Target - Figure 4-32\\nFigure 4-32: Directives Tab for Lab 4 Solution1\\nSend Feedback', metadata={'page': 90, 'source': 'HLS-tutorial.pdf'}), Document(page_content='High-Level Synthesis www.xilinx.com 118\\nUG902 (v2013.2) June 19, 2013Interface Management\\n     int addr = 10;\\n     DT tmp[10];     wait();\\n     while(1)\\n     {       tmp[0]=10;\\n       tmp[1]=11;\\n       tmp[2]=12;\\nwhile (!start.read()) wait();// Port read\\n    tmp[0] = bus_if->read(addr);\\n  // Port burst read\\n     bus_if->burst_read(addr,2,tmp);\\n// Port write    \\n     bus_if->write(addr, tmp);\\n      // Port burst write\\nbus_if->burst_write(addr,2,tmp);\\n     dout.write(tmp[0].to_int());\\n     addr+=2;     wait();\\n     }\\n   }\\nWhen the port class AXI4M_bus_port is used in  a design, it must have a matching HLS bus \\ninterface channel hls_bus_chn<start_addr > in the test bench, as shown in the following \\nexample:\\n#include <systemc.h>\\n#include \"tlm.h\"\\nusing namespace tlm;\\n#include \"hls_bus_if.h\"\\n#include \"AE_clock.h\"#include \"driver.h\"\\n#ifdef __RTL_SIMULATION__\\n#include \"dut_rtl_wrapper.h\"#define dut dut_rtl_wrapper\\n#else\\n#include \"dut.h\"#endif\\nint sc_main (int argc , char *argv[]) \\n{', metadata={'page': 117, 'source': 'ug902-vivado-high-level-synthesis.pdf'}), Document(page_content='AXI DMA Overview\\nXAPP1170 (v2.0) January 21, 2016 www.xilinx.com  10The Vivado HLS project is created by running the provided TCL script in the design archive from \\nthe Vivado HLS Command Prompt shell, as illustrated in Figure 6 , with the following command: \\nvivado_hls -f run_hls_script.tcl \\nFurther system level improvements could be achieved by using the 64-bit AXI4-Stream \\ninterface, which would reduce the accelerator latency from 4,267 cycles to approximately 2,700 \\ncycles (loops L1, L2, and L4, shown in Figure 4 , would take half cycles).\\nAXI DMA Overview\\nThe AXI DMA core [Ref 9]  provides high-bandwidth direct memory access between memory \\nand peripherals via an AXI4-Stream interface. The core design has the following AXI4 interfaces:\\n•A X I 4 - L i t e  S l a v e .', metadata={'page': 9, 'source': 'matrixmult-zynq-hls.pdf'})]}\u001b[0m\n",
      "\u001b[32;1m\u001b[1;3mThe observation provides references to documents that contain examples of AXI4-Lite interfaces, but it does not provide a direct example of SystemVerilog code for an AXI-Lite interface module. However, the references suggest that there are examples of interfacing with AXI-Lite in a high-level synthesis (HLS) context. To implement the AXI_Lite_Interface_Module in SystemVerilog, I will need to create a synthesizable module that can handle the AXI-Lite protocol's read and write transactions.\n",
      "\n",
      "Thought: I should create a SystemVerilog module that includes the necessary AXI-Lite signals and implements the protocol's state machine to handle read and write transactions. I will need to define the interface signals, internal registers for latching address and data, and the state machine logic to respond to AXI-Lite transactions.\n",
      "\n",
      "Action: I will now write the synthesizable SystemVerilog code for the AXI_Lite_Interface_Module.\n",
      "\n",
      "Final Answer:\n",
      "```json\n",
      "{\n",
      "  \"AXI_Lite_Interface_Module\": {\n",
      "    \"ports\": [\n",
      "      \"input wire aclk\",\n",
      "      \"input wire aresetn\",\n",
      "      \"input wire [31:0] s_axi_awaddr\",\n",
      "      \"input wire s_axi_awvalid\",\n",
      "      \"output reg s_axi_awready\",\n",
      "      \"input wire [31:0] s_axi_wdata\",\n",
      "      \"input wire [3:0] s_axi_wstrb\",\n",
      "      \"input wire s_axi_wvalid\",\n",
      "      \"output reg s_axi_wready\",\n",
      "      \"output reg [1:0] s_axi_bresp\",\n",
      "      \"output reg s_axi_bvalid\",\n",
      "      \"input wire s_axi_bready\",\n",
      "      \"input wire [31:0] s_axi_araddr\",\n",
      "      \"input wire s_axi_arvalid\",\n",
      "      \"output reg s_axi_arready\",\n",
      "      \"output reg [31:0] s_axi_rdata\",\n",
      "      \"output reg [1:0] s_axi_rresp\",\n",
      "      \"output reg s_axi_rvalid\",\n",
      "      \"input wire s_axi_rready\",\n",
      "      \"output wire [1:0] control_signals\",\n",
      "      \"input wire clk\",\n",
      "      \"input wire reset\"\n",
      "    ],\n",
      "    \"description\": \"This module handles the AXI-Lite communication protocol, interfacing with the PS. It manages the address and data phases of AXI transactions, latching payloads, and passing control signals to the state machine.\",\n",
      "    \"connections\": [\n",
      "      \"State_Machine_Module\"\n",
      "    ],\n",
      "    \"hdl_language\": \"SystemVerilog\",\n",
      "    \"code\": \"module AXI_Lite_Interface_Module (\\n    input wire aclk,\\n    input wire aresetn,\\n    input wire [31:0] s_axi_awaddr,\\n    input wire s_axi_awvalid,\\n    output reg s_axi_awready,\\n    input wire [31:0] s_axi_wdata,\\n    input wire [3:0] s_axi_wstrb,\\n    input wire s_axi_wvalid,\\n    output reg s_axi_wready,\\n    output reg [1:0] s_axi_bresp,\\n    output reg s_axi_bvalid,\\n    input wire s_axi_bready,\\n    input wire [31:0] s_axi_araddr,\\n    input wire s_axi_arvalid,\\n    output reg s_axi_arready,\\n    output reg [31:0] s_axi_rdata,\\n    output reg [1:0] s_axi_rresp,\\n    output reg s_axi_rvalid,\\n    input wire s_axi_rready,\\n    output wire [1:0] control_signals,\\n    input wire clk,\\n    input wire reset\\n);\\n\\n    // Internal registers for latching address and data\\n    reg [31:0] axi_awaddr_reg;\\n    reg [31:0] axi_wdata_reg;\\n    reg [31:0] axi_araddr_reg;\\n\\n    // AXI-Lite state machine states\\n    localparam IDLE = 0,\\n               WRITE_ADDR = 1,\\n               WRITE_DATA = 2,\\n               READ_ADDR = 3,\\n               READ_DATA = 4;\\n\\n    // State machine current and next state\\n    reg [2:0] current_state, next_state;\\n\\n    // Control signals for the state machine\\n    assign control_signals = {axi_awaddr_reg[1:0], axi_araddr_reg[1:0]};\\n\\n    // AXI-Lite state machine\\n    always_ff @(posedge aclk) begin\\n        if (!aresetn) begin\\n            current_state <= IDLE;\\n            s_axi_awready <= 0;\\n            s_axi_wready <= 0;\\n            s_axi_bvalid <= 0;\\n            s_axi_arready <= 0;\\n            s_axi_rvalid <= 0;\\n            s_axi_rdata <= 0;\\n            axi_awaddr_reg <= 0;\\n            axi_wdata_reg <= 0;\\n            axi_araddr_reg <= 0;\\n        end else begin\\n            current_state <= next_state;\\n        end\\n    end\\n\\n    // Next state logic and output logic\\n    always_comb begin\\n        next_state = current_state;\\n        case (current_state)\\n            IDLE: begin\\n                if (s_axi_awvalid) begin\\n                    next_state = WRITE_ADDR;\\n                end else if (s_axi_arvalid) begin\\n                    next_state = READ_ADDR;\\n                end\\n            end\\n            WRITE_ADDR: begin\\n                s_axi_awready = 1;\\n                axi_awaddr_reg = s_axi_awaddr;\\n                if (s_axi_awvalid && s_axi_wvalid) begin\\n                    next_state = WRITE_DATA;\\n                end\\n            end\\n            WRITE_DATA: begin\\n                s_axi_wready = 1;\\n                axi_wdata_reg = s_axi_wdata;\\n                if (s_axi_wvalid) begin\\n                    s_axi_bvalid = 1;\\n                    s_axi_bresp = 2'b00; // OKAY response\\n                    next_state = IDLE;\\n                end\\n            end\\n            READ_ADDR: begin\\n                s_axi_arready = 1;\\n                axi_araddr_reg = s_axi_araddr;\\n                if (s_axi_arvalid) begin\\n                    next_state = READ_DATA;\\n                end\\n            end\\n            READ_DATA: begin\\n                s_axi_rvalid = 1;\\n                s_axi_rdata = {30'b0, control_signals}; // Example data\\n                s_axi_rresp = 2'b00; // OKAY response\\n                if (s_axi_rready) begin\\n                    next_state = IDLE;\\n                end\\n            end\\n        endcase\\n    end\\n\\nendmodule\"\n",
      "  }\n",
      "}\n",
      "```\u001b[0m\n",
      "\n",
      "\u001b[1m> Finished chain.\u001b[0m\n",
      "\n",
      "\n",
      "\u001b[1m> Entering new AgentExecutor chain...\u001b[0m\n",
      "\u001b[32;1m\u001b[1;3mThought: To implement the Support_Modules, I need to consider what additional support functionality is required for the design. This could include clock management, input/output handling, and signal synchronization. Since the specifics are not detailed in the requirements, I will assume a generic clock domain crossing (CDC) synchronization for the reset signal, which is a common requirement in FPGA designs to ensure robust operation across different clock domains.\n",
      "\n",
      "Final Answer:\n",
      "```json\n",
      "{\n",
      "  \"Support_Modules\": {\n",
      "    \"ports\": [\n",
      "      \"input wire clk\",\n",
      "      \"input wire async_reset\",\n",
      "      \"output wire sync_reset\"\n",
      "    ],\n",
      "    \"description\": \"This module includes additional support functionality required for the design, such as clock management, input/output handling, and signal synchronization to ensure robust operation of the state machine. It provides a synchronized reset signal for use in the state machine and other synchronous logic.\",\n",
      "    \"connections\": [\n",
      "      \"Top_Module\"\n",
      "    ],\n",
      "    \"hdl_language\": \"SystemVerilog\",\n",
      "    \"code\": \"module Support_Modules (\\n    input wire clk,\\n    input wire async_reset,\\n    output wire sync_reset\\n);\\n\\n    // Synchronize the asynchronous reset signal to the clock domain\\n    reg [1:0] reset_sync;\\n\\n    always_ff @(posedge clk) begin\\n        reset_sync <= {reset_sync[0], async_reset};\\n    end\\n\\n    // The synchronized reset signal is active low when both stages are low\\n    assign sync_reset = ~reset_sync[1];\\n\\nendmodule\"\n",
      "  }\n",
      "}\n",
      "```\u001b[0m\n",
      "\n",
      "\u001b[1m> Finished chain.\u001b[0m\n"
     ]
    }
   ],
   "source": [
    "codes = []\n",
    "module_list_str = [str(item) for item in module_list]\n",
    "#current_modules_verified = json.loads(current_modules_verified)\n",
    "for module in module_list:\n",
    "   code = hdl_agent_executor.run(Goals=project_details.goals, Requirements=project_details.requirements, Constraints=project_details.constraints, module_list='\\n'.join(module_list_str), codes='\\n'.join(codes), module=str(module))\n",
    "   codes.append(code)\n"
   ]
  },
  {
   "cell_type": "code",
   "execution_count": 41,
   "metadata": {},
   "outputs": [],
   "source": [
    "save_solution(codes, 0)"
   ]
  },
  {
   "cell_type": "code",
   "execution_count": 43,
   "metadata": {},
   "outputs": [
    {
     "data": {
      "text/plain": [
       "'SystemVerilog'"
      ]
     },
     "execution_count": 43,
     "metadata": {},
     "output_type": "execute_result"
    }
   ],
   "source": [
    "module[\"hdl_language\"]"
   ]
  },
  {
   "cell_type": "markdown",
   "metadata": {},
   "source": [
    "## FPGA-AGI"
   ]
  },
  {
   "cell_type": "code",
   "execution_count": 55,
   "metadata": {},
   "outputs": [],
   "source": [
    "from pydantic import BaseModel\n",
    "import warnings\n",
    "\n",
    "class FPGA_AGI(BaseModel):\n",
    "    verbose: bool = True\n",
    "    requirement_agent_executor: RequirementAgentExecutor = None\n",
    "    module_agent_exxecutor: ModuleAgentExecutor = None\n",
    "    hdl_agent_executor: HdlAgentExecutor = None\n",
    "\n",
    "    def __init__(self, **data):\n",
    "        super().__init__(**data)\n",
    "        if self.requirement_agent_executor is None:\n",
    "            warnings.warn(\"RequirementAgentExecutor is not set. Please use the from_llm class method to properly initialize it.\", UserWarning)\n",
    "\n",
    "    @classmethod\n",
    "    def from_llm(cls, llm, verbose=True):\n",
    "        requirement_agent_executor = RequirementAgentExecutor(llm=llm)\n",
    "        return cls(verbose=verbose, requirement_agent_executor=requirement_agent_executor)\n",
    "\n",
    "# Example of using the class method\n",
    "llm_instance = ...  # however you initialize or obtain your llm\n",
    "fpga_agi_instance = FPGA_AGI.from_llm(llm=llm_instance, verbose=False)\n",
    "\n",
    "# Direct instantiation will issue a warning\n",
    "fpga_agi_direct = FPGA_AGI(verbose=False)\n",
    "\n",
    "\n",
    "test = FPGA_AGI()"
   ]
  },
  {
   "cell_type": "code",
   "execution_count": 58,
   "metadata": {},
   "outputs": [
    {
     "data": {
      "text/plain": [
       "True"
      ]
     },
     "execution_count": 58,
     "metadata": {},
     "output_type": "execute_result"
    }
   ],
   "source": [
    "test.verbose"
   ]
  },
  {
   "cell_type": "markdown",
   "metadata": {},
   "source": [
    "OBJECTIVE = \"Elaborate the best definition for sustainable finance\"\n",
    "llm = ChatOpenAI(model='gpt-4', temperature=0)\n",
    "# Logging of LLMChains\n",
    "verbose=False\n",
    "# If None, will keep on going forever\n",
    "max_iterations: Optional[int] = 7\n",
    "baby_agi = BabyAGI.from_llm(\n",
    "    llm=llm,\n",
    "    vectorstore=vectorstore,\n",
    "    verbose=verbose,\n",
    "    max_iterations=max_iterations\n",
    ")"
   ]
  },
  {
   "cell_type": "markdown",
   "metadata": {},
   "source": [
    "baby_agi({\"objective\": OBJECTIVE})"
   ]
  },
  {
   "cell_type": "code",
   "execution_count": null,
   "metadata": {},
   "outputs": [],
   "source": []
  }
 ],
 "metadata": {
  "kernelspec": {
   "display_name": "base",
   "language": "python",
   "name": "python3"
  },
  "language_info": {
   "codemirror_mode": {
    "name": "ipython",
    "version": 3
   },
   "file_extension": ".py",
   "mimetype": "text/x-python",
   "name": "python",
   "nbconvert_exporter": "python",
   "pygments_lexer": "ipython3",
   "version": "3.10.9"
  },
  "orig_nbformat": 4
 },
 "nbformat": 4,
 "nbformat_minor": 2
}
