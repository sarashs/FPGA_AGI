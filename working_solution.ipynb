{
 "cells": [
  {
   "cell_type": "code",
   "execution_count": 2,
   "metadata": {},
   "outputs": [],
   "source": [
    "import os\n",
    "import json\n",
    "from collections import deque\n",
    "from typing import Dict, List, Optional, Any, Union\n",
    "\n",
    "from langchain_openai import ChatOpenAI\n",
    "\n",
    "\n",
    "# Get human objective\n",
    "# refine it via human in the loop and via adding context (short/long term memory search) -> the output is a json dict of the design\n",
    "# build the modules and test benches usiiing short and long term memory"
   ]
  },
  {
   "cell_type": "code",
   "execution_count": 4,
   "metadata": {},
   "outputs": [],
   "source": [
    "os.environ[\"OPENAI_API_KEY\"] = os.getenv(\"OPENAI_API_KEY\")\n",
    "os.environ[\"SERPAPI_API_KEY\"] = os.getenv(\"SERPAPI_API_KEY\")"
   ]
  },
  {
   "cell_type": "code",
   "execution_count": 5,
   "metadata": {},
   "outputs": [],
   "source": [
    "llm = ChatOpenAI(model='gpt-3.5-turbo-0125', temperature=0)\n",
    "bigllm = ChatOpenAI(model='gpt-4-0125-preview', temperature=0)"
   ]
  },
  {
   "cell_type": "markdown",
   "metadata": {},
   "source": [
    "# Context for FFT"
   ]
  },
  {
   "cell_type": "code",
   "execution_count": 6,
   "metadata": {},
   "outputs": [],
   "source": [
    "from bs4 import BeautifulSoup as Soup\n",
    "from langchain_community.document_loaders.recursive_url_loader import RecursiveUrlLoader\n",
    "\n",
    "# FFT docs \n",
    "url = \"\"\"https://en.wikipedia.org/wiki/Cooley%E2%80%93Tukey_FFT_algorithm\"\"\" #\"\"\"https://www.fpga4student.com/2017/04/verilog-code-for-16-bit-risc-processor.html\"\"\"\n",
    "loader = RecursiveUrlLoader(\n",
    "    url=url, max_depth=1, extractor=lambda x: Soup(x, \"html.parser\").text\n",
    ")\n",
    "docs = loader.load()\n",
    "\n",
    "# Add \n",
    "#docs.extend([*docs_pydantic, *docs_sq])\n",
    "\n",
    "# Sort the list based on the URLs in 'metadata' -> 'source'\n",
    "d_sorted = sorted(docs, key=lambda x: x.metadata[\"source\"])\n",
    "d_reversed = list(reversed(d_sorted))\n",
    "\n",
    "# Concatenate the 'page_content' of each sorted dictionary\n",
    "concatenated_content = \"\\n\\n\\n --- \\n\\n\\n\".join(\n",
    "    [doc.page_content for doc in d_reversed]\n",
    ")"
   ]
  },
  {
   "cell_type": "markdown",
   "metadata": {},
   "source": [
    "# Requirement extraction chain"
   ]
  },
  {
   "cell_type": "code",
   "execution_count": 7,
   "metadata": {},
   "outputs": [],
   "source": [
    "from FPGA_AGI.chains import RequirementChain\n",
    "\n",
    "requirement_chain = RequirementChain.from_llm(bigllm)\n",
    "\n",
    "requirements = requirement_chain.invoke(\n",
    "    {\"objective\": \"design a 32 bit 16-point FFT to run on an ultra-96 v2 FPGA board. the language must be system verilog.\", #\"design an 8-bit RISC V processor in system verilog\", \n",
    "     \"context\" : concatenated_content}\n",
    ")"
   ]
  },
  {
   "cell_type": "code",
   "execution_count": 8,
   "metadata": {},
   "outputs": [
    {
     "name": "stdout",
     "output_type": "stream",
     "text": [
      "['Design a 32-bit 16-point FFT module to run on an Ultra-96 V2 FPGA board '\n",
      " 'using the Cooley–Tukey FFT algorithm.',\n",
      " 'Implement the design in SystemVerilog, focusing on the radix-2 DIT case for '\n",
      " 'the FFT algorithm.']\n",
      "['The FFT module must support 32-bit wide complex number inputs and outputs, '\n",
      " 'accommodating the 16-point FFT size.',\n",
      " 'Implement the radix-2 DIT (decimation-in-time) version of the Cooley–Tukey '\n",
      " 'FFT algorithm, as it is the simplest and most common form.',\n",
      " 'Ensure the design is optimized for the Ultra-96 V2 FPGA board, taking into '\n",
      " 'account its specific hardware capabilities and limitations.',\n",
      " 'Include data reordering (bit reversal) as part of the FFT computation '\n",
      " 'process to ensure the output is in the correct order.']\n"
     ]
    }
   ],
   "source": [
    "import pprint\n",
    "pprint.pprint(requirements.goals)\n",
    "requirements.requirements = requirements.requirements[:4]\n",
    "pprint.pprint(requirements.requirements)"
   ]
  },
  {
   "cell_type": "markdown",
   "metadata": {},
   "source": [
    "# Research Agent"
   ]
  },
  {
   "cell_type": "code",
   "execution_count": 9,
   "metadata": {},
   "outputs": [],
   "source": [
    "# retriever\n",
    "\n",
    "from langchain_community.document_loaders import PyPDFLoader\n",
    "loader = PyPDFLoader(\"https://www.jot.fm/issues/issue_2009_07/column2.pdf\", extract_images=True) #\"https://riscv.org/wp-content/uploads/2017/05/riscv-spec-v2.2.pdf\"\n",
    "pages = loader.load()"
   ]
  },
  {
   "cell_type": "code",
   "execution_count": 10,
   "metadata": {},
   "outputs": [],
   "source": [
    "from langchain.vectorstores import Chroma\n",
    "from langchain.text_splitter import RecursiveCharacterTextSplitter\n",
    "from langchain_openai import OpenAIEmbeddings\n",
    "\n",
    "embeddings_3_small = OpenAIEmbeddings(model='text-embedding-3-small')\n",
    "text_splitter = RecursiveCharacterTextSplitter(chunk_size=2000, chunk_overlap=200)\n",
    "texts = text_splitter.split_documents(pages)\n",
    "pdfsearch = Chroma.from_documents(texts, embeddings_3_small, collection_name= \"knowledge_base\", persist_directory=\"./knowledge_base\")"
   ]
  },
  {
   "cell_type": "code",
   "execution_count": 11,
   "metadata": {},
   "outputs": [
    {
     "name": "stdout",
     "output_type": "stream",
     "text": [
      "('The Cooley–Tukey algorithm, named after J. W. Cooley and John Tukey, is the '\n",
      " 'most common fast Fourier transform (FFT) algorithm. It re-expresses the '\n",
      " 'discrete Fourier transform (DFT) of an arbitrary composite size N = N1N2 in '\n",
      " 'terms of N1 smaller DFTs of sizes N2, recursively, to reduce the computation '\n",
      " 'time to O(N log N) for highly composite N (smooth numbers). Because of the '\n",
      " \"algorithm's importance, specific variants and implementation styles have \"\n",
      " 'become known by their own names, as described below.\\n'\n",
      " '\\n'\n",
      " 'This algorithm, including its recursive application, was invented around '\n",
      " '1805 by Carl Friedrich Gauss, who used it to interpolate the trajectories of '\n",
      " 'the asteroids Pallas and Juno, but his work was not widely recognized (being '\n",
      " 'published only posthumously and in Neo-Latin). Gauss did not analyze the '\n",
      " 'asymptotic computational time, however. Various limited forms were also '\n",
      " 'rediscovered several times throughout the 19th and early 20th centuries. '\n",
      " 'FFTs became popular after James Cooley of IBM and John Tukey of Princeton '\n",
      " 'published a paper in 1965 reinventing the algorithm and describing how to '\n",
      " 'perform it conveniently on a computer.\\n'\n",
      " '\\n'\n",
      " 'A radix-2 decimation-in-time (DIT) FFT is the simplest and most common form '\n",
      " 'of the Cooley–Tukey algorithm, although highly optimized Cooley–Tukey '\n",
      " 'implementations typically use other forms of the algorithm as described '\n",
      " 'below. Radix-2 DIT divides a DFT of size N into two interleaved DFTs (hence '\n",
      " 'the name \"radix-2\") of size N/2 with each recursive stage.\\n'\n",
      " '\\n'\n",
      " 'The discrete Fourier transform (DFT) is defined by the formula:\\n'\n",
      " '\\n'\n",
      " 'Xk = ∑n=0N−1xn e−2πiNnk,\\n'\n",
      " '\\n'\n",
      " 'where k is an integer ranging from 0 to N−1.\\n'\n",
      " '\\n'\n",
      " 'Radix-2 DIT first computes the DFTs of the even-indexed inputs (x2m = x0, '\n",
      " 'x2, …, xN−2) and of the odd-indexed inputs (x2m+1 = x1, x3, …, xN−1), and '\n",
      " 'then combines those two results to produce the DFT of the whole sequence. '\n",
      " 'This idea can then be performed recursively to reduce the overall runtime to '\n",
      " 'O(N log N).\\n'\n",
      " '\\n'\n",
      " 'Pseudocode:\\n'\n",
      " '\\n'\n",
      " 'X0,...,N−1 ← ditfft2(x, N, s): DFT of (x0, xs, x2s, ..., x(N-1)s):\\n'\n",
      " '    if N = 1 then\\n'\n",
      " '        X0 ← x0                                      trivial size-1 DFT base '\n",
      " 'case\\n'\n",
      " '    else\\n'\n",
      " '        X0,...,N/2−1 ← ditfft2(x, N/2, 2s)             DFT of (x0, x2s, x4s, '\n",
      " '..., x(N-2)s)\\n'\n",
      " '        XN/2,...,N−1 ← ditfft2(x+s, N/2, 2s)           DFT of (xs, xs+2s, '\n",
      " 'xs+4s, ..., x(N-1)s)\\n'\n",
      " '        for k = 0 to N/2−1 do                        combine DFTs of two '\n",
      " 'halves into full DFT:\\n'\n",
      " '            p ← Xk\\n'\n",
      " '            q ← exp(−2πi/N k) Xk+N/2\\n'\n",
      " '            Xk ← p + q \\n'\n",
      " '            Xk+N/2 ← p − q\\n'\n",
      " '        end for\\n'\n",
      " '    end if\\n'\n",
      " '\\n'\n",
      " 'The basic step of the Cooley–Tukey FFT for general factorizations can be '\n",
      " 'viewed as re-interpreting a 1d DFT as something like a 2d DFT. The 1d input '\n",
      " 'array of length N = N1N2 is reinterpreted as a 2d N1×N2 matrix stored in '\n",
      " 'column-major order. One performs smaller 1d DFTs along the N2 direction (the '\n",
      " 'non-contiguous direction), then multiplies by phase factors (twiddle '\n",
      " 'factors), and finally performs 1d DFTs along the N1 direction. This is done '\n",
      " 'recursively for the smaller transforms.\\n'\n",
      " '\\n'\n",
      " 'Variations include mixed-radix implementations, split radix, and the '\n",
      " 'four-step FFT algorithm, initially proposed to improve memory locality, e.g. '\n",
      " 'for cache optimization or out-of-core operation, and was later shown to be '\n",
      " 'an optimal cache-oblivious algorithm.\\n'\n",
      " '\\n'\n",
      " 'Data reordering, bit reversal, and in-place algorithms are also discussed, '\n",
      " 'highlighting the diversity in techniques for ordering and accessing the data '\n",
      " 'at each stage of the FFT. Of special interest is devising an in-place '\n",
      " 'algorithm that overwrites its input with its output data using only O(1) '\n",
      " 'auxiliary storage.\\n'\n",
      " '\\n'\n",
      " 'References include works by Gauss, Cooley, Tukey, and others who have '\n",
      " 'contributed to the development and understanding of the FFT.')\n"
     ]
    }
   ],
   "source": [
    "from FPGA_AGI.chains import WebsearchCleaner\n",
    "\n",
    "webcleaner = WebsearchCleaner.from_llm(llm=bigllm)\n",
    "cleaned_concatenated_content = webcleaner.invoke(concatenated_content)\n",
    "cleaned_concatenated_content = cleaned_concatenated_content.cleaned\n",
    "pprint.pprint(cleaned_concatenated_content)"
   ]
  },
  {
   "cell_type": "code",
   "execution_count": 65,
   "metadata": {},
   "outputs": [],
   "source": [
    "import importlib\n",
    "from FPGA_AGI import prompts\n",
    "importlib.reload(prompts)\n",
    "from FPGA_AGI import chains\n",
    "importlib.reload(chains)\n",
    "from langchain_core.prompts import HumanMessagePromptTemplate\n",
    "from FPGA_AGI import agents\n",
    "importlib.reload(agents)\n",
    "from FPGA_AGI.agents import Researcher\n",
    "\n",
    "bigllm = ChatOpenAI(model='gpt-4-turbo', temperature=0)\n",
    "R = Researcher(model=bigllm, retriever=pdfsearch.as_retriever(search_kwargs={\"k\": 1}))\n",
    "\n",
    "#planner_agent_prompt_human = HumanMessagePromptTemplate.from_template(\"\"\"You are planning the procedure for the following. Your goal is to collect all the data and perform all the computation necessary for another hardware engineer to build the design seamlessly.\n",
    "#                    goals:\n",
    "#                    {goals}\n",
    "#                    requirements:\n",
    "#                    {requirements}\n",
    "#                    user input context:\n",
    "#                    {input_context}\"\"\")\n",
    "\n",
    "#human_message = planner_agent_prompt_human.format_messages(goals=requirements.goals, requirements=requirements.requirements, input_context= cleaned_concatenated_content)\n",
    "#result = R.planner_chain.invoke({\"messages\": human_message})\n",
    "\n",
    "#R.stream(goals=requirements.goals, requirements=requirements.requirements, input_context= cleaned_concatenated_content)\n",
    "#result = R.planner_agent.invoke({'goals':requirements.goals, 'requirements':requirements.requirements, 'input_context': concatenated_content})"
   ]
  },
  {
   "cell_type": "code",
   "execution_count": 66,
   "metadata": {},
   "outputs": [
    {
     "name": "stdout",
     "output_type": "stream",
     "text": [
      "['search: Overview of 32-bit 16-point FFT implementations on FPGA platforms.',\n",
      " 'search: Details on the Cooley–Tukey FFT algorithm, focusing on the radix-2 '\n",
      " 'DIT method.',\n",
      " 'search: SystemVerilog implementations of the radix-2 DIT FFT algorithm.',\n",
      " 'search: Specific hardware capabilities and limitations of the Ultra-96 V2 '\n",
      " 'FPGA board.',\n",
      " 'search: Optimization techniques for FFT on FPGA, particularly for the '\n",
      " 'Ultra-96 V2 board.',\n",
      " 'search: Methods for data reordering in FFT implementations, specifically bit '\n",
      " 'reversal techniques.',\n",
      " 'search: Examples of 32-bit complex number handling in FPGA-based FFT '\n",
      " 'designs.',\n",
      " 'search: Performance metrics and benchmarks for FFT implementations on FPGA '\n",
      " 'platforms.',\n",
      " 'report: Compile the findings into a comprehensive literature review, '\n",
      " 'detailing the design and implementation of a 32-bit 16-point FFT module '\n",
      " 'using the Cooley–Tukey algorithm on an Ultra-96 V2 FPGA board, optimized for '\n",
      " 'radix-2 DIT and including data reordering.']\n"
     ]
    }
   ],
   "source": [
    "from pprint import pprint\n",
    "pprint(result.steps)"
   ]
  },
  {
   "cell_type": "code",
   "execution_count": 46,
   "metadata": {},
   "outputs": [
    {
     "data": {
      "text/plain": [
       "ChatPromptTemplate(input_variables=['messages'], input_types={'messages': typing.List[typing.Union[langchain_core.messages.ai.AIMessage, langchain_core.messages.human.HumanMessage, langchain_core.messages.chat.ChatMessage, langchain_core.messages.system.SystemMessage, langchain_core.messages.function.FunctionMessage, langchain_core.messages.tool.ToolMessage]]}, messages=[SystemMessagePromptTemplate(prompt=PromptTemplate(input_variables=[], template='You are a hardware engineering design planner and your purpose is to come up with a step by step plan to:                    1. Collect information (search).                    2. Write a literature review report based on the collected information (report).                    This plan should involve individual tasks, that if executed correctly will yield the correct answer. Do not add any superfluous steps. You are not responsible for the actual design. You are only responsible for literature review.                    As per above your steps should consist of and be named as follows:                    - search: for when you are searching\\n                    - report: we you have collected enough information to write a literature review \\n                    Your final step should always be report, that is when we have all of the necessary information to write a design document.                     Make sure that your steps consists of meaningful and specific questions, geard towards the goals and requirements of the design - do not skip steps.')), MessagesPlaceholder(variable_name='messages')])\n",
       "| RunnableBinding(bound=ChatOpenAI(client=<openai.resources.chat.completions.Completions object at 0x0000024BE9549360>, async_client=<openai.resources.chat.completions.AsyncCompletions object at 0x0000024BEA0CC6D0>, model_name='gpt-4-turbo', temperature=0.0, openai_api_key=SecretStr('**********'), openai_proxy=''), kwargs={'tools': [{'type': 'function', 'function': {'name': 'Plan', 'description': 'Plan to follow in future', 'parameters': {'type': 'object', 'properties': {'steps': {'description': 'different steps to follow, should be in sorted order', 'type': 'array', 'items': {'type': 'string'}}}, 'required': ['steps']}}}], 'tool_choice': {'type': 'function', 'function': {'name': 'Plan'}}})\n",
       "| PydanticToolsParser(tools=[<class 'FPGA_AGI.agents.Researcher.__init__.<locals>.Plan'>])"
      ]
     },
     "execution_count": 46,
     "metadata": {},
     "output_type": "execute_result"
    }
   ],
   "source": [
    "R.planner_agent"
   ]
  },
  {
   "cell_type": "code",
   "execution_count": 17,
   "metadata": {},
   "outputs": [
    {
     "name": "stdout",
     "output_type": "stream",
     "text": [
      "\n",
      "\n",
      "\u001b[1m> Entering new AgentExecutor chain...\u001b[0m\n",
      "\u001b[32;1m\u001b[1;3m\n",
      "Invoking: `python_run` with `{'code': \"import numpy as np\\n\\nN = 16\\n# Calculate twiddle factors for a 16-point FFT\\nW = np.array([np.exp(-2j * np.pi * k / N) for k in range(N)])\\n\\n# Print the twiddle factors\\nfor i, w in enumerate(W):\\n    print(f'W[{i}] = {w}')\"}`\n",
      "\n",
      "\n",
      "\u001b[0m\u001b[36;1m\u001b[1;3mW[0] = (1+0j)\n",
      "W[1] = (0.9238795325112867-0.3826834323650898j)\n",
      "W[2] = (0.7071067811865476-0.7071067811865476j)\n",
      "W[3] = (0.38268343236508984-0.9238795325112867j)\n",
      "W[4] = (6.123233995736766e-17-1j)\n",
      "W[5] = (-0.3826834323650897-0.9238795325112867j)\n",
      "W[6] = (-0.7071067811865475-0.7071067811865476j)\n",
      "W[7] = (-0.9238795325112867-0.3826834323650899j)\n",
      "W[8] = (-1-1.2246467991473532e-16j)\n",
      "W[9] = (-0.9238795325112868+0.38268343236508967j)\n",
      "W[10] = (-0.7071067811865477+0.7071067811865475j)\n",
      "W[11] = (-0.38268343236509034+0.9238795325112865j)\n",
      "W[12] = (-1.8369701987210297e-16+1j)\n",
      "W[13] = (0.38268343236509+0.9238795325112866j)\n",
      "W[14] = (0.7071067811865474+0.7071067811865477j)\n",
      "W[15] = (0.9238795325112865+0.3826834323650904j)\n",
      "\u001b[0m\u001b[32;1m\u001b[1;3mThe twiddle factors for a 16-point FFT using the radix-2 DIT algorithm are as follows:\n",
      "\n",
      "- W[0] = (1+0j)\n",
      "- W[1] = (0.9238795325112867-0.3826834323650898j)\n",
      "- W[2] = (0.7071067811865476-0.7071067811865476j)\n",
      "- W[3] = (0.38268343236508984-0.9238795325112867j)\n",
      "- W[4] = (6.123233995736766e-17-1j)\n",
      "- W[5] = (-0.3826834323650897-0.9238795325112867j)\n",
      "- W[6] = (-0.7071067811865475-0.7071067811865476j)\n",
      "- W[7] = (-0.9238795325112867-0.3826834323650899j)\n",
      "- W[8] = (-1-1.2246467991473532e-16j)\n",
      "- W[9] = (-0.9238795325112868+0.38268343236508967j)\n",
      "- W[10] = (-0.7071067811865477+0.7071067811865475j)\n",
      "- W[11] = (-0.38268343236509034+0.9238795325112865j)\n",
      "- W[12] = (-1.8369701987210297e-16+1j)\n",
      "- W[13] = (0.38268343236509+0.9238795325112866j)\n",
      "- W[14] = (0.7071067811865474+0.7071067811865477j)\n",
      "- W[15] = (0.9238795325112865+0.3826834323650904j)\n",
      "\n",
      "These values can be precomputed and stored in a lookup table for the hardware implementation of the FFT.\u001b[0m\n",
      "\n",
      "\u001b[1m> Finished chain.\u001b[0m\n"
     ]
    },
    {
     "data": {
      "text/plain": [
       "{'messages': [HumanMessage(content='Calculate the twiddle factors for a 16-point FFT using the radix-2 DIT algorithm. These will be precomputed and stored in a lookup table for the hardware implementation.', name='researcher')],\n",
       " 'output': 'The twiddle factors for a 16-point FFT using the radix-2 DIT algorithm are as follows:\\n\\n- W[0] = (1+0j)\\n- W[1] = (0.9238795325112867-0.3826834323650898j)\\n- W[2] = (0.7071067811865476-0.7071067811865476j)\\n- W[3] = (0.38268343236508984-0.9238795325112867j)\\n- W[4] = (6.123233995736766e-17-1j)\\n- W[5] = (-0.3826834323650897-0.9238795325112867j)\\n- W[6] = (-0.7071067811865475-0.7071067811865476j)\\n- W[7] = (-0.9238795325112867-0.3826834323650899j)\\n- W[8] = (-1-1.2246467991473532e-16j)\\n- W[9] = (-0.9238795325112868+0.38268343236508967j)\\n- W[10] = (-0.7071067811865477+0.7071067811865475j)\\n- W[11] = (-0.38268343236509034+0.9238795325112865j)\\n- W[12] = (-1.8369701987210297e-16+1j)\\n- W[13] = (0.38268343236509+0.9238795325112866j)\\n- W[14] = (0.7071067811865474+0.7071067811865477j)\\n- W[15] = (0.9238795325112865+0.3826834323650904j)\\n\\nThese values can be precomputed and stored in a lookup table for the hardware implementation of the FFT.'}"
      ]
     },
     "execution_count": 17,
     "metadata": {},
     "output_type": "execute_result"
    }
   ],
   "source": [
    "from langchain_core.messages import HumanMessage\n",
    "state = {'messages': [HumanMessage(content='Calculate the twiddle factors for a 16-point FFT using the radix-2 DIT algorithm. These will be precomputed and stored in a lookup table for the hardware implementation.', name='researcher')]}\n",
    "\n",
    "R.compute_agent.invoke(state)"
   ]
  },
  {
   "cell_type": "code",
   "execution_count": 13,
   "metadata": {},
   "outputs": [
    {
     "data": {
      "text/plain": [
       "StructuredTool(name='python_run', description=\"python_run(code: typing.Annotated[str, 'The python code to execute to generate your results.']) -> str - Use this to execute python code. If you want to see the output of a value,\\n    you should print it out with `print(...)`.\", args_schema=<class 'pydantic.main.python_runSchema'>, func=<function python_run at 0x0000024BDBE3AD40>)"
      ]
     },
     "execution_count": 13,
     "metadata": {},
     "output_type": "execute_result"
    }
   ],
   "source": [
    "from FPGA_AGI.tools import search_web, python_run, Thought\n",
    "python_run"
   ]
  },
  {
   "cell_type": "code",
   "execution_count": 13,
   "metadata": {},
   "outputs": [
    {
     "data": {
      "text/plain": [
       "StructuredTool(name='search_web', description='search_web(keywords: str) - A web search tool.', args_schema=<class 'pydantic.main.search_webSchema'>, func=<function search_web at 0x00000247DD34C0D0>)"
      ]
     },
     "execution_count": 13,
     "metadata": {},
     "output_type": "execute_result"
    }
   ],
   "source": [
    "search_web"
   ]
  },
  {
   "cell_type": "code",
   "execution_count": null,
   "metadata": {},
   "outputs": [],
   "source": [
    "response = R.research_agent.invoke({\"messages\": human_message})"
   ]
  },
  {
   "cell_type": "code",
   "execution_count": null,
   "metadata": {},
   "outputs": [
    {
     "data": {
      "text/plain": [
       "'compute'"
      ]
     },
     "execution_count": 54,
     "metadata": {},
     "output_type": "execute_result"
    }
   ],
   "source": [
    "response[0].decision"
   ]
  },
  {
   "cell_type": "code",
   "execution_count": null,
   "metadata": {},
   "outputs": [],
   "source": [
    "test = []\n",
    "for i in range(20):\n",
    "    response = R.research_agent.invoke({\"messages\": human_message})\n",
    "    test.append(response)"
   ]
  },
  {
   "cell_type": "code",
   "execution_count": null,
   "metadata": {},
   "outputs": [
    {
     "data": {
      "text/plain": [
       "[[decision(decision='solution', search='NA', compute='NA')],\n",
       " [decision(decision='solution', search='NA', compute='NA')],\n",
       " [decision(decision='solution', search='NA', compute='NA')],\n",
       " [decision(decision='solution', search='NA', compute='NA')],\n",
       " [decision(decision='solution', search='NA', compute='NA')],\n",
       " [decision(decision='solution', search='NA', compute='NA')],\n",
       " [decision(decision='solution', search='NA', compute='NA')],\n",
       " [decision(decision='solution', search='NA', compute='NA')],\n",
       " [decision(decision='solution', search='NA', compute='NA')],\n",
       " [decision(decision='solution', search='NA', compute='NA')],\n",
       " [decision(decision='solution', search='NA', compute='NA')],\n",
       " [decision(decision='solution', search='NA', compute='NA')],\n",
       " [decision(decision='solution', search='NA', compute='NA')],\n",
       " [decision(decision='solution', search='NA', compute='NA')],\n",
       " [decision(decision='solution', search='NA', compute='NA')],\n",
       " [decision(decision='solution', search='NA', compute='NA')],\n",
       " [decision(decision='solution', search='NA', compute='NA')],\n",
       " [decision(decision='solution', search='NA', compute='NA')],\n",
       " [decision(decision='solution', search='NA', compute='NA')],\n",
       " [decision(decision='solution', search='NA', compute='NA')]]"
      ]
     },
     "execution_count": 40,
     "metadata": {},
     "output_type": "execute_result"
    }
   ],
   "source": [
    "test"
   ]
  },
  {
   "cell_type": "markdown",
   "metadata": {},
   "source": [
    "# Compute Agent"
   ]
  },
  {
   "cell_type": "code",
   "execution_count": null,
   "metadata": {},
   "outputs": [],
   "source": [
    "from langchain_core.messages import BaseMessage, HumanMessage, SystemMessage, FunctionMessage\n",
    "from langchain.prompts import PromptTemplate, MessagesPlaceholder, ChatPromptTemplate\n",
    "from FPGA_AGI.tools import python_run\n",
    "from langchain.agents import AgentExecutor, create_openai_tools_agent\n",
    "messages = [HumanMessage(content = \"compute the twiddle factors of 64 point FFT\", name=\"Researcher\")]\n",
    "#response = R.compute_agent.invoke({\"messages\": messages})\n",
    "\n",
    "#compute_llm_with_tool = bigllm.bind(\n",
    "#    tools=[python_run],\n",
    "#    tool_choice={\"type\": \"function\", \"function\": {\"name\": \"python_run\"}},\n",
    "#)\n",
    "\n",
    "## Prompt\n",
    "#compute_prompt = ChatPromptTemplate.from_messages(\n",
    "#    [(\n",
    "#            \"system\",\"\"\"\n",
    "#            You are a hardware engineer helping a senior hardware engineer with their computational needs. In order to do that you use python.\"\"\"\n",
    "#        ),\n",
    "#        MessagesPlaceholder(variable_name=\"messages\"),\n",
    "#    ]\n",
    "#)\n",
    "## Chain\n",
    "#compute_agent = compute_prompt | compute_llm_with_tool | JsonOutputFunctionsParser()\n",
    "\n",
    "\n",
    "system_prompt = \"\"\"You are a hardware engineer helping a senior hardware engineer with their computational needs. In order to do that you use python.\n",
    "Work autonomously according to your specialty, using the tools available to you.\n",
    "You must write a code to compute what is asked of you in python to answer the question.\n",
    "Do not answer based on your own knowledge/memory. instead write a python code that computes the answer, run it, and observe the results.\n",
    "You must print the results in your response no matter how long or large they might be. \n",
    "You must completely print the results. Do not leave any place holders. Do not use ... \n",
    "Do not ask for clarification. You also do not refuse to answer the question.\n",
    "Your other team members (and other teams) will collaborate with you with their own specialties.\"\"\"\n",
    "prompt = ChatPromptTemplate.from_messages(\n",
    "    [\n",
    "        (\n",
    "            \"system\",\n",
    "            system_prompt,\n",
    "        ),\n",
    "        MessagesPlaceholder(variable_name=\"messages\"),\n",
    "        MessagesPlaceholder(variable_name=\"agent_scratchpad\"),\n",
    "    ]\n",
    ")\n",
    "agent = create_openai_tools_agent(bigllm, [python_run], prompt)\n",
    "executor = AgentExecutor(agent=agent, tools=[python_run])"
   ]
  },
  {
   "cell_type": "code",
   "execution_count": null,
   "metadata": {},
   "outputs": [],
   "source": [
    "#compute_agent.invoke({\"messages\": messages})\n",
    "#python_run\n",
    "response = executor.invoke({\"messages\": messages})"
   ]
  },
  {
   "cell_type": "code",
   "execution_count": null,
   "metadata": {},
   "outputs": [
    {
     "data": {
      "text/plain": [
       "'W0: (1+0j)\\nW1: (0.9987954562051724-0.049067674327418015j)\\nW2: (0.9951847266721969-0.0980171403295606j)\\nW3: (0.989176509964781-0.14673047445536175j)\\nW4: (0.9807852804032304-0.19509032201612825j)\\nW5: (0.970031253194544-0.24298017990326387j)\\nW6: (0.9569403357322088-0.29028467725446233j)\\nW7: (0.9415440651830208-0.33688985339222005j)\\nW8: (0.9238795325112867-0.3826834323650898j)\\nW9: (0.9039892931234433-0.4275550934302821j)\\nW10: (0.881921264348355-0.47139673682599764j)\\nW11: (0.8577286100002721-0.5141027441932217j)\\nW12: (0.8314696123025452-0.5555702330196022j)\\nW13: (0.8032075314806449-0.5956993044924334j)\\nW14: (0.773010453362737-0.6343932841636455j)\\nW15: (0.7409511253549591-0.6715589548470183j)\\nW16: (0.7071067811865476-0.7071067811865475j)\\nW17: (0.6715589548470183-0.7409511253549591j)\\nW18: (0.6343932841636455-0.773010453362737j)\\nW19: (0.5956993044924334-0.8032075314806449j)\\nW20: (0.5555702330196022-0.8314696123025452j)\\nW21: (0.5141027441932217-0.8577286100002721j)\\nW22: (0.47139673682599764-0.881921264348355j)\\nW23: (0.4275550934302821-0.9039892931234433j)\\nW24: (0.3826834323650898-0.9238795325112867j)\\nW25: (0.33688985339222005-0.9415440651830208j)\\nW26: (0.29028467725446233-0.9569403357322088j)\\nW27: (0.24298017990326387-0.970031253194544j)\\nW28: (0.19509032201612825-0.9807852804032304j)\\nW29: (0.14673047445536175-0.989176509964781j)\\nW30: (0.0980171403295606-0.9951847266721969j)\\nW31: (0.049067674327418015-0.9987954562051724j)\\nW32: (6.123233995736766e-17-1j)\\nW33: (-0.049067674327418015-0.9987954562051724j)\\nW34: (-0.0980171403295606-0.9951847266721969j)\\nW35: (-0.14673047445536175-0.989176509964781j)\\nW36: (-0.19509032201612825-0.9807852804032304j)\\nW37: (-0.24298017990326387-0.970031253194544j)\\nW38: (-0.29028467725446233-0.9569403357322088j)\\nW39: (-0.33688985339222005-0.9415440651830208j)\\nW40: (-0.3826834323650898-0.9238795325112867j)\\nW41: (-0.4275550934302821-0.9039892931234433j)\\nW42: (-0.47139673682599764-0.881921264348355j)\\nW43: (-0.5141027441932217-0.8577286100002721j)\\nW44: (-0.5555702330196022-0.8314696123025452j)\\nW45: (-0.5956993044924334-0.8032075314806449j)\\nW46: (-0.6343932841636455-0.773010453362737j)\\nW47: (-0.6715589548470183-0.7409511253549591j)\\nW48: (-0.7071067811865475-0.7071067811865476j)\\nW49: (-0.7409511253549591-0.6715589548470183j)\\nW50: (-0.773010453362737-0.6343932841636455j)\\nW51: (-0.8032075314806449-0.5956993044924334j)\\nW52: (-0.8314696123025452-0.5555702330196022j)\\nW53: (-0.8577286100002721-0.5141027441932217j)\\nW54: (-0.881921264348355-0.47139673682599764j)\\nW55: (-0.9039892931234433-0.4275550934302821j)\\nW56: (-0.9238795325112867-0.3826834323650898j)\\nW57: (-0.9415440651830208-0.33688985339222005j)\\nW58: (-0.9569403357322088-0.29028467725446233j)\\nW59: (-0.970031253194544-0.24298017990326387j)\\nW60: (-0.9807852804032304-0.19509032201612825j)\\nW61: (-0.989176509964781-0.14673047445536175j)\\nW62: (-0.9951847266721969-0.0980171403295606j)\\nW63: (-0.9987954562051724-0.049067674327418015j)'"
      ]
     },
     "execution_count": 44,
     "metadata": {},
     "output_type": "execute_result"
    }
   ],
   "source": [
    "response['output']"
   ]
  },
  {
   "cell_type": "markdown",
   "metadata": {},
   "source": [
    "# Modular design agent"
   ]
  },
  {
   "cell_type": "code",
   "execution_count": 68,
   "metadata": {},
   "outputs": [
    {
     "name": "stdout",
     "output_type": "stream",
     "text": [
      "Thought\n",
      "search_web\n",
      "Thought\n",
      "search_web\n",
      "Thought\n"
     ]
    },
    {
     "ename": "KeyboardInterrupt",
     "evalue": "",
     "output_type": "error",
     "traceback": [
      "\u001b[1;31m---------------------------------------------------------------------------\u001b[0m",
      "\u001b[1;31mKeyboardInterrupt\u001b[0m                         Traceback (most recent call last)",
      "Cell \u001b[1;32mIn[68], line 21\u001b[0m\n\u001b[0;32m     17\u001b[0m multiple_attempts \u001b[38;5;241m=\u001b[39m []\n\u001b[0;32m     20\u001b[0m agent \u001b[38;5;241m=\u001b[39m HierarchicalDesignAgent(model, tools)\n\u001b[1;32m---> 21\u001b[0m hierarchical_response \u001b[38;5;241m=\u001b[39m \u001b[43magent\u001b[49m\u001b[38;5;241;43m.\u001b[39;49m\u001b[43minvoke\u001b[49m\u001b[43m(\u001b[49m\u001b[43m{\u001b[49m\u001b[38;5;124;43m'\u001b[39;49m\u001b[38;5;124;43mmessages\u001b[39;49m\u001b[38;5;124;43m'\u001b[39;49m\u001b[43m:\u001b[49m\u001b[43m \u001b[49m\u001b[43mmessages\u001b[49m\u001b[43m}\u001b[49m\u001b[43m)\u001b[49m\n",
      "File \u001b[1;32mc:\\Users\\arash\\FPGA_AGI\\FPGA_AGI\\agents.py:144\u001b[0m, in \u001b[0;36minvoke\u001b[1;34m(self, messages)\u001b[0m\n\u001b[0;32m    141\u001b[0m \u001b[38;5;66;03m# We construct an ToolInvocation from the function_call\u001b[39;00m\n\u001b[0;32m    142\u001b[0m \u001b[38;5;28mprint\u001b[39m(last_message\u001b[38;5;241m.\u001b[39madditional_kwargs[\u001b[38;5;124m\"\u001b[39m\u001b[38;5;124mfunction_call\u001b[39m\u001b[38;5;124m\"\u001b[39m][\u001b[38;5;124m\"\u001b[39m\u001b[38;5;124mname\u001b[39m\u001b[38;5;124m\"\u001b[39m])\n\u001b[0;32m    143\u001b[0m action \u001b[38;5;241m=\u001b[39m ToolInvocation(\n\u001b[1;32m--> 144\u001b[0m     tool\u001b[38;5;241m=\u001b[39mlast_message\u001b[38;5;241m.\u001b[39madditional_kwargs[\u001b[38;5;124m\"\u001b[39m\u001b[38;5;124mfunction_call\u001b[39m\u001b[38;5;124m\"\u001b[39m][\u001b[38;5;124m\"\u001b[39m\u001b[38;5;124mname\u001b[39m\u001b[38;5;124m\"\u001b[39m],\n\u001b[0;32m    145\u001b[0m     tool_input\u001b[38;5;241m=\u001b[39mjson\u001b[38;5;241m.\u001b[39mloads(\n\u001b[0;32m    146\u001b[0m         last_message\u001b[38;5;241m.\u001b[39madditional_kwargs[\u001b[38;5;124m\"\u001b[39m\u001b[38;5;124mfunction_call\u001b[39m\u001b[38;5;124m\"\u001b[39m][\u001b[38;5;124m\"\u001b[39m\u001b[38;5;124marguments\u001b[39m\u001b[38;5;124m\"\u001b[39m]\n\u001b[0;32m    147\u001b[0m     ),\n\u001b[0;32m    148\u001b[0m )\n\u001b[0;32m    149\u001b[0m \u001b[38;5;66;03m# We call the tool_executor and get back a response\u001b[39;00m\n\u001b[0;32m    150\u001b[0m response \u001b[38;5;241m=\u001b[39m \u001b[38;5;28mself\u001b[39m\u001b[38;5;241m.\u001b[39mtool_executor\u001b[38;5;241m.\u001b[39minvoke(action)\n",
      "File \u001b[1;32mc:\\Users\\arash\\anaconda3\\lib\\site-packages\\langgraph\\pregel\\__init__.py:838\u001b[0m, in \u001b[0;36mPregel.invoke\u001b[1;34m(self, input, config, output_keys, input_keys, interrupt_before_nodes, interrupt_after_nodes, debug, **kwargs)\u001b[0m\n\u001b[0;32m    825\u001b[0m \u001b[38;5;28;01mdef\u001b[39;00m \u001b[38;5;21minvoke\u001b[39m(\n\u001b[0;32m    826\u001b[0m     \u001b[38;5;28mself\u001b[39m,\n\u001b[0;32m    827\u001b[0m     \u001b[38;5;28minput\u001b[39m: Union[\u001b[38;5;28mdict\u001b[39m[\u001b[38;5;28mstr\u001b[39m, Any], Any],\n\u001b[1;32m   (...)\u001b[0m\n\u001b[0;32m    835\u001b[0m     \u001b[38;5;241m*\u001b[39m\u001b[38;5;241m*\u001b[39mkwargs: Any,\n\u001b[0;32m    836\u001b[0m ) \u001b[38;5;241m-\u001b[39m\u001b[38;5;241m>\u001b[39m Union[\u001b[38;5;28mdict\u001b[39m[\u001b[38;5;28mstr\u001b[39m, Any], Any]:\n\u001b[0;32m    837\u001b[0m     latest: Union[\u001b[38;5;28mdict\u001b[39m[\u001b[38;5;28mstr\u001b[39m, Any], Any] \u001b[38;5;241m=\u001b[39m \u001b[38;5;28;01mNone\u001b[39;00m\n\u001b[1;32m--> 838\u001b[0m     \u001b[38;5;28;01mfor\u001b[39;00m chunk \u001b[38;5;129;01min\u001b[39;00m \u001b[38;5;28mself\u001b[39m\u001b[38;5;241m.\u001b[39mstream(\n\u001b[0;32m    839\u001b[0m         \u001b[38;5;28minput\u001b[39m,\n\u001b[0;32m    840\u001b[0m         config,\n\u001b[0;32m    841\u001b[0m         output_keys\u001b[38;5;241m=\u001b[39moutput_keys \u001b[38;5;28;01mif\u001b[39;00m output_keys \u001b[38;5;129;01mis\u001b[39;00m \u001b[38;5;129;01mnot\u001b[39;00m \u001b[38;5;28;01mNone\u001b[39;00m \u001b[38;5;28;01melse\u001b[39;00m \u001b[38;5;28mself\u001b[39m\u001b[38;5;241m.\u001b[39moutput,\n\u001b[0;32m    842\u001b[0m         input_keys\u001b[38;5;241m=\u001b[39minput_keys,\n\u001b[0;32m    843\u001b[0m         interrupt_before_nodes\u001b[38;5;241m=\u001b[39minterrupt_before_nodes,\n\u001b[0;32m    844\u001b[0m         interrupt_after_nodes\u001b[38;5;241m=\u001b[39minterrupt_after_nodes,\n\u001b[0;32m    845\u001b[0m         debug\u001b[38;5;241m=\u001b[39mdebug,\n\u001b[0;32m    846\u001b[0m         \u001b[38;5;241m*\u001b[39m\u001b[38;5;241m*\u001b[39mkwargs,\n\u001b[0;32m    847\u001b[0m     ):\n\u001b[0;32m    848\u001b[0m         latest \u001b[38;5;241m=\u001b[39m chunk\n\u001b[0;32m    849\u001b[0m     \u001b[38;5;28;01mreturn\u001b[39;00m latest\n",
      "File \u001b[1;32mc:\\Users\\arash\\anaconda3\\lib\\site-packages\\langgraph\\pregel\\__init__.py:886\u001b[0m, in \u001b[0;36mPregel.transform\u001b[1;34m(self, input, config, output_keys, input_keys, interrupt_before_nodes, interrupt_after_nodes, debug, **kwargs)\u001b[0m\n\u001b[0;32m    874\u001b[0m \u001b[38;5;28;01mdef\u001b[39;00m \u001b[38;5;21mtransform\u001b[39m(\n\u001b[0;32m    875\u001b[0m     \u001b[38;5;28mself\u001b[39m,\n\u001b[0;32m    876\u001b[0m     \u001b[38;5;28minput\u001b[39m: Iterator[Union[\u001b[38;5;28mdict\u001b[39m[\u001b[38;5;28mstr\u001b[39m, Any], Any]],\n\u001b[1;32m   (...)\u001b[0m\n\u001b[0;32m    884\u001b[0m     \u001b[38;5;241m*\u001b[39m\u001b[38;5;241m*\u001b[39mkwargs: Any,\n\u001b[0;32m    885\u001b[0m ) \u001b[38;5;241m-\u001b[39m\u001b[38;5;241m>\u001b[39m Iterator[Union[\u001b[38;5;28mdict\u001b[39m[\u001b[38;5;28mstr\u001b[39m, Any], Any]]:\n\u001b[1;32m--> 886\u001b[0m     \u001b[38;5;28;01mfor\u001b[39;00m chunk \u001b[38;5;129;01min\u001b[39;00m \u001b[38;5;28mself\u001b[39m\u001b[38;5;241m.\u001b[39m_transform_stream_with_config(\n\u001b[0;32m    887\u001b[0m         \u001b[38;5;28minput\u001b[39m,\n\u001b[0;32m    888\u001b[0m         \u001b[38;5;28mself\u001b[39m\u001b[38;5;241m.\u001b[39m_transform,\n\u001b[0;32m    889\u001b[0m         config,\n\u001b[0;32m    890\u001b[0m         output_keys\u001b[38;5;241m=\u001b[39moutput_keys,\n\u001b[0;32m    891\u001b[0m         input_keys\u001b[38;5;241m=\u001b[39minput_keys,\n\u001b[0;32m    892\u001b[0m         interrupt_before_nodes\u001b[38;5;241m=\u001b[39minterrupt_before_nodes,\n\u001b[0;32m    893\u001b[0m         interrupt_after_nodes\u001b[38;5;241m=\u001b[39minterrupt_after_nodes,\n\u001b[0;32m    894\u001b[0m         debug\u001b[38;5;241m=\u001b[39mdebug,\n\u001b[0;32m    895\u001b[0m         \u001b[38;5;241m*\u001b[39m\u001b[38;5;241m*\u001b[39mkwargs,\n\u001b[0;32m    896\u001b[0m     ):\n\u001b[0;32m    897\u001b[0m         \u001b[38;5;28;01myield\u001b[39;00m chunk\n",
      "File \u001b[1;32mc:\\Users\\arash\\anaconda3\\lib\\site-packages\\langchain_core\\runnables\\base.py:1849\u001b[0m, in \u001b[0;36mRunnable._transform_stream_with_config\u001b[1;34m(self, input, transformer, config, run_type, **kwargs)\u001b[0m\n\u001b[0;32m   1847\u001b[0m \u001b[38;5;28;01mtry\u001b[39;00m:\n\u001b[0;32m   1848\u001b[0m     \u001b[38;5;28;01mwhile\u001b[39;00m \u001b[38;5;28;01mTrue\u001b[39;00m:\n\u001b[1;32m-> 1849\u001b[0m         chunk: Output \u001b[38;5;241m=\u001b[39m \u001b[43mcontext\u001b[49m\u001b[38;5;241;43m.\u001b[39;49m\u001b[43mrun\u001b[49m\u001b[43m(\u001b[49m\u001b[38;5;28;43mnext\u001b[39;49m\u001b[43m,\u001b[49m\u001b[43m \u001b[49m\u001b[43miterator\u001b[49m\u001b[43m)\u001b[49m  \u001b[38;5;66;03m# type: ignore\u001b[39;00m\n\u001b[0;32m   1850\u001b[0m         \u001b[38;5;28;01myield\u001b[39;00m chunk\n\u001b[0;32m   1851\u001b[0m         \u001b[38;5;28;01mif\u001b[39;00m final_output_supported:\n",
      "File \u001b[1;32mc:\\Users\\arash\\anaconda3\\lib\\site-packages\\langgraph\\pregel\\__init__.py:565\u001b[0m, in \u001b[0;36mPregel._transform\u001b[1;34m(self, input, run_manager, config, **kwargs)\u001b[0m\n\u001b[0;32m    558\u001b[0m futures \u001b[38;5;241m=\u001b[39m [\n\u001b[0;32m    559\u001b[0m     executor\u001b[38;5;241m.\u001b[39msubmit(proc\u001b[38;5;241m.\u001b[39minvoke, \u001b[38;5;28minput\u001b[39m, config)\n\u001b[0;32m    560\u001b[0m     \u001b[38;5;28;01mfor\u001b[39;00m proc, \u001b[38;5;28minput\u001b[39m, config \u001b[38;5;129;01min\u001b[39;00m tasks_w_config\n\u001b[0;32m    561\u001b[0m ]\n\u001b[0;32m    563\u001b[0m \u001b[38;5;66;03m# execute tasks, and wait for one to fail or all to finish.\u001b[39;00m\n\u001b[0;32m    564\u001b[0m \u001b[38;5;66;03m# each task is independent from all other concurrent tasks\u001b[39;00m\n\u001b[1;32m--> 565\u001b[0m done, inflight \u001b[38;5;241m=\u001b[39m \u001b[43mconcurrent\u001b[49m\u001b[38;5;241;43m.\u001b[39;49m\u001b[43mfutures\u001b[49m\u001b[38;5;241;43m.\u001b[39;49m\u001b[43mwait\u001b[49m\u001b[43m(\u001b[49m\n\u001b[0;32m    566\u001b[0m \u001b[43m    \u001b[49m\u001b[43mfutures\u001b[49m\u001b[43m,\u001b[49m\n\u001b[0;32m    567\u001b[0m \u001b[43m    \u001b[49m\u001b[43mreturn_when\u001b[49m\u001b[38;5;241;43m=\u001b[39;49m\u001b[43mconcurrent\u001b[49m\u001b[38;5;241;43m.\u001b[39;49m\u001b[43mfutures\u001b[49m\u001b[38;5;241;43m.\u001b[39;49m\u001b[43mFIRST_EXCEPTION\u001b[49m\u001b[43m,\u001b[49m\n\u001b[0;32m    568\u001b[0m \u001b[43m    \u001b[49m\u001b[43mtimeout\u001b[49m\u001b[38;5;241;43m=\u001b[39;49m\u001b[38;5;28;43mself\u001b[39;49m\u001b[38;5;241;43m.\u001b[39;49m\u001b[43mstep_timeout\u001b[49m\u001b[43m,\u001b[49m\n\u001b[0;32m    569\u001b[0m \u001b[43m\u001b[49m\u001b[43m)\u001b[49m\n\u001b[0;32m    571\u001b[0m \u001b[38;5;66;03m# panic on failure or timeout\u001b[39;00m\n\u001b[0;32m    572\u001b[0m _panic_or_proceed(done, inflight, step)\n",
      "File \u001b[1;32mc:\\Users\\arash\\anaconda3\\lib\\concurrent\\futures\\_base.py:307\u001b[0m, in \u001b[0;36mwait\u001b[1;34m(fs, timeout, return_when)\u001b[0m\n\u001b[0;32m    303\u001b[0m         \u001b[38;5;28;01mreturn\u001b[39;00m DoneAndNotDoneFutures(done, not_done)\n\u001b[0;32m    305\u001b[0m     waiter \u001b[38;5;241m=\u001b[39m _create_and_install_waiters(fs, return_when)\n\u001b[1;32m--> 307\u001b[0m \u001b[43mwaiter\u001b[49m\u001b[38;5;241;43m.\u001b[39;49m\u001b[43mevent\u001b[49m\u001b[38;5;241;43m.\u001b[39;49m\u001b[43mwait\u001b[49m\u001b[43m(\u001b[49m\u001b[43mtimeout\u001b[49m\u001b[43m)\u001b[49m\n\u001b[0;32m    308\u001b[0m \u001b[38;5;28;01mfor\u001b[39;00m f \u001b[38;5;129;01min\u001b[39;00m fs:\n\u001b[0;32m    309\u001b[0m     \u001b[38;5;28;01mwith\u001b[39;00m f\u001b[38;5;241m.\u001b[39m_condition:\n",
      "File \u001b[1;32mc:\\Users\\arash\\anaconda3\\lib\\threading.py:607\u001b[0m, in \u001b[0;36mEvent.wait\u001b[1;34m(self, timeout)\u001b[0m\n\u001b[0;32m    605\u001b[0m signaled \u001b[38;5;241m=\u001b[39m \u001b[38;5;28mself\u001b[39m\u001b[38;5;241m.\u001b[39m_flag\n\u001b[0;32m    606\u001b[0m \u001b[38;5;28;01mif\u001b[39;00m \u001b[38;5;129;01mnot\u001b[39;00m signaled:\n\u001b[1;32m--> 607\u001b[0m     signaled \u001b[38;5;241m=\u001b[39m \u001b[38;5;28;43mself\u001b[39;49m\u001b[38;5;241;43m.\u001b[39;49m\u001b[43m_cond\u001b[49m\u001b[38;5;241;43m.\u001b[39;49m\u001b[43mwait\u001b[49m\u001b[43m(\u001b[49m\u001b[43mtimeout\u001b[49m\u001b[43m)\u001b[49m\n\u001b[0;32m    608\u001b[0m \u001b[38;5;28;01mreturn\u001b[39;00m signaled\n",
      "File \u001b[1;32mc:\\Users\\arash\\anaconda3\\lib\\threading.py:320\u001b[0m, in \u001b[0;36mCondition.wait\u001b[1;34m(self, timeout)\u001b[0m\n\u001b[0;32m    318\u001b[0m \u001b[38;5;28;01mtry\u001b[39;00m:    \u001b[38;5;66;03m# restore state no matter what (e.g., KeyboardInterrupt)\u001b[39;00m\n\u001b[0;32m    319\u001b[0m     \u001b[38;5;28;01mif\u001b[39;00m timeout \u001b[38;5;129;01mis\u001b[39;00m \u001b[38;5;28;01mNone\u001b[39;00m:\n\u001b[1;32m--> 320\u001b[0m         \u001b[43mwaiter\u001b[49m\u001b[38;5;241;43m.\u001b[39;49m\u001b[43macquire\u001b[49m\u001b[43m(\u001b[49m\u001b[43m)\u001b[49m\n\u001b[0;32m    321\u001b[0m         gotit \u001b[38;5;241m=\u001b[39m \u001b[38;5;28;01mTrue\u001b[39;00m\n\u001b[0;32m    322\u001b[0m     \u001b[38;5;28;01melse\u001b[39;00m:\n",
      "\u001b[1;31mKeyboardInterrupt\u001b[0m: "
     ]
    }
   ],
   "source": [
    "from FPGA_AGI.tools import search_web, python_run, Thought\n",
    "from FPGA_AGI import prompts\n",
    "import importlib\n",
    "importlib.reload(prompts)\n",
    "from FPGA_AGI.prompts import hierarchical_agent_prompt_human, module_agent_prompt_human\n",
    "from FPGA_AGI import agents\n",
    "import importlib\n",
    "importlib.reload(agents)\n",
    "from FPGA_AGI.agents import HierarchicalDesignAgent\n",
    "\n",
    "#gpt-4-0125-preview gpt-4-1106-preview\n",
    "model = ChatOpenAI(model='gpt-4-0125-preview', temperature=0, streaming=True)\n",
    "\n",
    "tools = [search_web]\n",
    "messages = hierarchical_agent_prompt_human.format_messages(goals=requirements.goals, requirements='\\n'.join(requirements.requirements)) #.to_messages()\n",
    "\n",
    "multiple_attempts = []\n",
    "\n",
    "\n",
    "agent = HierarchicalDesignAgent(model, tools)\n",
    "hierarchical_response = agent.invoke({'messages': messages})\n"
   ]
  },
  {
   "cell_type": "code",
   "execution_count": 18,
   "metadata": {},
   "outputs": [
    {
     "data": {
      "image/png": "[encoded data removed]",
      "text/plain": [
       "<Figure size 1200x800 with 1 Axes>"
      ]
     },
     "metadata": {},
     "output_type": "display_data"
    }
   ],
   "source": [
    "from FPGA_AGI.utils import plot_graph\n",
    "\n",
    "plot_graph(hierarchicalmodules = multiple_attempts[4], save_path = None)"
   ]
  },
  {
   "cell_type": "code",
   "execution_count": 59,
   "metadata": {},
   "outputs": [
    {
     "data": {
      "text/plain": [
       "\"graph=[Module(name='FFT_TopModule', description='Top module for the 32-bit 16-point FFT design incorporating the radix-2 DIT variant of the Cooley–Tukey FFT algorithm. This module serves as the entry point for the FFT operation, managing data flow and module coordination.', connections=['FFT_DataInput', 'FFT_Core', 'FFT_DataOutput'], ports=['clk (input)', 'rst_n (input)', 'data_in (input, 32-bit complex)', 'data_out (output, 32-bit complex)', 'start (input)', 'done (output)'], notes='Ensure this module is optimized for speed and resource utilization on the Ultra-96 V2 FPGA board. Utilize efficient pipelining and parallel processing techniques where applicable.'), Module(name='FFT_DataInput', description='Module responsible for data input handling. It formats and buffers incoming data to be processed by the FFT_Core module.', connections=['FFT_Core'], ports=['clk (input)', 'rst_n (input)', 'data_in (input, 32-bit complex)', 'data_ready (output)'], notes='This module should ensure data is correctly formatted and buffered, potentially using BRAM for temporary storage.'), Module(name='FFT_Core', description='The core processing module implementing the radix-2 DIT variant of the Cooley–Tukey FFT algorithm. It performs the FFT computation on the buffered data.', connections=['FFT_DataInput', 'FFT_DataOutput'], ports=['clk (input)', 'rst_n (input)', 'data_in (input, 32-bit complex)', 'data_out (output, 32-bit complex)', 'data_ready (input)', 'compute_done (output)'], notes='Optimize the use of DSP slices for arithmetic operations and consider parallel processing to enhance speed. Implement efficient butterfly computations and bit-reversal operations.'), Module(name='FFT_DataOutput', description='Module responsible for handling the output data from the FFT_Core module. It formats the data for external use.', connections=['FFT_Core'], ports=['clk (input)', 'rst_n (input)', 'data_out (input, 32-bit complex)', 'data_valid (output)', 'done (output)'], notes='Ensure the output data is correctly formatted and potentially use BRAM for temporary storage before output.')]\""
      ]
     },
     "execution_count": 59,
     "metadata": {},
     "output_type": "execute_result"
    }
   ],
   "source": [
    "str(hierarchical_response)"
   ]
  },
  {
   "cell_type": "markdown",
   "metadata": {},
   "source": [
    "# More agents"
   ]
  },
  {
   "cell_type": "code",
   "execution_count": null,
   "metadata": {},
   "outputs": [],
   "source": [
    "goals = 'Design an 8-bit RISC V processor using SystemVerilog.' \n",
    "\n",
    "requirements = '\\n'.join(['1. The processor must be designed based on the RISC V instruction set and '\n",
    "'should follow a Harvard-type data path structure.',\n",
    "'2. Implement memory access instructions including Load Word (LD) and Store '\n",
    "'Word (ST) with the specified operations.',\n",
    "'3. Implement data processing instructions including Add (ADD), Subtract '\n",
    "'(SUB), Invert (INV), Logical Shift Left (LSL), Logical Shift Right (LSR), '\n",
    "'Bitwise AND (AND), Bitwise OR (OR), and Set on Less Than (SLT) with the '\n",
    "'specified operations.',\n",
    "'4. Implement control flow instructions including Branch on Equal (BEQ), '\n",
    "'Branch on Not Equal (BNE), and Jump (JMP) with the specified operations.',\n",
    "'5. Design the processor control unit to generate appropriate control signals '\n",
    "'for each instruction type.',\n",
    "'6. Design the ALU control unit to generate the correct ALU operation based '\n",
    "'on the ALUOp signal and the opcode.',\n",
    "'7. Implement instruction memory, data memory, register file, ALU, ALU '\n",
    "'control unit, datapath unit, and control unit modules in SystemVerilog.',\n",
    "'8. Ensure the processor supports a 16-bit instruction format and operates on '\n",
    "'8-bit data widths.',\n",
    "'9. The processor must be capable of executing the provided instruction set '\n",
    "'with correct control and data flow for each instruction type.',\n",
    "'10. Verify the processor design using a testbench that simulates various '\n",
    "'instruction executions and validates the functionality of the processor.'])"
   ]
  },
  {
   "cell_type": "code",
   "execution_count": 146,
   "metadata": {},
   "outputs": [],
   "source": [
    "from FPGA_AGI import prompts\n",
    "import importlib\n",
    "importlib.reload(prompts)\n",
    "from FPGA_AGI import tools\n",
    "import importlib\n",
    "importlib.reload(tools)\n",
    "from FPGA_AGI.prompts import hierarchical_agent_prompt_human, module_design_agent_prompt\n",
    "from FPGA_AGI import agents\n",
    "import importlib\n",
    "importlib.reload(agents)\n",
    "from FPGA_AGI.agents import GenericToolCallingAgent, CodeModuleResponse\n",
    "\n",
    "h = module_agent_prompt_human.format_messages(hierarchical_design='16 bit fft twiddle factor module', modules_built='', current_module='16 bit fft twiddle factor module (after you compute them via python tool)')\n",
    "agent = GenericToolCallingAgent(bigllm, prompt=module_design_agent_prompt,\n",
    "            tools=[search_web, python_run], response_format=CodeModuleResponse\n",
    "            )"
   ]
  },
  {
   "cell_type": "code",
   "execution_count": 147,
   "metadata": {},
   "outputs": [
    {
     "name": "stdout",
     "output_type": "stream",
     "text": [
      "Output from node 'agent':\n",
      "---\n",
      "{'messages': [AIMessage(content='', additional_kwargs={'function_call': {'arguments': '{\"thought\":\"First, I need to understand the requirements for the 16 bit FFT twiddle factor module. This involves calculating the twiddle factors for a 16-bit FFT. Twiddle factors are complex exponential values used in the FFT algorithm to reduce the computational complexity. I should use the Python tool to compute these twiddle factors.\"}', 'name': 'Thought'}}, response_metadata={'token_usage': {'completion_tokens': 77, 'prompt_tokens': 658, 'total_tokens': 735}, 'model_name': 'gpt-4-0125-preview', 'system_fingerprint': 'fp_b77cb481ed', 'finish_reason': 'function_call', 'logprobs': None})]}\n",
      "\n",
      "---\n",
      "\n",
      "Thought\n",
      "Output from node 'action':\n",
      "---\n",
      "{'messages': [FunctionMessage(content='Your thought is: First, I need to understand the requirements for the 16 bit FFT twiddle factor module. This involves calculating the twiddle factors for a 16-bit FFT. Twiddle factors are complex exponential values used in the FFT algorithm to reduce the computational complexity. I should use the Python tool to compute these twiddle factors.', name='Thought')]}\n",
      "\n",
      "---\n",
      "\n",
      "Output from node 'agent':\n",
      "---\n",
      "{'messages': [AIMessage(content='', additional_kwargs={'function_call': {'arguments': '{\"code\":\"import numpy as np\\\\n\\\\nN = 16\\\\nk = np.arange(N)\\\\nn = np.arange(N)\\\\nW = np.exp(-2j * np.pi * k[:, None] * n / N)\\\\n\\\\n# Convert to fixed point representation\\\\nW_fixed = np.round(W.real * (2**15)) + 1j * np.round(W.imag * (2**15))\\\\n\\\\nprint(W_fixed)\"}', 'name': 'python_run'}}, response_metadata={'token_usage': {'completion_tokens': 101, 'prompt_tokens': 810, 'total_tokens': 911}, 'model_name': 'gpt-4-0125-preview', 'system_fingerprint': 'fp_b77cb481ed', 'finish_reason': 'function_call', 'logprobs': None})]}\n",
      "\n",
      "---\n",
      "\n",
      "python_run\n",
      "Output from node 'action':\n",
      "---\n",
      "{'messages': [FunctionMessage(content='[[ 32768.    +0.j  32768.    +0.j  32768.    +0.j  32768.    +0.j\\n   32768.    +0.j  32768.    +0.j  32768.    +0.j  32768.    +0.j\\n   32768.    +0.j  32768.    +0.j  32768.    +0.j  32768.    +0.j\\n   32768.    +0.j  32768.    +0.j  32768.    +0.j  32768.    +0.j]\\n [ 32768.    +0.j  30274.-12540.j  23170.-23170.j  12540.-30274.j\\n       0.-32768.j -12540.-30274.j -23170.-23170.j -30274.-12540.j\\n  -32768.    +0.j -30274.+12540.j -23170.+23170.j -12540.+30274.j\\n       0.+32768.j  12540.+30274.j  23170.+23170.j  30274.+12540.j]\\n [ 32768.    +0.j  23170.-23170.j      0.-32768.j -23170.-23170.j\\n  -32768.    +0.j -23170.+23170.j      0.+32768.j  23170.+23170.j\\n   32768.    +0.j  23170.-23170.j      0.-32768.j -23170.-23170.j\\n  -32768.    +0.j -23170.+23170.j      0.+32768.j  23170.+23170.j]\\n [ 32768.    +0.j  12540.-30274.j -23170.-23170.j -30274.+12540.j\\n       0.+32768.j  30274.+12540.j  23170.-23170.j -12540.-30274.j\\n  -32768.    +0.j -12540.+30274.j  23170.+23170.j  30274.-12540.j\\n       0.-32768.j -30274.-12540.j -23170.+23170.j  12540.+30274.j]\\n [ 32768.    +0.j      0.-32768.j -32768.    +0.j      0.+32768.j\\n   32768.    +0.j      0.-32768.j -32768.    +0.j      0.+32768.j\\n   32768.    +0.j      0.-32768.j -32768.    +0.j      0.+32768.j\\n   32768.    +0.j     -0.-32768.j -32768.    +0.j      0.+32768.j]\\n [ 32768.    +0.j -12540.-30274.j -23170.+23170.j  30274.+12540.j\\n       0.-32768.j -30274.+12540.j  23170.+23170.j  12540.-30274.j\\n  -32768.    +0.j  12540.+30274.j  23170.-23170.j -30274.-12540.j\\n       0.+32768.j  30274.-12540.j -23170.-23170.j -12540.+30274.j]\\n [ 32768.    +0.j -23170.-23170.j      0.+32768.j  23170.-23170.j\\n  -32768.    +0.j  23170.+23170.j      0.-32768.j -23170.+23170.j\\n   32768.    +0.j -23170.-23170.j      0.+32768.j  23170.-23170.j\\n  -32768.    +0.j  23170.+23170.j     -0.-32768.j -23170.+23170.j]\\n [ 32768.    +0.j -30274.-12540.j  23170.+23170.j -12540.-30274.j\\n       0.+32768.j  12540.-30274.j -23170.+23170.j  30274.-12540.j\\n  -32768.    +0.j  30274.+12540.j -23170.-23170.j  12540.+30274.j\\n      -0.-32768.j -12540.+30274.j  23170.-23170.j -30274.+12540.j]\\n [ 32768.    +0.j -32768.    +0.j  32768.    +0.j -32768.    +0.j\\n   32768.    +0.j -32768.    +0.j  32768.    +0.j -32768.    +0.j\\n   32768.    +0.j -32768.    +0.j  32768.    +0.j -32768.    +0.j\\n   32768.    +0.j -32768.    +0.j  32768.    +0.j -32768.    +0.j]\\n [ 32768.    +0.j -30274.+12540.j  23170.-23170.j -12540.+30274.j\\n       0.-32768.j  12540.+30274.j -23170.-23170.j  30274.+12540.j\\n  -32768.    +0.j  30274.-12540.j -23170.+23170.j  12540.-30274.j\\n       0.+32768.j -12540.-30274.j  23170.+23170.j -30274.-12540.j]\\n [ 32768.    +0.j -23170.+23170.j      0.-32768.j  23170.+23170.j\\n  -32768.    +0.j  23170.-23170.j      0.+32768.j -23170.-23170.j\\n   32768.    +0.j -23170.+23170.j     -0.-32768.j  23170.+23170.j\\n  -32768.    +0.j  23170.-23170.j      0.+32768.j -23170.-23170.j]\\n [ 32768.    +0.j -12540.+30274.j -23170.-23170.j  30274.-12540.j\\n       0.+32768.j -30274.-12540.j  23170.-23170.j  12540.+30274.j\\n  -32768.    +0.j  12540.-30274.j  23170.+23170.j -30274.+12540.j\\n       0.-32768.j  30274.+12540.j -23170.+23170.j -12540.-30274.j]\\n [ 32768.    +0.j      0.+32768.j -32768.    +0.j      0.-32768.j\\n   32768.    +0.j      0.+32768.j -32768.    +0.j     -0.-32768.j\\n   32768.    +0.j      0.+32768.j -32768.    +0.j      0.-32768.j\\n   32768.    +0.j      0.+32768.j -32768.    +0.j      0.-32768.j]\\n [ 32768.    +0.j  12540.+30274.j -23170.+23170.j -30274.-12540.j\\n      -0.-32768.j  30274.-12540.j  23170.+23170.j -12540.+30274.j\\n  -32768.    +0.j -12540.-30274.j  23170.-23170.j  30274.+12540.j\\n       0.+32768.j -30274.+12540.j -23170.-23170.j  12540.-30274.j]\\n [ 32768.    +0.j  23170.+23170.j      0.+32768.j -23170.+23170.j\\n  -32768.    +0.j -23170.-23170.j     -0.-32768.j  23170.-23170.j\\n   32768.    +0.j  23170.+23170.j      0.+32768.j -23170.+23170.j\\n  -32768.    +0.j -23170.-23170.j      0.-32768.j  23170.-23170.j]\\n [ 32768.    +0.j  30274.+12540.j  23170.+23170.j  12540.+30274.j\\n       0.+32768.j -12540.+30274.j -23170.+23170.j -30274.+12540.j\\n  -32768.    +0.j -30274.-12540.j -23170.-23170.j -12540.-30274.j\\n       0.-32768.j  12540.-30274.j  23170.-23170.j  30274.-12540.j]]\\n', name='python_run')]}\n",
      "\n",
      "---\n",
      "\n",
      "Output from node 'agent':\n",
      "---\n",
      "{'messages': [AIMessage(content='', additional_kwargs={'function_call': {'arguments': '{\"thought\":\"Now that I have the twiddle factors computed, I need to design the Verilog module that will store these twiddle factors. Since there are 16 values, a ROM (Read-Only Memory) can be used to store these values. The module will have an address input to select which twiddle factor to output. I need to convert the complex numbers into a format that can be stored and accessed in Verilog, likely by separating real and imaginary parts and representing them as signed integers.\"}', 'name': 'Thought'}}, response_metadata={'token_usage': {'completion_tokens': 112, 'prompt_tokens': 2983, 'total_tokens': 3095}, 'model_name': 'gpt-4-0125-preview', 'system_fingerprint': 'fp_b77cb481ed', 'finish_reason': 'function_call', 'logprobs': None})]}\n",
      "\n",
      "---\n",
      "\n",
      "Thought\n",
      "Output from node 'action':\n",
      "---\n",
      "{'messages': [FunctionMessage(content='Your thought is: Now that I have the twiddle factors computed, I need to design the Verilog module that will store these twiddle factors. Since there are 16 values, a ROM (Read-Only Memory) can be used to store these values. The module will have an address input to select which twiddle factor to output. I need to convert the complex numbers into a format that can be stored and accessed in Verilog, likely by separating real and imaginary parts and representing them as signed integers.', name='Thought')]}\n",
      "\n",
      "---\n",
      "\n",
      "Output from node 'agent':\n",
      "---\n",
      "{'messages': [AIMessage(content='', additional_kwargs={'function_call': {'arguments': '{\"name\":\"16 bit fft twiddle factor module\",\"description\":\"This module stores the twiddle factors for a 16-bit FFT in a ROM. It outputs the selected twiddle factor based on the input address.\",\"connections\":[\"FFT main module\"],\"ports\":[\"input [3:0] address\",\"output reg [15:0] real_part\",\"output reg [15:0] imag_part\",\"input clk\"],\"module_code\":\"module twiddle_factor_rom(\\\\n    input [3:0] address,\\\\n    output reg [15:0] real_part,\\\\n    output reg [15:0] imag_part,\\\\n    input clk\\\\n);\\\\n\\\\nalways @(posedge clk) begin\\\\n    case(address)\\\\n        4\\'d0: begin real_part <= 16\\'d32768; imag_part <= 16\\'d0; end\\\\n        4\\'d1: begin real_part <= 16\\'d30274; imag_part <= -16\\'d12540; end\\\\n        4\\'d2: begin real_part <= 16\\'d23170; imag_part <= -16\\'d23170; end\\\\n        4\\'d3: begin real_part <= 16\\'d12540; imag_part <= -16\\'d30274; end\\\\n        4\\'d4: begin real_part <= 16\\'d0; imag_part <= -16\\'d32768; end\\\\n        4\\'d5: begin real_part <= -16\\'d12540; imag_part <= -16\\'d30274; end\\\\n        4\\'d6: begin real_part <= -16\\'d23170; imag_part <= -16\\'d23170; end\\\\n        4\\'d7: begin real_part <= -16\\'d30274; imag_part <= -16\\'d12540; end\\\\n        4\\'d8: begin real_part <= -16\\'d32768; imag_part <= 16\\'d0; end\\\\n        4\\'d9: begin real_part <= -16\\'d30274; imag_part <= 16\\'d12540; end\\\\n        4\\'d10: begin real_part <= -16\\'d23170; imag_part <= 16\\'d23170; end\\\\n        4\\'d11: begin real_part <= -16\\'d12540; imag_part <= 16\\'d30274; end\\\\n        4\\'d12: begin real_part <= 16\\'d0; imag_part <= 16\\'d32768; end\\\\n        4\\'d13: begin real_part <= 16\\'d12540; imag_part <= 16\\'d30274; end\\\\n        4\\'d14: begin real_part <= 16\\'d23170; imag_part <= 16\\'d23170; end\\\\n        4\\'d15: begin real_part <= 16\\'d30274; imag_part <= 16\\'d12540; end\\\\n        default: begin real_part <= 16\\'d0; imag_part <= 16\\'d0; end\\\\n    endcase\\\\nend\\\\n\\\\nendmodule\",\"test_bench_code\":\"`timescale 1ns / 1ps\\\\n\\\\nmodule tb_twiddle_factor_rom;\\\\n\\\\n    // Inputs\\\\n    reg [3:0] address;\\\\n    reg clk;\\\\n\\\\n    // Outputs\\\\n    wire [15:0] real_part;\\\\n    wire [15:0] imag_part;\\\\n\\\\n    // Instantiate the Unit Under Test (UUT)\\\\n    twiddle_factor_rom uut (\\\\n        .address(address), \\\\n        .real_part(real_part), \\\\n        .imag_part(imag_part), \\\\n        .clk(clk)\\\\n    );\\\\n\\\\n    initial begin\\\\n        // Initialize Inputs\\\\n        clk = 0;\\\\n        forever #10 clk = ~clk;\\\\n    end\\\\n\\\\n    initial begin\\\\n        // Wait 100 ns for global reset to finish\\\\n        #100;\\\\n        \\\\n        // Add stimulus here\\\\n        address = 0;\\\\n        #20;\\\\n        address = 1;\\\\n        #20;\\\\n        address = 2;\\\\n        #20;\\\\n        // Continue for all addresses\\\\n    end\\\\n      \\\\nendmodule\"}', 'name': 'CodeModuleResponse'}}, response_metadata={'token_usage': {'completion_tokens': 860, 'prompt_tokens': 3205, 'total_tokens': 4065}, 'model_name': 'gpt-4-0125-preview', 'system_fingerprint': 'fp_b77cb481ed', 'finish_reason': 'function_call', 'logprobs': None})]}\n",
      "\n",
      "---\n",
      "\n",
      "Output from node '__end__':\n",
      "---\n",
      "{'messages': [HumanMessage(content='Write the HLS/HDL code in verilog for the following desgin. Note that the design consists of modules with    input/output and connecting modules already designed for you. Your task is to build the modules consistently with the modules that you have already build and with the overal desing.    note also that the note section of each module provides you with necessary information, guidelines and other helpful elements to perform your design.\\n    \\n    Hierarchical design:\\n    16 bit fft twiddle factor module\\n                                                                 \\n    Modules built so far:\\n    \\n    \\n    Current Module:\\n    16 bit fft twiddle factor module (after you compute them via python tool)\\n    '), AIMessage(content='', additional_kwargs={'function_call': {'arguments': '{\"thought\":\"First, I need to understand the requirements for the 16 bit FFT twiddle factor module. This involves calculating the twiddle factors for a 16-bit FFT. Twiddle factors are complex exponential values used in the FFT algorithm to reduce the computational complexity. I should use the Python tool to compute these twiddle factors.\"}', 'name': 'Thought'}}, response_metadata={'token_usage': {'completion_tokens': 77, 'prompt_tokens': 658, 'total_tokens': 735}, 'model_name': 'gpt-4-0125-preview', 'system_fingerprint': 'fp_b77cb481ed', 'finish_reason': 'function_call', 'logprobs': None}), FunctionMessage(content='Your thought is: First, I need to understand the requirements for the 16 bit FFT twiddle factor module. This involves calculating the twiddle factors for a 16-bit FFT. Twiddle factors are complex exponential values used in the FFT algorithm to reduce the computational complexity. I should use the Python tool to compute these twiddle factors.', name='Thought'), AIMessage(content='', additional_kwargs={'function_call': {'arguments': '{\"code\":\"import numpy as np\\\\n\\\\nN = 16\\\\nk = np.arange(N)\\\\nn = np.arange(N)\\\\nW = np.exp(-2j * np.pi * k[:, None] * n / N)\\\\n\\\\n# Convert to fixed point representation\\\\nW_fixed = np.round(W.real * (2**15)) + 1j * np.round(W.imag * (2**15))\\\\n\\\\nprint(W_fixed)\"}', 'name': 'python_run'}}, response_metadata={'token_usage': {'completion_tokens': 101, 'prompt_tokens': 810, 'total_tokens': 911}, 'model_name': 'gpt-4-0125-preview', 'system_fingerprint': 'fp_b77cb481ed', 'finish_reason': 'function_call', 'logprobs': None}), FunctionMessage(content='[[ 32768.    +0.j  32768.    +0.j  32768.    +0.j  32768.    +0.j\\n   32768.    +0.j  32768.    +0.j  32768.    +0.j  32768.    +0.j\\n   32768.    +0.j  32768.    +0.j  32768.    +0.j  32768.    +0.j\\n   32768.    +0.j  32768.    +0.j  32768.    +0.j  32768.    +0.j]\\n [ 32768.    +0.j  30274.-12540.j  23170.-23170.j  12540.-30274.j\\n       0.-32768.j -12540.-30274.j -23170.-23170.j -30274.-12540.j\\n  -32768.    +0.j -30274.+12540.j -23170.+23170.j -12540.+30274.j\\n       0.+32768.j  12540.+30274.j  23170.+23170.j  30274.+12540.j]\\n [ 32768.    +0.j  23170.-23170.j      0.-32768.j -23170.-23170.j\\n  -32768.    +0.j -23170.+23170.j      0.+32768.j  23170.+23170.j\\n   32768.    +0.j  23170.-23170.j      0.-32768.j -23170.-23170.j\\n  -32768.    +0.j -23170.+23170.j      0.+32768.j  23170.+23170.j]\\n [ 32768.    +0.j  12540.-30274.j -23170.-23170.j -30274.+12540.j\\n       0.+32768.j  30274.+12540.j  23170.-23170.j -12540.-30274.j\\n  -32768.    +0.j -12540.+30274.j  23170.+23170.j  30274.-12540.j\\n       0.-32768.j -30274.-12540.j -23170.+23170.j  12540.+30274.j]\\n [ 32768.    +0.j      0.-32768.j -32768.    +0.j      0.+32768.j\\n   32768.    +0.j      0.-32768.j -32768.    +0.j      0.+32768.j\\n   32768.    +0.j      0.-32768.j -32768.    +0.j      0.+32768.j\\n   32768.    +0.j     -0.-32768.j -32768.    +0.j      0.+32768.j]\\n [ 32768.    +0.j -12540.-30274.j -23170.+23170.j  30274.+12540.j\\n       0.-32768.j -30274.+12540.j  23170.+23170.j  12540.-30274.j\\n  -32768.    +0.j  12540.+30274.j  23170.-23170.j -30274.-12540.j\\n       0.+32768.j  30274.-12540.j -23170.-23170.j -12540.+30274.j]\\n [ 32768.    +0.j -23170.-23170.j      0.+32768.j  23170.-23170.j\\n  -32768.    +0.j  23170.+23170.j      0.-32768.j -23170.+23170.j\\n   32768.    +0.j -23170.-23170.j      0.+32768.j  23170.-23170.j\\n  -32768.    +0.j  23170.+23170.j     -0.-32768.j -23170.+23170.j]\\n [ 32768.    +0.j -30274.-12540.j  23170.+23170.j -12540.-30274.j\\n       0.+32768.j  12540.-30274.j -23170.+23170.j  30274.-12540.j\\n  -32768.    +0.j  30274.+12540.j -23170.-23170.j  12540.+30274.j\\n      -0.-32768.j -12540.+30274.j  23170.-23170.j -30274.+12540.j]\\n [ 32768.    +0.j -32768.    +0.j  32768.    +0.j -32768.    +0.j\\n   32768.    +0.j -32768.    +0.j  32768.    +0.j -32768.    +0.j\\n   32768.    +0.j -32768.    +0.j  32768.    +0.j -32768.    +0.j\\n   32768.    +0.j -32768.    +0.j  32768.    +0.j -32768.    +0.j]\\n [ 32768.    +0.j -30274.+12540.j  23170.-23170.j -12540.+30274.j\\n       0.-32768.j  12540.+30274.j -23170.-23170.j  30274.+12540.j\\n  -32768.    +0.j  30274.-12540.j -23170.+23170.j  12540.-30274.j\\n       0.+32768.j -12540.-30274.j  23170.+23170.j -30274.-12540.j]\\n [ 32768.    +0.j -23170.+23170.j      0.-32768.j  23170.+23170.j\\n  -32768.    +0.j  23170.-23170.j      0.+32768.j -23170.-23170.j\\n   32768.    +0.j -23170.+23170.j     -0.-32768.j  23170.+23170.j\\n  -32768.    +0.j  23170.-23170.j      0.+32768.j -23170.-23170.j]\\n [ 32768.    +0.j -12540.+30274.j -23170.-23170.j  30274.-12540.j\\n       0.+32768.j -30274.-12540.j  23170.-23170.j  12540.+30274.j\\n  -32768.    +0.j  12540.-30274.j  23170.+23170.j -30274.+12540.j\\n       0.-32768.j  30274.+12540.j -23170.+23170.j -12540.-30274.j]\\n [ 32768.    +0.j      0.+32768.j -32768.    +0.j      0.-32768.j\\n   32768.    +0.j      0.+32768.j -32768.    +0.j     -0.-32768.j\\n   32768.    +0.j      0.+32768.j -32768.    +0.j      0.-32768.j\\n   32768.    +0.j      0.+32768.j -32768.    +0.j      0.-32768.j]\\n [ 32768.    +0.j  12540.+30274.j -23170.+23170.j -30274.-12540.j\\n      -0.-32768.j  30274.-12540.j  23170.+23170.j -12540.+30274.j\\n  -32768.    +0.j -12540.-30274.j  23170.-23170.j  30274.+12540.j\\n       0.+32768.j -30274.+12540.j -23170.-23170.j  12540.-30274.j]\\n [ 32768.    +0.j  23170.+23170.j      0.+32768.j -23170.+23170.j\\n  -32768.    +0.j -23170.-23170.j     -0.-32768.j  23170.-23170.j\\n   32768.    +0.j  23170.+23170.j      0.+32768.j -23170.+23170.j\\n  -32768.    +0.j -23170.-23170.j      0.-32768.j  23170.-23170.j]\\n [ 32768.    +0.j  30274.+12540.j  23170.+23170.j  12540.+30274.j\\n       0.+32768.j -12540.+30274.j -23170.+23170.j -30274.+12540.j\\n  -32768.    +0.j -30274.-12540.j -23170.-23170.j -12540.-30274.j\\n       0.-32768.j  12540.-30274.j  23170.-23170.j  30274.-12540.j]]\\n', name='python_run'), AIMessage(content='', additional_kwargs={'function_call': {'arguments': '{\"thought\":\"Now that I have the twiddle factors computed, I need to design the Verilog module that will store these twiddle factors. Since there are 16 values, a ROM (Read-Only Memory) can be used to store these values. The module will have an address input to select which twiddle factor to output. I need to convert the complex numbers into a format that can be stored and accessed in Verilog, likely by separating real and imaginary parts and representing them as signed integers.\"}', 'name': 'Thought'}}, response_metadata={'token_usage': {'completion_tokens': 112, 'prompt_tokens': 2983, 'total_tokens': 3095}, 'model_name': 'gpt-4-0125-preview', 'system_fingerprint': 'fp_b77cb481ed', 'finish_reason': 'function_call', 'logprobs': None}), FunctionMessage(content='Your thought is: Now that I have the twiddle factors computed, I need to design the Verilog module that will store these twiddle factors. Since there are 16 values, a ROM (Read-Only Memory) can be used to store these values. The module will have an address input to select which twiddle factor to output. I need to convert the complex numbers into a format that can be stored and accessed in Verilog, likely by separating real and imaginary parts and representing them as signed integers.', name='Thought'), AIMessage(content='', additional_kwargs={'function_call': {'arguments': '{\"name\":\"16 bit fft twiddle factor module\",\"description\":\"This module stores the twiddle factors for a 16-bit FFT in a ROM. It outputs the selected twiddle factor based on the input address.\",\"connections\":[\"FFT main module\"],\"ports\":[\"input [3:0] address\",\"output reg [15:0] real_part\",\"output reg [15:0] imag_part\",\"input clk\"],\"module_code\":\"module twiddle_factor_rom(\\\\n    input [3:0] address,\\\\n    output reg [15:0] real_part,\\\\n    output reg [15:0] imag_part,\\\\n    input clk\\\\n);\\\\n\\\\nalways @(posedge clk) begin\\\\n    case(address)\\\\n        4\\'d0: begin real_part <= 16\\'d32768; imag_part <= 16\\'d0; end\\\\n        4\\'d1: begin real_part <= 16\\'d30274; imag_part <= -16\\'d12540; end\\\\n        4\\'d2: begin real_part <= 16\\'d23170; imag_part <= -16\\'d23170; end\\\\n        4\\'d3: begin real_part <= 16\\'d12540; imag_part <= -16\\'d30274; end\\\\n        4\\'d4: begin real_part <= 16\\'d0; imag_part <= -16\\'d32768; end\\\\n        4\\'d5: begin real_part <= -16\\'d12540; imag_part <= -16\\'d30274; end\\\\n        4\\'d6: begin real_part <= -16\\'d23170; imag_part <= -16\\'d23170; end\\\\n        4\\'d7: begin real_part <= -16\\'d30274; imag_part <= -16\\'d12540; end\\\\n        4\\'d8: begin real_part <= -16\\'d32768; imag_part <= 16\\'d0; end\\\\n        4\\'d9: begin real_part <= -16\\'d30274; imag_part <= 16\\'d12540; end\\\\n        4\\'d10: begin real_part <= -16\\'d23170; imag_part <= 16\\'d23170; end\\\\n        4\\'d11: begin real_part <= -16\\'d12540; imag_part <= 16\\'d30274; end\\\\n        4\\'d12: begin real_part <= 16\\'d0; imag_part <= 16\\'d32768; end\\\\n        4\\'d13: begin real_part <= 16\\'d12540; imag_part <= 16\\'d30274; end\\\\n        4\\'d14: begin real_part <= 16\\'d23170; imag_part <= 16\\'d23170; end\\\\n        4\\'d15: begin real_part <= 16\\'d30274; imag_part <= 16\\'d12540; end\\\\n        default: begin real_part <= 16\\'d0; imag_part <= 16\\'d0; end\\\\n    endcase\\\\nend\\\\n\\\\nendmodule\",\"test_bench_code\":\"`timescale 1ns / 1ps\\\\n\\\\nmodule tb_twiddle_factor_rom;\\\\n\\\\n    // Inputs\\\\n    reg [3:0] address;\\\\n    reg clk;\\\\n\\\\n    // Outputs\\\\n    wire [15:0] real_part;\\\\n    wire [15:0] imag_part;\\\\n\\\\n    // Instantiate the Unit Under Test (UUT)\\\\n    twiddle_factor_rom uut (\\\\n        .address(address), \\\\n        .real_part(real_part), \\\\n        .imag_part(imag_part), \\\\n        .clk(clk)\\\\n    );\\\\n\\\\n    initial begin\\\\n        // Initialize Inputs\\\\n        clk = 0;\\\\n        forever #10 clk = ~clk;\\\\n    end\\\\n\\\\n    initial begin\\\\n        // Wait 100 ns for global reset to finish\\\\n        #100;\\\\n        \\\\n        // Add stimulus here\\\\n        address = 0;\\\\n        #20;\\\\n        address = 1;\\\\n        #20;\\\\n        address = 2;\\\\n        #20;\\\\n        // Continue for all addresses\\\\n    end\\\\n      \\\\nendmodule\"}', 'name': 'CodeModuleResponse'}}, response_metadata={'token_usage': {'completion_tokens': 860, 'prompt_tokens': 3205, 'total_tokens': 4065}, 'model_name': 'gpt-4-0125-preview', 'system_fingerprint': 'fp_b77cb481ed', 'finish_reason': 'function_call', 'logprobs': None})]}\n",
      "\n",
      "---\n",
      "\n"
     ]
    }
   ],
   "source": [
    "response = agent.stream({\"messages\": h})"
   ]
  },
  {
   "cell_type": "code",
   "execution_count": 143,
   "metadata": {},
   "outputs": [
    {
     "data": {
      "text/plain": [
       "{'messages': [HumanMessage(content='Write the HLS/HDL code in verilog for the following desgin. Note that the design consists of modules with    input/output and connecting modules already designed for you. Your task is to build the modules consistently with the modules that you have already build and with the overal desing.    note also that the note section of each module provides you with necessary information, guidelines and other helpful elements to perform your design.\\n    \\n    Hierarchical design:\\n    16 bit fft twiddle factor module\\n                                                                 \\n    Modules built so far:\\n    \\n    \\n    Current Module:\\n    16 bit fft twiddle factor module (after you compute them via python tool)\\n    '),\n",
       "  AIMessage(content='', additional_kwargs={'function_call': {'arguments': '{\"thought\":\"First, I need to understand the requirements for the 16 bit FFT twiddle factor module. This involves calculating the twiddle factors for a 16-bit FFT. I should use the Python tool to compute these factors.\"}', 'name': 'Thought'}}, response_metadata={'token_usage': {'completion_tokens': 57, 'prompt_tokens': 644, 'total_tokens': 701}, 'model_name': 'gpt-4-0125-preview', 'system_fingerprint': 'fp_b77cb481ed', 'finish_reason': 'function_call', 'logprobs': None}),\n",
       "  AIMessage(content='', additional_kwargs={'function_call': {'arguments': '{\"code\":\"import numpy as np\\\\n\\\\n# FFT size\\\\nN = 16\\\\n\\\\n# Twiddle factors computation\\\\nW = np.exp(-2j * np.pi * np.arange(N) / N)\\\\n\\\\n# Convert to 16-bit fixed point representation\\\\n# Assuming 1 sign bit, 3 integer bits, and 12 fractional bits\\\\nW_fixed = np.round(W.real * (2**12)).astype(int) + 1j * np.round(W.imag * (2**12)).astype(int)\\\\n\\\\n# Print the real and imaginary parts separately\\\\nprint(\\'Real:\\', W_fixed.real)\\\\nprint(\\'Imaginary:\\', W_fixed.imag)\"}', 'name': 'python_run'}}, response_metadata={'token_usage': {'completion_tokens': 147, 'prompt_tokens': 704, 'total_tokens': 851}, 'model_name': 'gpt-4-0125-preview', 'system_fingerprint': 'fp_b77cb481ed', 'finish_reason': 'function_call', 'logprobs': None}),\n",
       "  FunctionMessage(content='Real: [ 4096.  3784.  2896.  1567.     0. -1567. -2896. -3784. -4096. -3784.\\n -2896. -1567.     0.  1567.  2896.  3784.]\\nImaginary: [    0. -1567. -2896. -3784. -4096. -3784. -2896. -1567.     0.  1567.\\n  2896.  3784.  4096.  3784.  2896.  1567.]\\n', name='python_run'),\n",
       "  AIMessage(content='', additional_kwargs={'function_call': {'arguments': '{\"thought\":\"Now that I have the twiddle factors in 16-bit fixed point representation, I need to design the Verilog module that will store these values and provide them as output based on an input index. This module will essentially act as a lookup table for the twiddle factors.\"}', 'name': 'Thought'}}, response_metadata={'token_usage': {'completion_tokens': 68, 'prompt_tokens': 1010, 'total_tokens': 1078}, 'model_name': 'gpt-4-0125-preview', 'system_fingerprint': 'fp_b77cb481ed', 'finish_reason': 'function_call', 'logprobs': None}),\n",
       "  AIMessage(content='', additional_kwargs={'function_call': {'arguments': '{\"name\":\"fft_twiddle_factor_16bit\",\"description\":\"This module is a lookup table for 16-bit FFT twiddle factors. It takes an input index and outputs the corresponding twiddle factor in 16-bit fixed point format (1 sign bit, 3 integer bits, and 12 fractional bits).\",\"connections\":[],\"ports\":[\"input [3:0] index\",\"output reg [15:0] twiddle_real\",\"output reg [15:0] twiddle_imag\",\"input clk\",\"input rst\"],\"module_code\":\"module fft_twiddle_factor_16bit(\\\\n    input [3:0] index,\\\\n    output reg [15:0] twiddle_real,\\\\n    output reg [15:0] twiddle_imag,\\\\n    input clk,\\\\n    input rst\\\\n);\\\\n\\\\nalways @(posedge clk or posedge rst) begin\\\\n    if (rst) begin\\\\n        twiddle_real <= 16\\'d0;\\\\n        twiddle_imag <= 16\\'d0;\\\\n    end else begin\\\\n        case(index)\\\\n            4\\'d0: begin twiddle_real <= 16\\'d4096; twiddle_imag <= 16\\'d0; end\\\\n            4\\'d1: begin twiddle_real <= 16\\'d3784; twiddle_imag <= 16\\'d-1567; end\\\\n            4\\'d2: begin twiddle_real <= 16\\'d2896; twiddle_imag <= 16\\'d-2896; end\\\\n            4\\'d3: begin twiddle_real <= 16\\'d1567; twiddle_imag <= 16\\'d-3784; end\\\\n            4\\'d4: begin twiddle_real <= 16\\'d0; twiddle_imag <= 16\\'d-4096; end\\\\n            4\\'d5: begin twiddle_real <= 16\\'d-1567; twiddle_imag <= 16\\'d-3784; end\\\\n            4\\'d6: begin twiddle_real <= 16\\'d-2896; twiddle_imag <= 16\\'d-2896; end\\\\n            4\\'d7: begin twiddle_real <= 16\\'d-3784; twiddle_imag <= 16\\'d-1567; end\\\\n            4\\'d8: begin twiddle_real <= 16\\'d-4096; twiddle_imag <= 16\\'d0; end\\\\n            4\\'d9: begin twiddle_real <= 16\\'d-3784; twiddle_imag <= 16\\'d1567; end\\\\n            4\\'d10: begin twiddle_real <= 16\\'d-2896; twiddle_imag <= 16\\'d2896; end\\\\n            4\\'d11: begin twiddle_real <= 16\\'d-1567; twiddle_imag <= 16\\'d3784; end\\\\n            4\\'d12: begin twiddle_real <= 16\\'d0; twiddle_imag <= 16\\'d4096; end\\\\n            4\\'d13: begin twiddle_real <= 16\\'d1567; twiddle_imag <= 16\\'d3784; end\\\\n            4\\'d14: begin twiddle_real <= 16\\'d2896; twiddle_imag <= 16\\'d2896; end\\\\n            4\\'d15: begin twiddle_real <= 16\\'d3784; twiddle_imag <= 16\\'d1567; end\\\\n            default: begin twiddle_real <= 16\\'d0; twiddle_imag <= 16\\'d0; end\\\\n        endcase\\\\n    end\\\\nend\\\\n\\\\nendmodule\",\"test_bench_code\":\"`timescale 1ns / 1ps\\\\n\\\\nmodule tb_fft_twiddle_factor_16bit();\\\\n\\\\nreg [3:0] index;\\\\nwire [15:0] twiddle_real;\\\\nwire [15:0] twiddle_imag;\\\\nreg clk, rst;\\\\n\\\\nfft_twiddle_factor_16bit uut(\\\\n    .index(index),\\\\n    .twiddle_real(twiddle_real),\\\\n    .twiddle_imag(twiddle_imag),\\\\n    .clk(clk),\\\\n    .rst(rst)\\\\n);\\\\n\\\\ninitial begin\\\\n    clk = 0;\\\\n    forever #10 clk = ~clk;\\\\nend\\\\n\\\\ninitial begin\\\\n    rst = 1;\\\\n    #20;\\\\n    rst = 0;\\\\n    #20;\\\\n    \\\\n    // Test each index\\\\n    for (int i = 0; i < 16; i++) begin\\\\n        index = i;\\\\n        #20;\\\\n    end\\\\nend\\\\n\\\\nendmodule\"}', 'name': 'CodeModuleResponse'}}, response_metadata={'token_usage': {'completion_tokens': 963, 'prompt_tokens': 1081, 'total_tokens': 2044}, 'model_name': 'gpt-4-0125-preview', 'system_fingerprint': 'fp_b77cb481ed', 'finish_reason': 'function_call', 'logprobs': None})]}"
      ]
     },
     "execution_count": 143,
     "metadata": {},
     "output_type": "execute_result"
    }
   ],
   "source": [
    "response['__end__']"
   ]
  },
  {
   "cell_type": "markdown",
   "metadata": {
    "tags": [
     "parameters"
    ]
   },
   "source": [
    "# counting how many times the agent fails out of 10 repeats\n",
    "failure = 0\n",
    "outputs = []\n",
    "for i in range(10):\n",
    "    try:\n",
    "        output = app.invoke(inputs)\n",
    "        out = json.loads(output['messages'][-1].additional_kwargs[\"function_call\"][\"arguments\"])\n",
    "        outputs.append(out)\n",
    "    except:\n",
    "        failure += 1\n",
    "\n",
    "print(f'Failed {failure} times out of 10 runs.')\n",
    "out['graph']"
   ]
  },
  {
   "cell_type": "markdown",
   "metadata": {},
   "source": [
    "from openai import OpenAI\n",
    "client = OpenAI()\n",
    "import json\n",
    "from tqdm import tqdm\n",
    "\n",
    "l = {}\n",
    "for T in tqdm(range(0, 11)):\n",
    "    response = client.chat.completions.create(\n",
    "    model=\"gpt-3.5-turbo-0125\",\n",
    "    messages=[\n",
    "        {\n",
    "        \"role\": \"system\",\n",
    "        \"content\": \"You will be provided with a high level idea of a hardware. come up with a list of modules that such a hardware needs. only come up with a list of names.\"\n",
    "        },\n",
    "        {\n",
    "        \"role\": \"user\",\n",
    "        \"content\": \"We want to build a competitor to GPU based on conventional logic. We want this new tool to beat GPUs for AI applications.\"\n",
    "        }\n",
    "    ],\n",
    "    temperature=T*0.2,\n",
    "    max_tokens=400,\n",
    "    top_p=1\n",
    "    )\n",
    "    l[f'idea_{T}'] = {'T': T*0.2, 'content': response.choices[0].message.content}\n",
    "\n",
    "out_file = open(\"test_gpt_3.5.json\", \"w\") \n",
    "  \n",
    "json.dump(l, out_file, indent = 6) \n",
    "  \n",
    "out_file.close() "
   ]
  }
 ],
 "metadata": {
  "kernelspec": {
   "display_name": "base",
   "language": "python",
   "name": "python3"
  },
  "language_info": {
   "codemirror_mode": {
    "name": "ipython",
    "version": 3
   },
   "file_extension": ".py",
   "mimetype": "text/x-python",
   "name": "python",
   "nbconvert_exporter": "python",
   "pygments_lexer": "ipython3",
   "version": "3.10.9"
  },
  "orig_nbformat": 4
 },
 "nbformat": 4,
 "nbformat_minor": 2
}
