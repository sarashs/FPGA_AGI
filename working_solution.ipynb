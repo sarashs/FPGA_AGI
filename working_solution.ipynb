{
 "cells": [
  {
   "cell_type": "code",
   "execution_count": 1,
   "metadata": {},
   "outputs": [],
   "source": [
    "import os\n",
    "import json\n",
    "from collections import deque\n",
    "from typing import Dict, List, Optional, Any, Union\n",
    "\n",
    "from langchain_openai import ChatOpenAI\n",
    "\n",
    "\n",
    "# Get human objective\n",
    "# refine it via human in the loop and via adding context (short/long term memory search) -> the output is a json dict of the design\n",
    "# build the modules and test benches usiiing short and long term memory"
   ]
  },
  {
   "cell_type": "code",
   "execution_count": 2,
   "metadata": {},
   "outputs": [],
   "source": [
    "os.environ[\"OPENAI_API_KEY\"] = os.getenv(\"OPENAI_API_KEY\")\n",
    "os.environ[\"SERPAPI_API_KEY\"] = os.getenv(\"SERPAPI_API_KEY\")"
   ]
  },
  {
   "cell_type": "code",
   "execution_count": 3,
   "metadata": {},
   "outputs": [],
   "source": [
    "llm = ChatOpenAI(model='gpt-3.5-turbo-0125', temperature=0)\n",
    "bigllm = ChatOpenAI(model='gpt-4-0125-preview', temperature=0)"
   ]
  },
  {
   "cell_type": "markdown",
   "metadata": {},
   "source": [
    "# Context for FFT"
   ]
  },
  {
   "cell_type": "code",
   "execution_count": 4,
   "metadata": {},
   "outputs": [],
   "source": [
    "from bs4 import BeautifulSoup as Soup\n",
    "from langchain_community.document_loaders.recursive_url_loader import RecursiveUrlLoader\n",
    "\n",
    "# FFT docs \n",
    "url = \"\"\"https://en.wikipedia.org/wiki/Cooley%E2%80%93Tukey_FFT_algorithm\"\"\" #\"\"\"https://www.fpga4student.com/2017/04/verilog-code-for-16-bit-risc-processor.html\"\"\"\n",
    "loader = RecursiveUrlLoader(\n",
    "    url=url, max_depth=1, extractor=lambda x: Soup(x, \"html.parser\").text\n",
    ")\n",
    "docs = loader.load()\n",
    "\n",
    "# Add \n",
    "#docs.extend([*docs_pydantic, *docs_sq])\n",
    "\n",
    "# Sort the list based on the URLs in 'metadata' -> 'source'\n",
    "d_sorted = sorted(docs, key=lambda x: x.metadata[\"source\"])\n",
    "d_reversed = list(reversed(d_sorted))\n",
    "\n",
    "# Concatenate the 'page_content' of each sorted dictionary\n",
    "concatenated_content = \"\\n\\n\\n --- \\n\\n\\n\".join(\n",
    "    [doc.page_content for doc in d_reversed]\n",
    ")"
   ]
  },
  {
   "cell_type": "code",
   "execution_count": 5,
   "metadata": {},
   "outputs": [
    {
     "data": {
      "text/plain": [
       "34379"
      ]
     },
     "execution_count": 5,
     "metadata": {},
     "output_type": "execute_result"
    }
   ],
   "source": [
    "len(concatenated_content)"
   ]
  },
  {
   "cell_type": "markdown",
   "metadata": {},
   "source": [
    "# Requirement extraction chain"
   ]
  },
  {
   "cell_type": "code",
   "execution_count": 6,
   "metadata": {},
   "outputs": [
    {
     "data": {
      "text/plain": [
       "FPGA_AGI.chains.Requirements"
      ]
     },
     "execution_count": 6,
     "metadata": {},
     "output_type": "execute_result"
    }
   ],
   "source": [
    "from FPGA_AGI.chains import RequirementChain\n",
    "\n",
    "requirement_chain = RequirementChain.from_llm(bigllm)\n",
    "\n",
    "requirements = requirement_chain.invoke(\n",
    "    {\"objective\": \"design a 32 bit 16-point FFT to run on an ultra-96 v2 FPGA board. the language must be system verilog.\", #\"design an 8-bit RISC V processor in system verilog\", \n",
    "     \"context\" : concatenated_content}\n",
    ")\n",
    "\n",
    "type(requirements)"
   ]
  },
  {
   "cell_type": "code",
   "execution_count": 7,
   "metadata": {},
   "outputs": [
    {
     "name": "stdout",
     "output_type": "stream",
     "text": [
      "['Design a 32-bit 16-point FFT module.',\n",
      " 'Ensure compatibility with Ultra-96 V2 FPGA board.',\n",
      " 'Implement the design using SystemVerilog.',\n",
      " 'Optimize the design for speed and resource utilization.',\n",
      " 'Utilize the Cooley–Tukey FFT algorithm, specifically the radix-2 DIT '\n",
      " 'variant.']\n",
      "['The FFT module must support 32-bit wide complex number inputs and outputs.',\n",
      " 'The design must be capable of processing 16 data points per FFT operation.',\n",
      " 'The implementation must strictly use SystemVerilog HDL.',\n",
      " 'The design should be optimized for the Xilinx Zynq UltraScale+ MPSoC '\n",
      " 'architecture, considering the Ultra-96 V2 FPGA board specifications.']\n"
     ]
    }
   ],
   "source": [
    "import pprint\n",
    "pprint.pprint(requirements.goals)\n",
    "requirements.requirements = requirements.requirements[:4]\n",
    "pprint.pprint(requirements.requirements)"
   ]
  },
  {
   "cell_type": "markdown",
   "metadata": {},
   "source": [
    "# Research Agent"
   ]
  },
  {
   "cell_type": "code",
   "execution_count": 8,
   "metadata": {},
   "outputs": [],
   "source": [
    "# retriever\n",
    "\n",
    "from langchain_community.document_loaders import PyPDFLoader\n",
    "loader = PyPDFLoader(\"https://www.jot.fm/issues/issue_2009_07/column2.pdf\", extract_images=True) #\"https://riscv.org/wp-content/uploads/2017/05/riscv-spec-v2.2.pdf\"\n",
    "pages = loader.load()"
   ]
  },
  {
   "cell_type": "code",
   "execution_count": 9,
   "metadata": {},
   "outputs": [],
   "source": [
    "from langchain.vectorstores import Chroma\n",
    "from langchain.text_splitter import RecursiveCharacterTextSplitter\n",
    "from langchain_openai import OpenAIEmbeddings\n",
    "\n",
    "embeddings_3_small = OpenAIEmbeddings(model='text-embedding-3-small')\n",
    "text_splitter = RecursiveCharacterTextSplitter(chunk_size=2000, chunk_overlap=200)\n",
    "texts = text_splitter.split_documents(pages)\n",
    "pdfsearch = Chroma.from_documents(texts, embeddings_3_small, collection_name= \"knowledge_base\", persist_directory=\"./knowledge_base\")"
   ]
  },
  {
   "cell_type": "code",
   "execution_count": 21,
   "metadata": {},
   "outputs": [],
   "source": [
    "from FPGA_AGI import agents\n",
    "import importlib\n",
    "importlib.reload(agents)\n",
    "from FPGA_AGI.agents import Researcher\n",
    "from langchain_core.prompts import HumanMessagePromptTemplate\n",
    "\n",
    "bigllm = ChatOpenAI(model='gpt-4-0125-preview', temperature=0)\n",
    "R = Researcher(model=bigllm, retriever=pdfsearch.as_retriever(search_kwargs={\"k\": 5}))\n",
    "#R.stream(goals=requirements.goals, requirements=requirements.requirements, input_context= concatenated_content)\n",
    "result = R.planner_agent.invoke({'goals':requirements.goals, 'requirements':requirements.requirements, 'input_context': concatenated_content})"
   ]
  },
  {
   "cell_type": "code",
   "execution_count": 25,
   "metadata": {},
   "outputs": [
    {
     "name": "stdout",
     "output_type": "stream",
     "text": [
      "['search: Gather information on the Xilinx Zynq UltraScale+ MPSoC architecture '\n",
      " 'and the Ultra-96 V2 FPGA board specifications.',\n",
      " 'search: Research existing 32-bit 16-point FFT SystemVerilog implementations '\n",
      " 'for reference and optimization strategies.',\n",
      " 'search: Study the Cooley–Tukey FFT algorithm, specifically the radix-2 DIT '\n",
      " 'variant, and understand its mathematical foundation and implementation '\n",
      " 'requirements.',\n",
      " 'computes: Develop the mathematical model and pseudocode for the 32-bit '\n",
      " '16-point FFT module using the radix-2 DIT variant of the Cooley–Tukey '\n",
      " 'algorithm.',\n",
      " 'computes: Design the SystemVerilog code structure, including module '\n",
      " 'interfaces, data types, and control logic, ensuring compatibility with the '\n",
      " 'Ultra-96 V2 FPGA board.',\n",
      " 'computes: Optimize the SystemVerilog code for speed and resource utilization '\n",
      " 'on the Xilinx Zynq UltraScale+ MPSoC architecture, focusing on efficient use '\n",
      " 'of FPGA resources and parallel processing capabilities.',\n",
      " 'solution: Generate the final design in the form of HDL/HLS code, ready for '\n",
      " 'synthesis and deployment on the Ultra-96 V2 FPGA board.']\n"
     ]
    }
   ],
   "source": [
    "from pprint import pprint\n",
    "pprint(result[0].steps)"
   ]
  },
  {
   "cell_type": "code",
   "execution_count": null,
   "metadata": {},
   "outputs": [
    {
     "ename": "NameError",
     "evalue": "name 'human_message' is not defined",
     "output_type": "error",
     "traceback": [
      "\u001b[1;31m---------------------------------------------------------------------------\u001b[0m",
      "\u001b[1;31mNameError\u001b[0m                                 Traceback (most recent call last)",
      "Cell \u001b[1;32mIn[11], line 3\u001b[0m\n\u001b[0;32m      1\u001b[0m \u001b[38;5;66;03m#Adding supposed responses from the search agent\u001b[39;00m\n\u001b[0;32m      2\u001b[0m \u001b[38;5;28;01mfrom\u001b[39;00m \u001b[38;5;21;01mlangchain_core\u001b[39;00m\u001b[38;5;21;01m.\u001b[39;00m\u001b[38;5;21;01mmessages\u001b[39;00m \u001b[38;5;28;01mimport\u001b[39;00m HumanMessage\n\u001b[1;32m----> 3\u001b[0m \u001b[43mhuman_message\u001b[49m\u001b[38;5;241m.\u001b[39mappend(HumanMessage(content \u001b[38;5;241m=\u001b[39m \u001b[38;5;124m\"\u001b[39m\u001b[38;5;124mdecision=\u001b[39m\u001b[38;5;124m'\u001b[39m\u001b[38;5;124msearch\u001b[39m\u001b[38;5;124m'\u001b[39m\u001b[38;5;124m search=\u001b[39m\u001b[38;5;124m'\u001b[39m\u001b[38;5;124mRISC-V instruction set architecture\u001b[39m\u001b[38;5;124m'\u001b[39m\u001b[38;5;124m compute=\u001b[39m\u001b[38;5;124m'\u001b[39m\u001b[38;5;124mNA\u001b[39m\u001b[38;5;124m'\u001b[39m\u001b[38;5;124m\"\u001b[39m, name\u001b[38;5;241m=\u001b[39m\u001b[38;5;124m\"\u001b[39m\u001b[38;5;124mResearcher\u001b[39m\u001b[38;5;124m\"\u001b[39m))\n\u001b[0;32m      4\u001b[0m human_message\u001b[38;5;241m.\u001b[39mappend(HumanMessage(content \u001b[38;5;241m=\u001b[39m \u001b[38;5;124m\"\"\"\u001b[39m\n\u001b[0;32m      5\u001b[0m \u001b[38;5;124mINSTRUCTION RISC-V EPIPHANY COMMENT\u001b[39m\n\u001b[0;32m      6\u001b[0m \u001b[38;5;124mADDI 1 1\u001b[39m\n\u001b[1;32m   (...)\u001b[0m\n\u001b[0;32m     26\u001b[0m \u001b[38;5;124mTOTAL 20 12\u001b[39m\n\u001b[0;32m     27\u001b[0m \u001b[38;5;124m\"\"\"\u001b[39m, name\u001b[38;5;241m=\u001b[39m\u001b[38;5;124m\"\u001b[39m\u001b[38;5;124msearch\u001b[39m\u001b[38;5;124m\"\u001b[39m))\n",
      "\u001b[1;31mNameError\u001b[0m: name 'human_message' is not defined"
     ]
    }
   ],
   "source": [
    "#Adding supposed responses from the search agent\n",
    "from langchain_core.messages import HumanMessage\n",
    "human_message.append(HumanMessage(content = \"decision='search' search='RISC-V instruction set architecture' compute='NA'\", name=\"Researcher\"))\n",
    "human_message.append(HumanMessage(content = \"\"\"\n",
    "INSTRUCTION RISC-V EPIPHANY COMMENT\n",
    "ADDI 1 1\n",
    "SLTI 1 0 Not important enough\n",
    "SLTIU 1 0 Not important enough\n",
    "XORI 1 0 Load constant to register\n",
    "ORI 1 0 Load constant to register\n",
    "ANDI 1 0 Load constant to register\n",
    "SLLI 1 1\n",
    "SRLI 1 1\n",
    "SRAI 1 1\n",
    "ADDI 1 1\n",
    "SUB 1 1\n",
    "SLL 1 1\n",
    "SLT 1 0 Not important enough\n",
    "SLTU 1 0 Not important enough\n",
    "XOR 1 1\n",
    "SRL 1 1\n",
    "SRA 1 1\n",
    "ORI 1 1\n",
    "ANDI 1 1\n",
    "FENCE 1 0 Benefit minimal in good SW imho\n",
    "TOTAL 20 12\n",
    "\"\"\", name=\"search\"))"
   ]
  },
  {
   "cell_type": "code",
   "execution_count": null,
   "metadata": {},
   "outputs": [],
   "source": [
    "response = R.research_agent.invoke({\"messages\": human_message})"
   ]
  },
  {
   "cell_type": "code",
   "execution_count": null,
   "metadata": {},
   "outputs": [
    {
     "data": {
      "text/plain": [
       "'compute'"
      ]
     },
     "execution_count": 54,
     "metadata": {},
     "output_type": "execute_result"
    }
   ],
   "source": [
    "response[0].decision"
   ]
  },
  {
   "cell_type": "code",
   "execution_count": null,
   "metadata": {},
   "outputs": [],
   "source": [
    "test = []\n",
    "for i in range(20):\n",
    "    response = R.research_agent.invoke({\"messages\": human_message})\n",
    "    test.append(response)"
   ]
  },
  {
   "cell_type": "code",
   "execution_count": null,
   "metadata": {},
   "outputs": [
    {
     "data": {
      "text/plain": [
       "[[decision(decision='solution', search='NA', compute='NA')],\n",
       " [decision(decision='solution', search='NA', compute='NA')],\n",
       " [decision(decision='solution', search='NA', compute='NA')],\n",
       " [decision(decision='solution', search='NA', compute='NA')],\n",
       " [decision(decision='solution', search='NA', compute='NA')],\n",
       " [decision(decision='solution', search='NA', compute='NA')],\n",
       " [decision(decision='solution', search='NA', compute='NA')],\n",
       " [decision(decision='solution', search='NA', compute='NA')],\n",
       " [decision(decision='solution', search='NA', compute='NA')],\n",
       " [decision(decision='solution', search='NA', compute='NA')],\n",
       " [decision(decision='solution', search='NA', compute='NA')],\n",
       " [decision(decision='solution', search='NA', compute='NA')],\n",
       " [decision(decision='solution', search='NA', compute='NA')],\n",
       " [decision(decision='solution', search='NA', compute='NA')],\n",
       " [decision(decision='solution', search='NA', compute='NA')],\n",
       " [decision(decision='solution', search='NA', compute='NA')],\n",
       " [decision(decision='solution', search='NA', compute='NA')],\n",
       " [decision(decision='solution', search='NA', compute='NA')],\n",
       " [decision(decision='solution', search='NA', compute='NA')],\n",
       " [decision(decision='solution', search='NA', compute='NA')]]"
      ]
     },
     "execution_count": 40,
     "metadata": {},
     "output_type": "execute_result"
    }
   ],
   "source": [
    "test"
   ]
  },
  {
   "cell_type": "markdown",
   "metadata": {},
   "source": [
    "# Compute Agent"
   ]
  },
  {
   "cell_type": "code",
   "execution_count": null,
   "metadata": {},
   "outputs": [],
   "source": [
    "from langchain_core.messages import BaseMessage, HumanMessage, SystemMessage, FunctionMessage\n",
    "from langchain.prompts import PromptTemplate, MessagesPlaceholder, ChatPromptTemplate\n",
    "from FPGA_AGI.tools import python_run\n",
    "from langchain.agents import AgentExecutor, create_openai_tools_agent\n",
    "messages = [HumanMessage(content = \"compute the twiddle factors of 64 point FFT\", name=\"Researcher\")]\n",
    "#response = R.compute_agent.invoke({\"messages\": messages})\n",
    "\n",
    "#compute_llm_with_tool = bigllm.bind(\n",
    "#    tools=[python_run],\n",
    "#    tool_choice={\"type\": \"function\", \"function\": {\"name\": \"python_run\"}},\n",
    "#)\n",
    "\n",
    "## Prompt\n",
    "#compute_prompt = ChatPromptTemplate.from_messages(\n",
    "#    [(\n",
    "#            \"system\",\"\"\"\n",
    "#            You are a hardware engineer helping a senior hardware engineer with their computational needs. In order to do that you use python.\"\"\"\n",
    "#        ),\n",
    "#        MessagesPlaceholder(variable_name=\"messages\"),\n",
    "#    ]\n",
    "#)\n",
    "## Chain\n",
    "#compute_agent = compute_prompt | compute_llm_with_tool | JsonOutputFunctionsParser()\n",
    "\n",
    "\n",
    "system_prompt = \"\"\"You are a hardware engineer helping a senior hardware engineer with their computational needs. In order to do that you use python.\n",
    "Work autonomously according to your specialty, using the tools available to you.\n",
    "You must write a code to compute what is asked of you in python to answer the question.\n",
    "Do not answer based on your own knowledge/memory. instead write a python code that computes the answer, run it, and observe the results.\n",
    "You must print the results in your response no matter how long or large they might be. \n",
    "You must completely print the results. Do not leave any place holders. Do not use ... \n",
    "Do not ask for clarification. You also do not refuse to answer the question.\n",
    "Your other team members (and other teams) will collaborate with you with their own specialties.\"\"\"\n",
    "prompt = ChatPromptTemplate.from_messages(\n",
    "    [\n",
    "        (\n",
    "            \"system\",\n",
    "            system_prompt,\n",
    "        ),\n",
    "        MessagesPlaceholder(variable_name=\"messages\"),\n",
    "        MessagesPlaceholder(variable_name=\"agent_scratchpad\"),\n",
    "    ]\n",
    ")\n",
    "agent = create_openai_tools_agent(bigllm, [python_run], prompt)\n",
    "executor = AgentExecutor(agent=agent, tools=[python_run])"
   ]
  },
  {
   "cell_type": "code",
   "execution_count": null,
   "metadata": {},
   "outputs": [],
   "source": [
    "#compute_agent.invoke({\"messages\": messages})\n",
    "#python_run\n",
    "response = executor.invoke({\"messages\": messages})"
   ]
  },
  {
   "cell_type": "code",
   "execution_count": null,
   "metadata": {},
   "outputs": [
    {
     "data": {
      "text/plain": [
       "'W0: (1+0j)\\nW1: (0.9987954562051724-0.049067674327418015j)\\nW2: (0.9951847266721969-0.0980171403295606j)\\nW3: (0.989176509964781-0.14673047445536175j)\\nW4: (0.9807852804032304-0.19509032201612825j)\\nW5: (0.970031253194544-0.24298017990326387j)\\nW6: (0.9569403357322088-0.29028467725446233j)\\nW7: (0.9415440651830208-0.33688985339222005j)\\nW8: (0.9238795325112867-0.3826834323650898j)\\nW9: (0.9039892931234433-0.4275550934302821j)\\nW10: (0.881921264348355-0.47139673682599764j)\\nW11: (0.8577286100002721-0.5141027441932217j)\\nW12: (0.8314696123025452-0.5555702330196022j)\\nW13: (0.8032075314806449-0.5956993044924334j)\\nW14: (0.773010453362737-0.6343932841636455j)\\nW15: (0.7409511253549591-0.6715589548470183j)\\nW16: (0.7071067811865476-0.7071067811865475j)\\nW17: (0.6715589548470183-0.7409511253549591j)\\nW18: (0.6343932841636455-0.773010453362737j)\\nW19: (0.5956993044924334-0.8032075314806449j)\\nW20: (0.5555702330196022-0.8314696123025452j)\\nW21: (0.5141027441932217-0.8577286100002721j)\\nW22: (0.47139673682599764-0.881921264348355j)\\nW23: (0.4275550934302821-0.9039892931234433j)\\nW24: (0.3826834323650898-0.9238795325112867j)\\nW25: (0.33688985339222005-0.9415440651830208j)\\nW26: (0.29028467725446233-0.9569403357322088j)\\nW27: (0.24298017990326387-0.970031253194544j)\\nW28: (0.19509032201612825-0.9807852804032304j)\\nW29: (0.14673047445536175-0.989176509964781j)\\nW30: (0.0980171403295606-0.9951847266721969j)\\nW31: (0.049067674327418015-0.9987954562051724j)\\nW32: (6.123233995736766e-17-1j)\\nW33: (-0.049067674327418015-0.9987954562051724j)\\nW34: (-0.0980171403295606-0.9951847266721969j)\\nW35: (-0.14673047445536175-0.989176509964781j)\\nW36: (-0.19509032201612825-0.9807852804032304j)\\nW37: (-0.24298017990326387-0.970031253194544j)\\nW38: (-0.29028467725446233-0.9569403357322088j)\\nW39: (-0.33688985339222005-0.9415440651830208j)\\nW40: (-0.3826834323650898-0.9238795325112867j)\\nW41: (-0.4275550934302821-0.9039892931234433j)\\nW42: (-0.47139673682599764-0.881921264348355j)\\nW43: (-0.5141027441932217-0.8577286100002721j)\\nW44: (-0.5555702330196022-0.8314696123025452j)\\nW45: (-0.5956993044924334-0.8032075314806449j)\\nW46: (-0.6343932841636455-0.773010453362737j)\\nW47: (-0.6715589548470183-0.7409511253549591j)\\nW48: (-0.7071067811865475-0.7071067811865476j)\\nW49: (-0.7409511253549591-0.6715589548470183j)\\nW50: (-0.773010453362737-0.6343932841636455j)\\nW51: (-0.8032075314806449-0.5956993044924334j)\\nW52: (-0.8314696123025452-0.5555702330196022j)\\nW53: (-0.8577286100002721-0.5141027441932217j)\\nW54: (-0.881921264348355-0.47139673682599764j)\\nW55: (-0.9039892931234433-0.4275550934302821j)\\nW56: (-0.9238795325112867-0.3826834323650898j)\\nW57: (-0.9415440651830208-0.33688985339222005j)\\nW58: (-0.9569403357322088-0.29028467725446233j)\\nW59: (-0.970031253194544-0.24298017990326387j)\\nW60: (-0.9807852804032304-0.19509032201612825j)\\nW61: (-0.989176509964781-0.14673047445536175j)\\nW62: (-0.9951847266721969-0.0980171403295606j)\\nW63: (-0.9987954562051724-0.049067674327418015j)'"
      ]
     },
     "execution_count": 44,
     "metadata": {},
     "output_type": "execute_result"
    }
   ],
   "source": [
    "response['output']"
   ]
  },
  {
   "cell_type": "markdown",
   "metadata": {},
   "source": [
    "# Modular design agent"
   ]
  },
  {
   "cell_type": "code",
   "execution_count": null,
   "metadata": {},
   "outputs": [
    {
     "name": "stdout",
     "output_type": "stream",
     "text": [
      "Thought\n",
      "search_web\n",
      "Thought\n"
     ]
    }
   ],
   "source": [
    "from FPGA_AGI.tools import search_web, python_run, Thought\n",
    "from langchain_community.tools.tavily_search import TavilySearchResults, TavilyAnswer\n",
    "from FPGA_AGI.agents import HierarchicalDesignAgent\n",
    "\n",
    "#gpt-4-0125-preview\n",
    "model = ChatOpenAI(model='gpt-4-1106-preview', temperature=0, streaming=True)\n",
    "\n",
    "tools = [search_web]\n",
    "\n",
    "agent = HierarchicalDesignAgent(model, tools)\n",
    "\n",
    "hierarchical_response = agent.invoke(requirements.goals, requirements.requirements)"
   ]
  },
  {
   "cell_type": "code",
   "execution_count": null,
   "metadata": {},
   "outputs": [
    {
     "data": {
      "image/png": "[encoded data removed]",
      "text/plain": [
       "<Figure size 1200x800 with 1 Axes>"
      ]
     },
     "metadata": {},
     "output_type": "display_data"
    }
   ],
   "source": [
    "from FPGA_AGI.utils import plot_graph\n",
    "\n",
    "plot_graph(hierarchicalmodules = hierarchical_response, save_path = None)"
   ]
  },
  {
   "cell_type": "code",
   "execution_count": null,
   "metadata": {},
   "outputs": [
    {
     "data": {
      "text/plain": [
       "[Module(name='TopModule', description='Top-level module for the 8-bit RISC-V processor implementing the Harvard architecture.', connections=['ControlUnit', 'ALU', 'RegisterFile', 'InstructionMemory', 'DataMemory'], ports=['clk', 'reset'], notes=\"This module will instantiate all the submodules and wire them together according to the processor's data path and control path requirements.\"),\n",
       " Module(name='ControlUnit', description='Generates control signals for the processor based on the current instruction.', connections=['ALUControl', 'TopModule'], ports=['instruction[31:0]', 'control_signals'], notes='This module will decode the instruction and generate signals for the ALU, memory access, and register file operations.'),\n",
       " Module(name='ALUControl', description='Generates the ALU operation code based on the instruction opcode.', connections=['ALU', 'ControlUnit'], ports=['opcode[6:0]', 'ALU_operation'], notes='This module will decode the opcode and generate the corresponding ALU operation code.'),\n",
       " Module(name='ALU', description='Arithmetic Logic Unit that performs computations based on control signals.', connections=['ALUControl', 'TopModule'], ports=['operand1[7:0]', 'operand2[7:0]', 'ALU_operation', 'result[7:0]', 'zero'], notes='This module will perform arithmetic and logical operations as per the ALU control signals.'),\n",
       " Module(name='RegisterFile', description='Module containing the register file with read and write functionality.', connections=['TopModule'], ports=['read_reg1[2:0]', 'read_reg2[2:0]', 'write_reg[2:0]', 'write_data[7:0]', 'read_data1[7:0]', 'read_data2[7:0]', 'write_enable'], notes='This module will handle the read and write operations to the registers. It should support simultaneous reads during a single clock cycle and a write on the next clock edge.'),\n",
       " Module(name='InstructionMemory', description='Memory module that stores the instructions to be executed by the processor.', connections=['TopModule'], ports=['address[7:0]', 'instruction[31:0]'], notes='This module will be pre-loaded with the instruction sequence and provide instructions based on the program counter address.'),\n",
       " Module(name='DataMemory', description='Memory module for storing data used by the processor.', connections=['TopModule'], ports=['address[7:0]', 'write_data[7:0]', 'read_data[7:0]', 'mem_write', 'mem_read'], notes='This module will handle the Load and Store instructions, allowing the processor to read from and write to memory.')]"
      ]
     },
     "execution_count": 14,
     "metadata": {},
     "output_type": "execute_result"
    }
   ],
   "source": [
    "hierarchical_response.graph"
   ]
  },
  {
   "cell_type": "markdown",
   "metadata": {},
   "source": [
    "# More agents"
   ]
  },
  {
   "cell_type": "code",
   "execution_count": null,
   "metadata": {},
   "outputs": [],
   "source": [
    "goals = 'Design an 8-bit RISC V processor using SystemVerilog.' \n",
    "\n",
    "requirements = '\\n'.join(['1. The processor must be designed based on the RISC V instruction set and '\n",
    "'should follow a Harvard-type data path structure.',\n",
    "'2. Implement memory access instructions including Load Word (LD) and Store '\n",
    "'Word (ST) with the specified operations.',\n",
    "'3. Implement data processing instructions including Add (ADD), Subtract '\n",
    "'(SUB), Invert (INV), Logical Shift Left (LSL), Logical Shift Right (LSR), '\n",
    "'Bitwise AND (AND), Bitwise OR (OR), and Set on Less Than (SLT) with the '\n",
    "'specified operations.',\n",
    "'4. Implement control flow instructions including Branch on Equal (BEQ), '\n",
    "'Branch on Not Equal (BNE), and Jump (JMP) with the specified operations.',\n",
    "'5. Design the processor control unit to generate appropriate control signals '\n",
    "'for each instruction type.',\n",
    "'6. Design the ALU control unit to generate the correct ALU operation based '\n",
    "'on the ALUOp signal and the opcode.',\n",
    "'7. Implement instruction memory, data memory, register file, ALU, ALU '\n",
    "'control unit, datapath unit, and control unit modules in SystemVerilog.',\n",
    "'8. Ensure the processor supports a 16-bit instruction format and operates on '\n",
    "'8-bit data widths.',\n",
    "'9. The processor must be capable of executing the provided instruction set '\n",
    "'with correct control and data flow for each instruction type.',\n",
    "'10. Verify the processor design using a testbench that simulates various '\n",
    "'instruction executions and validates the functionality of the processor.'])"
   ]
  },
  {
   "cell_type": "code",
   "execution_count": null,
   "metadata": {},
   "outputs": [
    {
     "data": {
      "text/plain": [
       "[SystemMessage(content='You are an FPGA design engineer whose purpose is to design the architecture graph of a HDL hardware project.\\n            You are deciding on the module names, description, ports, what modules each module is connected to. You also include notes on anything that may be necessary in order for the downstream logic designers.\\n            - You must expand your knowledge on the subject matter via the seach tool before committing to a response.\\n            - You are not responsible for designing a test bench.\\n            - If you are defining a top module or any other hierarchy, you must mention that in the module description.\\n\\n            Use the following format:\\n\\n            Thought: You should think of an action. You do this by calling the Though tool/function. This is the only way to think.\\n            Action: the action to take, should be one of the functions you have access to.\\n            ... (this Thought/Action can repeat 3 times)\\n            Response: You should use the HierarchicalResponse tool to format your response. Do not return your final response without using the HierarchicalResponse tool'),\n",
       " HumanMessage(content=\"Design the architecture graph for the following goals and requirements.\\n\\n                Goals:\\n                Design an 8-bit RISC V processor using SystemVerilog.\\n                \\n                Requirements:\\n                ['1. The processor must be designed based on the RISC V instruction set and should follow a Harvard-type data path structure.', '2. Implement memory access instructions including Load Word (LD) and Store Word (ST) with the specified operations.', '3. Implement data processing instructions including Add (ADD), Subtract (SUB), Invert (INV), Logical Shift Left (LSL), Logical Shift Right (LSR), Bitwise AND (AND), Bitwise OR (OR), and Set on Less Than (SLT) with the specified operations.', '4. Implement control flow instructions including Branch on Equal (BEQ), Branch on Not Equal (BNE), and Jump (JMP) with the specified operations.', '5. Design the processor control unit to generate appropriate control signals for each instruction type.', '6. Design the ALU control unit to generate the correct ALU operation based on the ALUOp signal and the opcode.', '7. Implement instruction memory, data memory, register file, ALU, ALU control unit, datapath unit, and control unit modules in SystemVerilog.', '8. Ensure the processor supports a 16-bit instruction format and operates on 8-bit data widths.', '9. The processor must be capable of executing the provided instruction set with correct control and data flow for each instruction type.', '10. Verify the processor design using a testbench that simulates various instruction executions and validates the functionality of the processor.']\\n                \")]"
      ]
     },
     "execution_count": 5,
     "metadata": {},
     "output_type": "execute_result"
    }
   ],
   "source": [
    "from FPGA_AGI.prompts import hierarchical_agent_prompt\n",
    "\n",
    "hierarchical_agent_prompt.format_prompt(goals=goals, requirements=requirements).to_messages()"
   ]
  },
  {
   "cell_type": "markdown",
   "metadata": {
    "tags": [
     "parameters"
    ]
   },
   "source": [
    "# counting how many times the agent fails out of 10 repeats\n",
    "failure = 0\n",
    "outputs = []\n",
    "for i in range(10):\n",
    "    try:\n",
    "        output = app.invoke(inputs)\n",
    "        out = json.loads(output['messages'][-1].additional_kwargs[\"function_call\"][\"arguments\"])\n",
    "        outputs.append(out)\n",
    "    except:\n",
    "        failure += 1\n",
    "\n",
    "print(f'Failed {failure} times out of 10 runs.')\n",
    "out['graph']"
   ]
  },
  {
   "cell_type": "markdown",
   "metadata": {},
   "source": [
    "from openai import OpenAI\n",
    "client = OpenAI()\n",
    "import json\n",
    "from tqdm import tqdm\n",
    "\n",
    "l = {}\n",
    "for T in tqdm(range(0, 11)):\n",
    "    response = client.chat.completions.create(\n",
    "    model=\"gpt-3.5-turbo-0125\",\n",
    "    messages=[\n",
    "        {\n",
    "        \"role\": \"system\",\n",
    "        \"content\": \"You will be provided with a high level idea of a hardware. come up with a list of modules that such a hardware needs. only come up with a list of names.\"\n",
    "        },\n",
    "        {\n",
    "        \"role\": \"user\",\n",
    "        \"content\": \"We want to build a competitor to GPU based on conventional logic. We want this new tool to beat GPUs for AI applications.\"\n",
    "        }\n",
    "    ],\n",
    "    temperature=T*0.2,\n",
    "    max_tokens=400,\n",
    "    top_p=1\n",
    "    )\n",
    "    l[f'idea_{T}'] = {'T': T*0.2, 'content': response.choices[0].message.content}\n",
    "\n",
    "out_file = open(\"test_gpt_3.5.json\", \"w\") \n",
    "  \n",
    "json.dump(l, out_file, indent = 6) \n",
    "  \n",
    "out_file.close() "
   ]
  },
  {
   "cell_type": "code",
   "execution_count": null,
   "metadata": {},
   "outputs": [],
   "source": []
  }
 ],
 "metadata": {
  "kernelspec": {
   "display_name": "base",
   "language": "python",
   "name": "python3"
  },
  "language_info": {
   "codemirror_mode": {
    "name": "ipython",
    "version": 3
   },
   "file_extension": ".py",
   "mimetype": "text/x-python",
   "name": "python",
   "nbconvert_exporter": "python",
   "pygments_lexer": "ipython3",
   "version": "3.10.9"
  },
  "orig_nbformat": 4
 },
 "nbformat": 4,
 "nbformat_minor": 2
}
