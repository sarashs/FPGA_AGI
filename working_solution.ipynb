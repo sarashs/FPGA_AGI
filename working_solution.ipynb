{
 "cells": [
  {
   "cell_type": "code",
   "execution_count": null,
   "metadata": {},
   "outputs": [],
   "source": [
    "import os\n",
    "import json\n",
    "from collections import deque\n",
    "from typing import Dict, List, Optional, Any, Union\n",
    "\n",
    "from langchain.chat_models import ChatOpenAI\n",
    "\n",
    "\n",
    "# Get human objective\n",
    "# refine it via human in the loop and via adding context (short/long term memory search) -> the output is a json dict of the design\n",
    "# build the modules and test benches usiiing short and long term memory"
   ]
  },
  {
   "cell_type": "code",
   "execution_count": null,
   "metadata": {},
   "outputs": [],
   "source": [
    "os.environ[\"OPENAI_API_KEY\"] = os.getenv(\"OPENAI_API_KEY\")\n",
    "os.environ[\"SERPAPI_API_KEY\"] = os.getenv(\"SERPAPI_API_KEY\")"
   ]
  },
  {
   "cell_type": "code",
   "execution_count": null,
   "metadata": {},
   "outputs": [],
   "source": [
    "llm = ChatOpenAI(model='gpt-4', temperature=0)\n",
    "bigllm = ChatOpenAI(model='gpt-4-1106-preview', temperature=0)"
   ]
  },
  {
   "cell_type": "code",
   "execution_count": null,
   "metadata": {},
   "outputs": [],
   "source": [
    "import FPGA_AGI.agents"
   ]
  },
  {
   "cell_type": "markdown",
   "metadata": {},
   "source": [
    "## FPGA-AGI"
   ]
  },
  {
   "cell_type": "code",
   "execution_count": null,
   "metadata": {},
   "outputs": [],
   "source": [
    "fpga_agi_instance = FPGA_AGI.agents.FPGA_AGI.from_llm(llm=bigllm, verbose=True)\n",
    "\n",
    "objective = \"\"\"\n",
    "{\n",
    "    \"Module_Name\": \"state_machine\",\n",
    "    \"ports\": [\"input clk\", \"input rst\", \"input e\", \"output 2 bits state\"],\n",
    "    \"description\": \"a state machine that when input is high will go to the next state. it will have 3 states start, work and idle the value of these states is outputed via the wire state\",\n",
    "    \"connections\": [\"None\"],\n",
    "    \"hdl_language\": \"system verilog\"\n",
    "}\n",
    "\"\"\"\n",
    "fpga_agi_instance(objective=objective ,action_type='hdl')\n",
    "#fpga_agi_instance(objective=\"design a very simple 32 bit risc-v cpu in verilog. The cpu will be a softcore solution for zync ultrascale devices and it must connect to the PS side of the FPGA via AXI-stream for the data and AXI-lite for the control. As a note, I am going to use pynq to connect to this device so these axi interfaces must be pynq compatible as much as possible.\" ,action_type='module')"
   ]
  },
  {
   "cell_type": "code",
   "execution_count": null,
   "metadata": {},
   "outputs": [],
   "source": [
    "fpga_agi_instance.codes"
   ]
  },
  {
   "cell_type": "code",
   "execution_count": null,
   "metadata": {},
   "outputs": [],
   "source": [
    "objective = \"\"\"\n",
    "I want you to design and code a working 32 bit RISC-V CPU with the following instruction set:\n",
    "| Instruction | Format | Meaning                       |\n",
    "|-------------|--------|-------------------------------|\n",
    "| add         | R      | Add registers                 |\n",
    "| sub         | R      | Subtract registers            |\n",
    "| sll         | R      | Shift left logical by register|\n",
    "| srl         | R      | Shift right logical by register|\n",
    "| sra         | R      | Shift right arithmetic by register|\n",
    "| and         | R      | Bitwise AND with register     |\n",
    "| or          | R      | Bitwise OR with register      |\n",
    "| xor         | R      | Bitwise XOR with register     |\n",
    "| slt         | R      | Set if less than register, 2's complement|\n",
    "| sltu        | R      | Set if less than register, unsigned|\n",
    "| addi        | I      | Add immediate                 |\n",
    "| slli        | I      | Shift left logical by immediate|\n",
    "| srli        | I      | Shift right logical by immediate|\n",
    "| srai        | I      | Shift right arithmetic by immediate|\n",
    "| andi        | I      | Bitwise AND with immediate    |\n",
    "| ori         | I      | Bitwise OR with immediate     |\n",
    "| xori        | I      | Bitwise XOR with immediate    |\n",
    "| slti        | I      | Set if less than immediate, 2's complement|\n",
    "| sltiu       | I      | Set if less than immediate, unsigned|\n",
    "| lui         | U      | Load upper immediate          |\n",
    "| auipc       | U      | Add upper immediate to pc     |\n",
    "\n",
    "Include the above table in the requirement.\n",
    "The CPU will be implemented on a ultra-96 v2 board.\n",
    "The CPU must communicate with the PS side of the FPGA via AXI-stream for data/instructions and AXI-lite for control.\n",
    "The AXI interfaces must be PYNQ compatible as I intend to use Python Pynq to send instructions, data and start/stop commands to the CPU.\n",
    "The CPU must have separate instruction and data memory.\n",
    "\"\"\"\n",
    "fpga_agi_instance(objective=objective ,action_type='full')\n",
    "#fpga_agi_instance.requirement_agent_executor.run(objective)"
   ]
  }
 ],
 "metadata": {
  "kernelspec": {
   "display_name": "base",
   "language": "python",
   "name": "python3"
  },
  "language_info": {
   "codemirror_mode": {
    "name": "ipython",
    "version": 3
   },
   "file_extension": ".py",
   "mimetype": "text/x-python",
   "name": "python",
   "nbconvert_exporter": "python",
   "pygments_lexer": "ipython3",
   "version": "3.10.9"
  },
  "orig_nbformat": 4
 },
 "nbformat": 4,
 "nbformat_minor": 2
}
